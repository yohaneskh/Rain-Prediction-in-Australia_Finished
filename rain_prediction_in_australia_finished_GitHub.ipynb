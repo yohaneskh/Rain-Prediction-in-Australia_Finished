{
  "cells": [
    {
      "cell_type": "markdown",
      "id": "0c237f01",
      "metadata": {
        "papermill": {
          "duration": 0.031202,
          "end_time": "2025-05-14T04:13:32.507758",
          "exception": false,
          "start_time": "2025-05-14T04:13:32.476556",
          "status": "completed"
        },
        "tags": [],
        "id": "0c237f01"
      },
      "source": [
        "Hi everyone.\n",
        "My name is Yohanes Kurniawan Hertanto and I'm just starting my study on data science and AI.\n",
        "I'm still a beginner in data analysis, data processing and AI engineering world, but I'm also a millenial noob in IT world.\n",
        "\n",
        "Right now, I'm practising on using Python in experiementing with data analysis and creating a machine learning model of certain weather dataset from Australia.\n",
        "The Australian weather dataset that I used is available on Kaggle and the data itself contained weather anomaly from November 1st, 2007 until June 25th, 2017.\n",
        "The data was taken from various cities and location in Australia during that period.\n",
        "The mission is to try creating a machine learning model using Logistic Regression in order to predict the chance of rainfall for the next day.\n",
        "\n",
        "Since I have no experience in using Python or doing any data processing, I was given clues and directions by a friend of mine on how to analyze and process this dataset.\n",
        "You can see my work below on the Australian weather dataset and I'm planning to analyze more datasets in order to familiarize myself with Python, data science and AI engineering.\n",
        "\n",
        "Feel free to enlighten me and highlight my mistakes so that I can refine my work for this dataset."
      ]
    },
    {
      "cell_type": "code",
      "execution_count": null,
      "id": "a76737b3",
      "metadata": {
        "_cell_guid": "fee5756d-a62b-430c-86eb-b692eca5612a",
        "_uuid": "dd8c4084-5c20-41f7-8693-54966f23d882",
        "execution": {
          "iopub.execute_input": "2025-05-14T04:13:32.568363Z",
          "iopub.status.busy": "2025-05-14T04:13:32.567809Z",
          "iopub.status.idle": "2025-05-14T04:13:37.909852Z",
          "shell.execute_reply": "2025-05-14T04:13:37.908437Z"
        },
        "jupyter": {
          "outputs_hidden": false
        },
        "papermill": {
          "duration": 5.374217,
          "end_time": "2025-05-14T04:13:37.911704",
          "exception": false,
          "start_time": "2025-05-14T04:13:32.537487",
          "status": "completed"
        },
        "tags": [],
        "id": "a76737b3",
        "outputId": "7bee49b2-e7e3-4395-db4b-44adf9705ee7"
      },
      "outputs": [
        {
          "name": "stdout",
          "output_type": "stream",
          "text": [
            "/kaggle/input/weather-dataset-rattle-package/weatherAUS.csv\n"
          ]
        }
      ],
      "source": [
        "import numpy as np # for processing numerical data variables in the shape of arrays\n",
        "import pandas as pd # for analyzing data variables in the shape of tables\n",
        "import matplotlib.pyplot as plt # for data visualization\n",
        "import seaborn as sns # for statistical data visualization\n",
        "%matplotlib inline\n",
        "\n",
        "import scipy.stats as stats\n",
        "import statsmodels.api as sm\n",
        "\n",
        "from sklearn.model_selection import train_test_split\n",
        "from sklearn.preprocessing import StandardScaler, MinMaxScaler, LabelEncoder\n",
        "from sklearn.impute import SimpleImputer\n",
        "from sklearn.feature_selection import SelectKBest, f_classif\n",
        "\n",
        "from sklearn.linear_model import LogisticRegression\n",
        "\n",
        "from sklearn.metrics import accuracy_score, classification_report, confusion_matrix\n",
        "\n",
        "import os\n",
        "for dirname, _, filenames in os.walk('/kaggle/input'):\n",
        "    for filename in filenames:\n",
        "        print(os.path.join(dirname, filename))\n",
        "\n",
        "import warnings\n",
        "warnings.filterwarnings(\"ignore\")"
      ]
    },
    {
      "cell_type": "code",
      "execution_count": null,
      "id": "b376414b",
      "metadata": {
        "_cell_guid": "0bfaa2d4-8e6d-49bc-9643-f69c5463e25d",
        "_uuid": "1b027fa0-ddc2-4f9f-9dd8-de873ab1f822",
        "execution": {
          "iopub.execute_input": "2025-05-14T04:13:37.970952Z",
          "iopub.status.busy": "2025-05-14T04:13:37.970448Z",
          "iopub.status.idle": "2025-05-14T04:13:38.661274Z",
          "shell.execute_reply": "2025-05-14T04:13:38.660150Z"
        },
        "jupyter": {
          "outputs_hidden": false
        },
        "papermill": {
          "duration": 0.722175,
          "end_time": "2025-05-14T04:13:38.663024",
          "exception": false,
          "start_time": "2025-05-14T04:13:37.940849",
          "status": "completed"
        },
        "tags": [],
        "id": "b376414b",
        "outputId": "e7615ece-bb1c-4b0f-ffaf-26771c6f5c8b"
      },
      "outputs": [
        {
          "data": {
            "text/html": [
              "<div>\n",
              "<style scoped>\n",
              "    .dataframe tbody tr th:only-of-type {\n",
              "        vertical-align: middle;\n",
              "    }\n",
              "\n",
              "    .dataframe tbody tr th {\n",
              "        vertical-align: top;\n",
              "    }\n",
              "\n",
              "    .dataframe thead th {\n",
              "        text-align: right;\n",
              "    }\n",
              "</style>\n",
              "<table border=\"1\" class=\"dataframe\">\n",
              "  <thead>\n",
              "    <tr style=\"text-align: right;\">\n",
              "      <th></th>\n",
              "      <th>Date</th>\n",
              "      <th>Location</th>\n",
              "      <th>MinTemp</th>\n",
              "      <th>MaxTemp</th>\n",
              "      <th>Rainfall</th>\n",
              "      <th>Evaporation</th>\n",
              "      <th>Sunshine</th>\n",
              "      <th>WindGustDir</th>\n",
              "      <th>WindGustSpeed</th>\n",
              "      <th>WindDir9am</th>\n",
              "      <th>...</th>\n",
              "      <th>Humidity9am</th>\n",
              "      <th>Humidity3pm</th>\n",
              "      <th>Pressure9am</th>\n",
              "      <th>Pressure3pm</th>\n",
              "      <th>Cloud9am</th>\n",
              "      <th>Cloud3pm</th>\n",
              "      <th>Temp9am</th>\n",
              "      <th>Temp3pm</th>\n",
              "      <th>RainToday</th>\n",
              "      <th>RainTomorrow</th>\n",
              "    </tr>\n",
              "  </thead>\n",
              "  <tbody>\n",
              "    <tr>\n",
              "      <th>0</th>\n",
              "      <td>2008-12-01</td>\n",
              "      <td>Albury</td>\n",
              "      <td>13.4</td>\n",
              "      <td>22.9</td>\n",
              "      <td>0.6</td>\n",
              "      <td>NaN</td>\n",
              "      <td>NaN</td>\n",
              "      <td>W</td>\n",
              "      <td>44.0</td>\n",
              "      <td>W</td>\n",
              "      <td>...</td>\n",
              "      <td>71.0</td>\n",
              "      <td>22.0</td>\n",
              "      <td>1007.7</td>\n",
              "      <td>1007.1</td>\n",
              "      <td>8.0</td>\n",
              "      <td>NaN</td>\n",
              "      <td>16.9</td>\n",
              "      <td>21.8</td>\n",
              "      <td>No</td>\n",
              "      <td>No</td>\n",
              "    </tr>\n",
              "    <tr>\n",
              "      <th>1</th>\n",
              "      <td>2008-12-02</td>\n",
              "      <td>Albury</td>\n",
              "      <td>7.4</td>\n",
              "      <td>25.1</td>\n",
              "      <td>0.0</td>\n",
              "      <td>NaN</td>\n",
              "      <td>NaN</td>\n",
              "      <td>WNW</td>\n",
              "      <td>44.0</td>\n",
              "      <td>NNW</td>\n",
              "      <td>...</td>\n",
              "      <td>44.0</td>\n",
              "      <td>25.0</td>\n",
              "      <td>1010.6</td>\n",
              "      <td>1007.8</td>\n",
              "      <td>NaN</td>\n",
              "      <td>NaN</td>\n",
              "      <td>17.2</td>\n",
              "      <td>24.3</td>\n",
              "      <td>No</td>\n",
              "      <td>No</td>\n",
              "    </tr>\n",
              "    <tr>\n",
              "      <th>2</th>\n",
              "      <td>2008-12-03</td>\n",
              "      <td>Albury</td>\n",
              "      <td>12.9</td>\n",
              "      <td>25.7</td>\n",
              "      <td>0.0</td>\n",
              "      <td>NaN</td>\n",
              "      <td>NaN</td>\n",
              "      <td>WSW</td>\n",
              "      <td>46.0</td>\n",
              "      <td>W</td>\n",
              "      <td>...</td>\n",
              "      <td>38.0</td>\n",
              "      <td>30.0</td>\n",
              "      <td>1007.6</td>\n",
              "      <td>1008.7</td>\n",
              "      <td>NaN</td>\n",
              "      <td>2.0</td>\n",
              "      <td>21.0</td>\n",
              "      <td>23.2</td>\n",
              "      <td>No</td>\n",
              "      <td>No</td>\n",
              "    </tr>\n",
              "    <tr>\n",
              "      <th>3</th>\n",
              "      <td>2008-12-04</td>\n",
              "      <td>Albury</td>\n",
              "      <td>9.2</td>\n",
              "      <td>28.0</td>\n",
              "      <td>0.0</td>\n",
              "      <td>NaN</td>\n",
              "      <td>NaN</td>\n",
              "      <td>NE</td>\n",
              "      <td>24.0</td>\n",
              "      <td>SE</td>\n",
              "      <td>...</td>\n",
              "      <td>45.0</td>\n",
              "      <td>16.0</td>\n",
              "      <td>1017.6</td>\n",
              "      <td>1012.8</td>\n",
              "      <td>NaN</td>\n",
              "      <td>NaN</td>\n",
              "      <td>18.1</td>\n",
              "      <td>26.5</td>\n",
              "      <td>No</td>\n",
              "      <td>No</td>\n",
              "    </tr>\n",
              "    <tr>\n",
              "      <th>4</th>\n",
              "      <td>2008-12-05</td>\n",
              "      <td>Albury</td>\n",
              "      <td>17.5</td>\n",
              "      <td>32.3</td>\n",
              "      <td>1.0</td>\n",
              "      <td>NaN</td>\n",
              "      <td>NaN</td>\n",
              "      <td>W</td>\n",
              "      <td>41.0</td>\n",
              "      <td>ENE</td>\n",
              "      <td>...</td>\n",
              "      <td>82.0</td>\n",
              "      <td>33.0</td>\n",
              "      <td>1010.8</td>\n",
              "      <td>1006.0</td>\n",
              "      <td>7.0</td>\n",
              "      <td>8.0</td>\n",
              "      <td>17.8</td>\n",
              "      <td>29.7</td>\n",
              "      <td>No</td>\n",
              "      <td>No</td>\n",
              "    </tr>\n",
              "  </tbody>\n",
              "</table>\n",
              "<p>5 rows × 23 columns</p>\n",
              "</div>"
            ],
            "text/plain": [
              "         Date Location  MinTemp  MaxTemp  Rainfall  Evaporation  Sunshine  \\\n",
              "0  2008-12-01   Albury     13.4     22.9       0.6          NaN       NaN   \n",
              "1  2008-12-02   Albury      7.4     25.1       0.0          NaN       NaN   \n",
              "2  2008-12-03   Albury     12.9     25.7       0.0          NaN       NaN   \n",
              "3  2008-12-04   Albury      9.2     28.0       0.0          NaN       NaN   \n",
              "4  2008-12-05   Albury     17.5     32.3       1.0          NaN       NaN   \n",
              "\n",
              "  WindGustDir  WindGustSpeed WindDir9am  ... Humidity9am  Humidity3pm  \\\n",
              "0           W           44.0          W  ...        71.0         22.0   \n",
              "1         WNW           44.0        NNW  ...        44.0         25.0   \n",
              "2         WSW           46.0          W  ...        38.0         30.0   \n",
              "3          NE           24.0         SE  ...        45.0         16.0   \n",
              "4           W           41.0        ENE  ...        82.0         33.0   \n",
              "\n",
              "   Pressure9am  Pressure3pm  Cloud9am  Cloud3pm  Temp9am  Temp3pm  RainToday  \\\n",
              "0       1007.7       1007.1       8.0       NaN     16.9     21.8         No   \n",
              "1       1010.6       1007.8       NaN       NaN     17.2     24.3         No   \n",
              "2       1007.6       1008.7       NaN       2.0     21.0     23.2         No   \n",
              "3       1017.6       1012.8       NaN       NaN     18.1     26.5         No   \n",
              "4       1010.8       1006.0       7.0       8.0     17.8     29.7         No   \n",
              "\n",
              "   RainTomorrow  \n",
              "0            No  \n",
              "1            No  \n",
              "2            No  \n",
              "3            No  \n",
              "4            No  \n",
              "\n",
              "[5 rows x 23 columns]"
            ]
          },
          "execution_count": 2,
          "metadata": {},
          "output_type": "execute_result"
        }
      ],
      "source": [
        "# Uploading the dataset into the notebook\n",
        "df_weather = pd.read_csv('https://raw.githubusercontent.com/yohaneskh/Rain-Prediction-in-Australia_Finished/refs/heads/main/weatherAUS.csv')\n",
        "\n",
        "# Displaying the dataset head for early identification\n",
        "df_weather.head()"
      ]
    },
    {
      "cell_type": "code",
      "execution_count": null,
      "id": "c430118d",
      "metadata": {
        "_cell_guid": "2465723e-e822-4494-8378-9929128805f3",
        "_uuid": "a7720772-6d21-4987-8675-a2908e20e999",
        "execution": {
          "iopub.execute_input": "2025-05-14T04:13:38.722268Z",
          "iopub.status.busy": "2025-05-14T04:13:38.721844Z",
          "iopub.status.idle": "2025-05-14T04:13:38.728241Z",
          "shell.execute_reply": "2025-05-14T04:13:38.727242Z"
        },
        "jupyter": {
          "outputs_hidden": false
        },
        "papermill": {
          "duration": 0.037568,
          "end_time": "2025-05-14T04:13:38.729827",
          "exception": false,
          "start_time": "2025-05-14T04:13:38.692259",
          "status": "completed"
        },
        "tags": [],
        "id": "c430118d",
        "outputId": "fd091677-46d8-48d9-b33e-5da200d9e62c"
      },
      "outputs": [
        {
          "data": {
            "text/plain": [
              "Index(['Date', 'Location', 'MinTemp', 'MaxTemp', 'Rainfall', 'Evaporation',\n",
              "       'Sunshine', 'WindGustDir', 'WindGustSpeed', 'WindDir9am', 'WindDir3pm',\n",
              "       'WindSpeed9am', 'WindSpeed3pm', 'Humidity9am', 'Humidity3pm',\n",
              "       'Pressure9am', 'Pressure3pm', 'Cloud9am', 'Cloud3pm', 'Temp9am',\n",
              "       'Temp3pm', 'RainToday', 'RainTomorrow'],\n",
              "      dtype='object')"
            ]
          },
          "execution_count": 3,
          "metadata": {},
          "output_type": "execute_result"
        }
      ],
      "source": [
        "# Displaying the variables (columns) names of the dataset\n",
        "col_names = df_weather.columns\n",
        "col_names"
      ]
    },
    {
      "cell_type": "code",
      "execution_count": null,
      "id": "5ebd0649",
      "metadata": {
        "_cell_guid": "5678df99-071a-4fcc-a20e-15123844038b",
        "_uuid": "c6bf8d65-4a42-442b-888a-46403b83ae95",
        "execution": {
          "iopub.execute_input": "2025-05-14T04:13:38.792399Z",
          "iopub.status.busy": "2025-05-14T04:13:38.791995Z",
          "iopub.status.idle": "2025-05-14T04:13:38.875496Z",
          "shell.execute_reply": "2025-05-14T04:13:38.874340Z"
        },
        "jupyter": {
          "outputs_hidden": false
        },
        "papermill": {
          "duration": 0.117035,
          "end_time": "2025-05-14T04:13:38.877303",
          "exception": false,
          "start_time": "2025-05-14T04:13:38.760268",
          "status": "completed"
        },
        "tags": [],
        "id": "5ebd0649",
        "outputId": "934d6cc5-fcf6-4a1b-bab6-b400dac2fbce"
      },
      "outputs": [
        {
          "name": "stdout",
          "output_type": "stream",
          "text": [
            "<class 'pandas.core.frame.DataFrame'>\n",
            "RangeIndex: 145460 entries, 0 to 145459\n",
            "Data columns (total 23 columns):\n",
            " #   Column         Non-Null Count   Dtype  \n",
            "---  ------         --------------   -----  \n",
            " 0   Date           145460 non-null  object \n",
            " 1   Location       145460 non-null  object \n",
            " 2   MinTemp        143975 non-null  float64\n",
            " 3   MaxTemp        144199 non-null  float64\n",
            " 4   Rainfall       142199 non-null  float64\n",
            " 5   Evaporation    82670 non-null   float64\n",
            " 6   Sunshine       75625 non-null   float64\n",
            " 7   WindGustDir    135134 non-null  object \n",
            " 8   WindGustSpeed  135197 non-null  float64\n",
            " 9   WindDir9am     134894 non-null  object \n",
            " 10  WindDir3pm     141232 non-null  object \n",
            " 11  WindSpeed9am   143693 non-null  float64\n",
            " 12  WindSpeed3pm   142398 non-null  float64\n",
            " 13  Humidity9am    142806 non-null  float64\n",
            " 14  Humidity3pm    140953 non-null  float64\n",
            " 15  Pressure9am    130395 non-null  float64\n",
            " 16  Pressure3pm    130432 non-null  float64\n",
            " 17  Cloud9am       89572 non-null   float64\n",
            " 18  Cloud3pm       86102 non-null   float64\n",
            " 19  Temp9am        143693 non-null  float64\n",
            " 20  Temp3pm        141851 non-null  float64\n",
            " 21  RainToday      142199 non-null  object \n",
            " 22  RainTomorrow   142193 non-null  object \n",
            "dtypes: float64(16), object(7)\n",
            "memory usage: 25.5+ MB\n"
          ]
        },
        {
          "data": {
            "text/plain": [
              "(145460, 23)"
            ]
          },
          "execution_count": 4,
          "metadata": {},
          "output_type": "execute_result"
        }
      ],
      "source": [
        "# Displaying the summary and dimensions of the dataset\n",
        "df_weather.info()\n",
        "df_weather.shape"
      ]
    },
    {
      "cell_type": "markdown",
      "id": "195a4b39",
      "metadata": {
        "papermill": {
          "duration": 0.028775,
          "end_time": "2025-05-14T04:13:38.935396",
          "exception": false,
          "start_time": "2025-05-14T04:13:38.906621",
          "status": "completed"
        },
        "tags": [],
        "id": "195a4b39"
      },
      "source": [
        "From the summary above, I can see that there are 145,460 entries/rows with 23 variables (columns).\n",
        "\n",
        "Below is the description of each variable of the dataset,"
      ]
    },
    {
      "cell_type": "markdown",
      "id": "2d81c388",
      "metadata": {
        "papermill": {
          "duration": 0.029218,
          "end_time": "2025-05-14T04:13:38.994652",
          "exception": false,
          "start_time": "2025-05-14T04:13:38.965434",
          "status": "completed"
        },
        "tags": [],
        "id": "2d81c388"
      },
      "source": [
        "### 1. General Information\n",
        "\n",
        "- **Date** → The date of weather recording  \n",
        "- **Location** → The location where the weather data is gathered  \n",
        "\n",
        "### 2. Temperature & Rainfall\n",
        "\n",
        "- **MinTemp** → Minimum daily temperature (°C)  \n",
        "- **MaxTemp** → Maximum daily temperature (°C)  \n",
        "- **Rainfall** → Total rainfall in mm  \n",
        "\n",
        "### 3. Other Weather Variables\n",
        "\n",
        "- **Evaporation** → Amount of evaporated water in mm (contains many missing values)  \n",
        "- **Sunshine** → Sunlight duration in hours (contains many missing values)  \n",
        "\n",
        "### 4. Wind Information\n",
        "\n",
        "- **WindGustDir** → Wind direction (e.g., W = West)  \n",
        "- **WindGustSpeed** → Wind speed in km/h  \n",
        "- **WindDir9am** → Wind direction at 9am  \n",
        "- **WindDir3pm** → Wind direction at 3pm  \n",
        "- **WindSpeed9am** → Wind speed at 9am  \n",
        "- **WindSpeed3pm** → Wind speed at 3pm  \n",
        "\n",
        "### 5. Humidity & Air Pressure\n",
        "\n",
        "- **Humidity9am** → Humidity percentage at 9am  \n",
        "- **Humidity3pm** → Humidity percentage at 3pm  \n",
        "- **Pressure9am** → Air pressure (hPa) at 9am  \n",
        "- **Pressure3pm** → Air pressure (hPa) at 3pm  \n",
        "\n",
        "### 6. Clouds & Other Temperature Conditions\n",
        "\n",
        "- **Cloud9am** → Cloud coverage percentage at 9am (contains many missing values)  \n",
        "- **Cloud3pm** → Cloud coverage percentage at 3pm  \n",
        "- **Temp9am** → Temperature (°C) at 9am  \n",
        "- **Temp3pm** → Temperature (°C) at 3pm  \n",
        "\n",
        "### 7. Target Prediction\n",
        "\n",
        "- **RainToday** → Will it rain today? (Yes/No)  \n",
        "- **RainTomorrow** → Target prediction, will it rain tomorrow? (Yes/No)  \n"
      ]
    },
    {
      "cell_type": "markdown",
      "id": "a291e002",
      "metadata": {
        "papermill": {
          "duration": 0.028672,
          "end_time": "2025-05-14T04:13:39.052932",
          "exception": false,
          "start_time": "2025-05-14T04:13:39.024260",
          "status": "completed"
        },
        "tags": [],
        "id": "a291e002"
      },
      "source": [
        "Right now, I'm going to divide the dataset into Categorical and Numerical variables.\n",
        "\n",
        "Categorical variables have object as their data type, while Numerical ones have float as their data type.\n",
        "\n",
        "I segregate them so that later it will be easier for me to transform the data type and decide which kind of decoding is suitable for each variable."
      ]
    },
    {
      "cell_type": "code",
      "execution_count": null,
      "id": "c7cd75f8",
      "metadata": {
        "execution": {
          "iopub.execute_input": "2025-05-14T04:13:39.170388Z",
          "iopub.status.busy": "2025-05-14T04:13:39.170026Z",
          "iopub.status.idle": "2025-05-14T04:13:39.176746Z",
          "shell.execute_reply": "2025-05-14T04:13:39.175595Z"
        },
        "papermill": {
          "duration": 0.095899,
          "end_time": "2025-05-14T04:13:39.178355",
          "exception": false,
          "start_time": "2025-05-14T04:13:39.082456",
          "status": "completed"
        },
        "tags": [],
        "id": "c7cd75f8",
        "outputId": "03566b1a-042a-4d23-e5d4-1bcdc9017c84"
      },
      "outputs": [
        {
          "name": "stdout",
          "output_type": "stream",
          "text": [
            "There are 7 categorical variables.\n",
            "\n",
            "The categorical variables are as follows:\n",
            " ['Date', 'Location', 'WindGustDir', 'WindDir9am', 'WindDir3pm', 'RainToday', 'RainTomorrow']\n"
          ]
        }
      ],
      "source": [
        "# Now I separate and find Categorical variables\n",
        "\n",
        "categorical = [var for var in df_weather.columns if df_weather[var].dtype==\"O\"]\n",
        "print(\"There are {} categorical variables.\\n\".format(len(categorical)))\n",
        "print(\"The categorical variables are as follows:\\n\", categorical)"
      ]
    },
    {
      "cell_type": "code",
      "execution_count": null,
      "id": "46cb4faa",
      "metadata": {
        "execution": {
          "iopub.execute_input": "2025-05-14T04:13:39.239184Z",
          "iopub.status.busy": "2025-05-14T04:13:39.238793Z",
          "iopub.status.idle": "2025-05-14T04:13:39.255960Z",
          "shell.execute_reply": "2025-05-14T04:13:39.254828Z"
        },
        "papermill": {
          "duration": 0.049404,
          "end_time": "2025-05-14T04:13:39.257654",
          "exception": false,
          "start_time": "2025-05-14T04:13:39.208250",
          "status": "completed"
        },
        "tags": [],
        "id": "46cb4faa",
        "outputId": "af2b79e3-f3a2-4f3b-92c4-8ae2c1817d43"
      },
      "outputs": [
        {
          "data": {
            "text/html": [
              "<div>\n",
              "<style scoped>\n",
              "    .dataframe tbody tr th:only-of-type {\n",
              "        vertical-align: middle;\n",
              "    }\n",
              "\n",
              "    .dataframe tbody tr th {\n",
              "        vertical-align: top;\n",
              "    }\n",
              "\n",
              "    .dataframe thead th {\n",
              "        text-align: right;\n",
              "    }\n",
              "</style>\n",
              "<table border=\"1\" class=\"dataframe\">\n",
              "  <thead>\n",
              "    <tr style=\"text-align: right;\">\n",
              "      <th></th>\n",
              "      <th>Date</th>\n",
              "      <th>Location</th>\n",
              "      <th>WindGustDir</th>\n",
              "      <th>WindDir9am</th>\n",
              "      <th>WindDir3pm</th>\n",
              "      <th>RainToday</th>\n",
              "      <th>RainTomorrow</th>\n",
              "    </tr>\n",
              "  </thead>\n",
              "  <tbody>\n",
              "    <tr>\n",
              "      <th>0</th>\n",
              "      <td>2008-12-01</td>\n",
              "      <td>Albury</td>\n",
              "      <td>W</td>\n",
              "      <td>W</td>\n",
              "      <td>WNW</td>\n",
              "      <td>No</td>\n",
              "      <td>No</td>\n",
              "    </tr>\n",
              "    <tr>\n",
              "      <th>1</th>\n",
              "      <td>2008-12-02</td>\n",
              "      <td>Albury</td>\n",
              "      <td>WNW</td>\n",
              "      <td>NNW</td>\n",
              "      <td>WSW</td>\n",
              "      <td>No</td>\n",
              "      <td>No</td>\n",
              "    </tr>\n",
              "    <tr>\n",
              "      <th>2</th>\n",
              "      <td>2008-12-03</td>\n",
              "      <td>Albury</td>\n",
              "      <td>WSW</td>\n",
              "      <td>W</td>\n",
              "      <td>WSW</td>\n",
              "      <td>No</td>\n",
              "      <td>No</td>\n",
              "    </tr>\n",
              "    <tr>\n",
              "      <th>3</th>\n",
              "      <td>2008-12-04</td>\n",
              "      <td>Albury</td>\n",
              "      <td>NE</td>\n",
              "      <td>SE</td>\n",
              "      <td>E</td>\n",
              "      <td>No</td>\n",
              "      <td>No</td>\n",
              "    </tr>\n",
              "    <tr>\n",
              "      <th>4</th>\n",
              "      <td>2008-12-05</td>\n",
              "      <td>Albury</td>\n",
              "      <td>W</td>\n",
              "      <td>ENE</td>\n",
              "      <td>NW</td>\n",
              "      <td>No</td>\n",
              "      <td>No</td>\n",
              "    </tr>\n",
              "  </tbody>\n",
              "</table>\n",
              "</div>"
            ],
            "text/plain": [
              "         Date Location WindGustDir WindDir9am WindDir3pm RainToday  \\\n",
              "0  2008-12-01   Albury           W          W        WNW        No   \n",
              "1  2008-12-02   Albury         WNW        NNW        WSW        No   \n",
              "2  2008-12-03   Albury         WSW          W        WSW        No   \n",
              "3  2008-12-04   Albury          NE         SE          E        No   \n",
              "4  2008-12-05   Albury           W        ENE         NW        No   \n",
              "\n",
              "  RainTomorrow  \n",
              "0           No  \n",
              "1           No  \n",
              "2           No  \n",
              "3           No  \n",
              "4           No  "
            ]
          },
          "execution_count": 6,
          "metadata": {},
          "output_type": "execute_result"
        }
      ],
      "source": [
        "# I can display and view the head of Categorical variables\n",
        "df_weather[categorical].head()"
      ]
    },
    {
      "cell_type": "markdown",
      "id": "2db9d883",
      "metadata": {
        "papermill": {
          "duration": 0.02976,
          "end_time": "2025-05-14T04:13:39.317688",
          "exception": false,
          "start_time": "2025-05-14T04:13:39.287928",
          "status": "completed"
        },
        "tags": [],
        "id": "2db9d883"
      },
      "source": [
        "1. To summarize, I can see that there are 7 Categorical variables which are,\n",
        "- Date,\n",
        "- Location,\n",
        "- WindGustDir,\n",
        "- WindDir9am,\n",
        "- WindDir3pm,\n",
        "- RainToday,\n",
        "- RainTomorrow.\n",
        "\n",
        "2. Later on, I will check Date variable further by changing the data type into datetime format and extract year, month and date into separate variables.\n",
        "\n",
        "3. There are 2 binary Categorical variables which are RainToday & RainTomorrow.\n",
        "\n",
        "4. RainTomorrow is the target variable.\n"
      ]
    },
    {
      "cell_type": "code",
      "execution_count": null,
      "id": "3a365034",
      "metadata": {
        "execution": {
          "iopub.execute_input": "2025-05-14T04:13:39.378416Z",
          "iopub.status.busy": "2025-05-14T04:13:39.377993Z",
          "iopub.status.idle": "2025-05-14T04:13:39.442620Z",
          "shell.execute_reply": "2025-05-14T04:13:39.441426Z"
        },
        "papermill": {
          "duration": 0.09714,
          "end_time": "2025-05-14T04:13:39.444447",
          "exception": false,
          "start_time": "2025-05-14T04:13:39.347307",
          "status": "completed"
        },
        "tags": [],
        "id": "3a365034",
        "outputId": "aff38aaa-8d21-4cbd-d02f-c6d2d1214034"
      },
      "outputs": [
        {
          "data": {
            "text/plain": [
              "Date                0\n",
              "Location            0\n",
              "WindGustDir     10326\n",
              "WindDir9am      10566\n",
              "WindDir3pm       4228\n",
              "RainToday        3261\n",
              "RainTomorrow     3267\n",
              "dtype: int64"
            ]
          },
          "execution_count": 7,
          "metadata": {},
          "output_type": "execute_result"
        }
      ],
      "source": [
        "# Check any missing values inside each Categorical variables\n",
        "df_weather[categorical].isnull().sum()"
      ]
    },
    {
      "cell_type": "code",
      "execution_count": null,
      "id": "cbacc013",
      "metadata": {
        "execution": {
          "iopub.execute_input": "2025-05-14T04:13:39.506141Z",
          "iopub.status.busy": "2025-05-14T04:13:39.505765Z",
          "iopub.status.idle": "2025-05-14T04:13:39.602412Z",
          "shell.execute_reply": "2025-05-14T04:13:39.601070Z"
        },
        "papermill": {
          "duration": 0.129581,
          "end_time": "2025-05-14T04:13:39.604120",
          "exception": false,
          "start_time": "2025-05-14T04:13:39.474539",
          "status": "completed"
        },
        "tags": [],
        "id": "cbacc013",
        "outputId": "7a793577-8c00-4ce3-af4c-afbb9ed9447a"
      },
      "outputs": [
        {
          "name": "stdout",
          "output_type": "stream",
          "text": [
            "WindGustDir     10326\n",
            "WindDir9am      10566\n",
            "WindDir3pm       4228\n",
            "RainToday        3261\n",
            "RainTomorrow     3267\n",
            "dtype: int64\n"
          ]
        }
      ],
      "source": [
        "# Print any Categorical variables with missing values\n",
        "cat1 = [var for var in categorical if df_weather[var].isnull().sum()!=0]\n",
        "print(df_weather[cat1].isnull().sum())"
      ]
    },
    {
      "cell_type": "markdown",
      "id": "47fa129b",
      "metadata": {
        "papermill": {
          "duration": 0.029343,
          "end_time": "2025-05-14T04:13:39.663240",
          "exception": false,
          "start_time": "2025-05-14T04:13:39.633897",
          "status": "completed"
        },
        "tags": [],
        "id": "47fa129b"
      },
      "source": [
        "From the information above, those Categorical variables have lots of missing values!\n",
        "- WindGustDir     10326\n",
        "- WindDir9am      10566\n",
        "- WindDir3pm       4228\n",
        "- RainToday        3261\n",
        "- RainTomorrow     3267"
      ]
    },
    {
      "cell_type": "markdown",
      "id": "5d96d42a",
      "metadata": {
        "papermill": {
          "duration": 0.029191,
          "end_time": "2025-05-14T04:13:39.721948",
          "exception": false,
          "start_time": "2025-05-14T04:13:39.692757",
          "status": "completed"
        },
        "tags": [],
        "id": "5d96d42a"
      },
      "source": [
        "Next, I'm going to check the frequency of values in each Categorical variable."
      ]
    },
    {
      "cell_type": "code",
      "execution_count": null,
      "id": "bb9540ba",
      "metadata": {
        "execution": {
          "iopub.execute_input": "2025-05-14T04:13:39.783903Z",
          "iopub.status.busy": "2025-05-14T04:13:39.783539Z",
          "iopub.status.idle": "2025-05-14T04:13:39.868895Z",
          "shell.execute_reply": "2025-05-14T04:13:39.866862Z"
        },
        "papermill": {
          "duration": 0.119089,
          "end_time": "2025-05-14T04:13:39.870879",
          "exception": false,
          "start_time": "2025-05-14T04:13:39.751790",
          "status": "completed"
        },
        "tags": [],
        "id": "bb9540ba",
        "outputId": "e4829afe-dac9-48f2-f214-8398e8bb0e94"
      },
      "outputs": [
        {
          "name": "stdout",
          "output_type": "stream",
          "text": [
            "Date\n",
            "2013-11-12    49\n",
            "2014-09-01    49\n",
            "2014-08-23    49\n",
            "2014-08-24    49\n",
            "2014-08-25    49\n",
            "              ..\n",
            "2007-11-29     1\n",
            "2007-11-28     1\n",
            "2007-11-27     1\n",
            "2007-11-26     1\n",
            "2008-01-31     1\n",
            "Name: count, Length: 3436, dtype: int64\n",
            "Location\n",
            "Canberra            3436\n",
            "Sydney              3344\n",
            "Darwin              3193\n",
            "Melbourne           3193\n",
            "Brisbane            3193\n",
            "Adelaide            3193\n",
            "Perth               3193\n",
            "Hobart              3193\n",
            "Albany              3040\n",
            "MountGambier        3040\n",
            "Ballarat            3040\n",
            "Townsville          3040\n",
            "GoldCoast           3040\n",
            "Cairns              3040\n",
            "Launceston          3040\n",
            "AliceSprings        3040\n",
            "Bendigo             3040\n",
            "Albury              3040\n",
            "MountGinini         3040\n",
            "Wollongong          3040\n",
            "Newcastle           3039\n",
            "Tuggeranong         3039\n",
            "Penrith             3039\n",
            "Woomera             3009\n",
            "Nuriootpa           3009\n",
            "Cobar               3009\n",
            "CoffsHarbour        3009\n",
            "Moree               3009\n",
            "Sale                3009\n",
            "PerthAirport        3009\n",
            "PearceRAAF          3009\n",
            "Witchcliffe         3009\n",
            "BadgerysCreek       3009\n",
            "Mildura             3009\n",
            "NorfolkIsland       3009\n",
            "MelbourneAirport    3009\n",
            "Richmond            3009\n",
            "SydneyAirport       3009\n",
            "WaggaWagga          3009\n",
            "Williamtown         3009\n",
            "Dartmoor            3009\n",
            "Watsonia            3009\n",
            "Portland            3009\n",
            "Walpole             3006\n",
            "NorahHead           3004\n",
            "SalmonGums          3001\n",
            "Katherine           1578\n",
            "Nhil                1578\n",
            "Uluru               1578\n",
            "Name: count, dtype: int64\n",
            "WindGustDir\n",
            "W      9915\n",
            "SE     9418\n",
            "N      9313\n",
            "SSE    9216\n",
            "E      9181\n",
            "S      9168\n",
            "WSW    9069\n",
            "SW     8967\n",
            "SSW    8736\n",
            "WNW    8252\n",
            "NW     8122\n",
            "ENE    8104\n",
            "ESE    7372\n",
            "NE     7133\n",
            "NNW    6620\n",
            "NNE    6548\n",
            "Name: count, dtype: int64\n",
            "WindDir9am\n",
            "N      11758\n",
            "SE      9287\n",
            "E       9176\n",
            "SSE     9112\n",
            "NW      8749\n",
            "S       8659\n",
            "W       8459\n",
            "SW      8423\n",
            "NNE     8129\n",
            "NNW     7980\n",
            "ENE     7836\n",
            "NE      7671\n",
            "ESE     7630\n",
            "SSW     7587\n",
            "WNW     7414\n",
            "WSW     7024\n",
            "Name: count, dtype: int64\n",
            "WindDir3pm\n",
            "SE     10838\n",
            "W      10110\n",
            "S       9926\n",
            "WSW     9518\n",
            "SSE     9399\n",
            "SW      9354\n",
            "N       8890\n",
            "WNW     8874\n",
            "NW      8610\n",
            "ESE     8505\n",
            "E       8472\n",
            "NE      8263\n",
            "SSW     8156\n",
            "NNW     7870\n",
            "ENE     7857\n",
            "NNE     6590\n",
            "Name: count, dtype: int64\n",
            "RainToday\n",
            "No     110319\n",
            "Yes     31880\n",
            "Name: count, dtype: int64\n",
            "RainTomorrow\n",
            "No     110316\n",
            "Yes     31877\n",
            "Name: count, dtype: int64\n"
          ]
        }
      ],
      "source": [
        "# View the frequency of values inside each Categorical variables\n",
        "for var in categorical:\n",
        "    print(df_weather[var].value_counts())"
      ]
    },
    {
      "cell_type": "markdown",
      "id": "fd7a864d",
      "metadata": {
        "papermill": {
          "duration": 0.029835,
          "end_time": "2025-05-14T04:13:39.931691",
          "exception": false,
          "start_time": "2025-05-14T04:13:39.901856",
          "status": "completed"
        },
        "tags": [],
        "id": "fd7a864d"
      },
      "source": [
        "Now I can check the frequency distribution (%) of values in each Categorical variable."
      ]
    },
    {
      "cell_type": "code",
      "execution_count": null,
      "id": "cc4b955d",
      "metadata": {
        "execution": {
          "iopub.execute_input": "2025-05-14T04:13:39.993097Z",
          "iopub.status.busy": "2025-05-14T04:13:39.992762Z",
          "iopub.status.idle": "2025-05-14T04:13:40.080112Z",
          "shell.execute_reply": "2025-05-14T04:13:40.078968Z"
        },
        "papermill": {
          "duration": 0.120348,
          "end_time": "2025-05-14T04:13:40.081959",
          "exception": false,
          "start_time": "2025-05-14T04:13:39.961611",
          "status": "completed"
        },
        "tags": [],
        "id": "cc4b955d",
        "outputId": "fbb5b0ad-a85e-4f83-e1cb-b7575292a1a4"
      },
      "outputs": [
        {
          "name": "stdout",
          "output_type": "stream",
          "text": [
            "Date\n",
            "2013-11-12    0.000337\n",
            "2014-09-01    0.000337\n",
            "2014-08-23    0.000337\n",
            "2014-08-24    0.000337\n",
            "2014-08-25    0.000337\n",
            "                ...   \n",
            "2007-11-29    0.000007\n",
            "2007-11-28    0.000007\n",
            "2007-11-27    0.000007\n",
            "2007-11-26    0.000007\n",
            "2008-01-31    0.000007\n",
            "Name: count, Length: 3436, dtype: float64\n",
            "Location\n",
            "Canberra            0.023622\n",
            "Sydney              0.022989\n",
            "Darwin              0.021951\n",
            "Melbourne           0.021951\n",
            "Brisbane            0.021951\n",
            "Adelaide            0.021951\n",
            "Perth               0.021951\n",
            "Hobart              0.021951\n",
            "Albany              0.020899\n",
            "MountGambier        0.020899\n",
            "Ballarat            0.020899\n",
            "Townsville          0.020899\n",
            "GoldCoast           0.020899\n",
            "Cairns              0.020899\n",
            "Launceston          0.020899\n",
            "AliceSprings        0.020899\n",
            "Bendigo             0.020899\n",
            "Albury              0.020899\n",
            "MountGinini         0.020899\n",
            "Wollongong          0.020899\n",
            "Newcastle           0.020892\n",
            "Tuggeranong         0.020892\n",
            "Penrith             0.020892\n",
            "Woomera             0.020686\n",
            "Nuriootpa           0.020686\n",
            "Cobar               0.020686\n",
            "CoffsHarbour        0.020686\n",
            "Moree               0.020686\n",
            "Sale                0.020686\n",
            "PerthAirport        0.020686\n",
            "PearceRAAF          0.020686\n",
            "Witchcliffe         0.020686\n",
            "BadgerysCreek       0.020686\n",
            "Mildura             0.020686\n",
            "NorfolkIsland       0.020686\n",
            "MelbourneAirport    0.020686\n",
            "Richmond            0.020686\n",
            "SydneyAirport       0.020686\n",
            "WaggaWagga          0.020686\n",
            "Williamtown         0.020686\n",
            "Dartmoor            0.020686\n",
            "Watsonia            0.020686\n",
            "Portland            0.020686\n",
            "Walpole             0.020665\n",
            "NorahHead           0.020652\n",
            "SalmonGums          0.020631\n",
            "Katherine           0.010848\n",
            "Nhil                0.010848\n",
            "Uluru               0.010848\n",
            "Name: count, dtype: float64\n",
            "WindGustDir\n",
            "W      0.068163\n",
            "SE     0.064746\n",
            "N      0.064024\n",
            "SSE    0.063358\n",
            "E      0.063117\n",
            "S      0.063028\n",
            "WSW    0.062347\n",
            "SW     0.061646\n",
            "SSW    0.060058\n",
            "WNW    0.056730\n",
            "NW     0.055837\n",
            "ENE    0.055713\n",
            "ESE    0.050681\n",
            "NE     0.049038\n",
            "NNW    0.045511\n",
            "NNE    0.045016\n",
            "Name: count, dtype: float64\n",
            "WindDir9am\n",
            "N      0.080833\n",
            "SE     0.063846\n",
            "E      0.063083\n",
            "SSE    0.062643\n",
            "NW     0.060147\n",
            "S      0.059528\n",
            "W      0.058153\n",
            "SW     0.057906\n",
            "NNE    0.055885\n",
            "NNW    0.054860\n",
            "ENE    0.053870\n",
            "NE     0.052736\n",
            "ESE    0.052454\n",
            "SSW    0.052159\n",
            "WNW    0.050969\n",
            "WSW    0.048288\n",
            "Name: count, dtype: float64\n",
            "WindDir3pm\n",
            "SE     0.074508\n",
            "W      0.069504\n",
            "S      0.068239\n",
            "WSW    0.065434\n",
            "SSE    0.064616\n",
            "SW     0.064306\n",
            "N      0.061116\n",
            "WNW    0.061006\n",
            "NW     0.059192\n",
            "ESE    0.058470\n",
            "E      0.058243\n",
            "NE     0.056806\n",
            "SSW    0.056070\n",
            "NNW    0.054104\n",
            "ENE    0.054015\n",
            "NNE    0.045305\n",
            "Name: count, dtype: float64\n",
            "RainToday\n",
            "No     0.758415\n",
            "Yes    0.219167\n",
            "Name: count, dtype: float64\n",
            "RainTomorrow\n",
            "No     0.758394\n",
            "Yes    0.219146\n",
            "Name: count, dtype: float64\n"
          ]
        }
      ],
      "source": [
        "# View the frequency distribution of values inside each Categorical variables\n",
        "for var in categorical:\n",
        "    print(df_weather[var].value_counts()/float(len(df_weather)))"
      ]
    },
    {
      "cell_type": "markdown",
      "id": "f84f99c8",
      "metadata": {
        "papermill": {
          "duration": 0.0297,
          "end_time": "2025-05-14T04:13:40.142148",
          "exception": false,
          "start_time": "2025-05-14T04:13:40.112448",
          "status": "completed"
        },
        "tags": [],
        "id": "f84f99c8"
      },
      "source": [
        "I also want to check the cardinality or number of labels in each Categorical variable to check which one has high cardinality and later I can decide which kind of decoding will be used for each variable."
      ]
    },
    {
      "cell_type": "code",
      "execution_count": null,
      "id": "fb4e8e4a",
      "metadata": {
        "execution": {
          "iopub.execute_input": "2025-05-14T04:13:40.205415Z",
          "iopub.status.busy": "2025-05-14T04:13:40.204918Z",
          "iopub.status.idle": "2025-05-14T04:13:40.255138Z",
          "shell.execute_reply": "2025-05-14T04:13:40.254040Z"
        },
        "papermill": {
          "duration": 0.083489,
          "end_time": "2025-05-14T04:13:40.256956",
          "exception": false,
          "start_time": "2025-05-14T04:13:40.173467",
          "status": "completed"
        },
        "tags": [],
        "id": "fb4e8e4a",
        "outputId": "d81fef3b-60bf-42b2-9023-4250fb4aeace"
      },
      "outputs": [
        {
          "name": "stdout",
          "output_type": "stream",
          "text": [
            "Date contains 3436 labels\n",
            "Location contains 49 labels\n",
            "WindGustDir contains 17 labels\n",
            "WindDir9am contains 17 labels\n",
            "WindDir3pm contains 17 labels\n",
            "RainToday contains 3 labels\n",
            "RainTomorrow contains 3 labels\n"
          ]
        }
      ],
      "source": [
        "# Check for cardinality in Categorical variables\n",
        "for var in categorical:\n",
        "    print(var, \"contains\", len(df_weather[var].unique()), \"labels\")"
      ]
    },
    {
      "cell_type": "markdown",
      "id": "1dff4524",
      "metadata": {
        "papermill": {
          "duration": 0.029951,
          "end_time": "2025-05-14T04:13:40.317458",
          "exception": false,
          "start_time": "2025-05-14T04:13:40.287507",
          "status": "completed"
        },
        "tags": [],
        "id": "1dff4524"
      },
      "source": [
        "The Date variable has high cardinality and I decided to do some preprocessing.\n",
        "\n",
        "The other Categorical variables have smaller numer of labels compared to Date."
      ]
    },
    {
      "cell_type": "code",
      "execution_count": null,
      "id": "1e9f0380",
      "metadata": {
        "execution": {
          "iopub.execute_input": "2025-05-14T04:13:40.379034Z",
          "iopub.status.busy": "2025-05-14T04:13:40.378697Z",
          "iopub.status.idle": "2025-05-14T04:13:40.384297Z",
          "shell.execute_reply": "2025-05-14T04:13:40.383345Z"
        },
        "papermill": {
          "duration": 0.038297,
          "end_time": "2025-05-14T04:13:40.385826",
          "exception": false,
          "start_time": "2025-05-14T04:13:40.347529",
          "status": "completed"
        },
        "tags": [],
        "id": "1e9f0380",
        "outputId": "7ce68490-c23e-4b17-ec7a-968b5a728122"
      },
      "outputs": [
        {
          "data": {
            "text/plain": [
              "dtype('O')"
            ]
          },
          "execution_count": 12,
          "metadata": {},
          "output_type": "execute_result"
        }
      ],
      "source": [
        "# Check the Date datatype before making any changes\n",
        "df_weather[\"Date\"].dtypes"
      ]
    },
    {
      "cell_type": "markdown",
      "id": "22c76ab5",
      "metadata": {
        "papermill": {
          "duration": 0.031096,
          "end_time": "2025-05-14T04:13:40.447769",
          "exception": false,
          "start_time": "2025-05-14T04:13:40.416673",
          "status": "completed"
        },
        "tags": [],
        "id": "22c76ab5"
      },
      "source": [
        "I can see that the data type of Date is object, I should change it into datetime format.\n",
        "After that, I can extract Day, Month and Year from Date into new variables for future needs."
      ]
    },
    {
      "cell_type": "code",
      "execution_count": null,
      "id": "ef570519",
      "metadata": {
        "execution": {
          "iopub.execute_input": "2025-05-14T04:13:40.511327Z",
          "iopub.status.busy": "2025-05-14T04:13:40.510852Z",
          "iopub.status.idle": "2025-05-14T04:13:40.558875Z",
          "shell.execute_reply": "2025-05-14T04:13:40.557903Z"
        },
        "papermill": {
          "duration": 0.081951,
          "end_time": "2025-05-14T04:13:40.560888",
          "exception": false,
          "start_time": "2025-05-14T04:13:40.478937",
          "status": "completed"
        },
        "tags": [],
        "id": "ef570519"
      },
      "outputs": [],
      "source": [
        "# The dates will be parsed from object into datetime format\n",
        "df_weather[\"Date\"] = pd.to_datetime(df_weather[\"Date\"])\n",
        "\n",
        "# Extracting Day, Month and Year from the dates\n",
        "df_weather[\"Year\"] = df_weather[\"Date\"].dt.year\n",
        "df_weather[\"Month\"] = df_weather[\"Date\"].dt.month\n",
        "df_weather[\"Day\"] = df_weather[\"Date\"].dt.day"
      ]
    },
    {
      "cell_type": "markdown",
      "id": "0b37bff0",
      "metadata": {
        "papermill": {
          "duration": 0.030137,
          "end_time": "2025-05-14T04:13:40.622941",
          "exception": false,
          "start_time": "2025-05-14T04:13:40.592804",
          "status": "completed"
        },
        "tags": [],
        "id": "0b37bff0"
      },
      "source": [
        "After extracting and creating new variables from Date, I'm going to check the newly updated summary of the dataset before making any further changes or transformations."
      ]
    },
    {
      "cell_type": "code",
      "execution_count": null,
      "id": "e2db9f48",
      "metadata": {
        "execution": {
          "iopub.execute_input": "2025-05-14T04:13:40.684391Z",
          "iopub.status.busy": "2025-05-14T04:13:40.684019Z",
          "iopub.status.idle": "2025-05-14T04:13:40.746407Z",
          "shell.execute_reply": "2025-05-14T04:13:40.745267Z"
        },
        "papermill": {
          "duration": 0.095306,
          "end_time": "2025-05-14T04:13:40.748144",
          "exception": false,
          "start_time": "2025-05-14T04:13:40.652838",
          "status": "completed"
        },
        "tags": [],
        "id": "e2db9f48",
        "outputId": "ffe0d42d-4fe7-4974-9b9b-c211e01b74b2"
      },
      "outputs": [
        {
          "name": "stdout",
          "output_type": "stream",
          "text": [
            "<class 'pandas.core.frame.DataFrame'>\n",
            "RangeIndex: 145460 entries, 0 to 145459\n",
            "Data columns (total 26 columns):\n",
            " #   Column         Non-Null Count   Dtype         \n",
            "---  ------         --------------   -----         \n",
            " 0   Date           145460 non-null  datetime64[ns]\n",
            " 1   Location       145460 non-null  object        \n",
            " 2   MinTemp        143975 non-null  float64       \n",
            " 3   MaxTemp        144199 non-null  float64       \n",
            " 4   Rainfall       142199 non-null  float64       \n",
            " 5   Evaporation    82670 non-null   float64       \n",
            " 6   Sunshine       75625 non-null   float64       \n",
            " 7   WindGustDir    135134 non-null  object        \n",
            " 8   WindGustSpeed  135197 non-null  float64       \n",
            " 9   WindDir9am     134894 non-null  object        \n",
            " 10  WindDir3pm     141232 non-null  object        \n",
            " 11  WindSpeed9am   143693 non-null  float64       \n",
            " 12  WindSpeed3pm   142398 non-null  float64       \n",
            " 13  Humidity9am    142806 non-null  float64       \n",
            " 14  Humidity3pm    140953 non-null  float64       \n",
            " 15  Pressure9am    130395 non-null  float64       \n",
            " 16  Pressure3pm    130432 non-null  float64       \n",
            " 17  Cloud9am       89572 non-null   float64       \n",
            " 18  Cloud3pm       86102 non-null   float64       \n",
            " 19  Temp9am        143693 non-null  float64       \n",
            " 20  Temp3pm        141851 non-null  float64       \n",
            " 21  RainToday      142199 non-null  object        \n",
            " 22  RainTomorrow   142193 non-null  object        \n",
            " 23  Year           145460 non-null  int32         \n",
            " 24  Month          145460 non-null  int32         \n",
            " 25  Day            145460 non-null  int32         \n",
            "dtypes: datetime64[ns](1), float64(16), int32(3), object(6)\n",
            "memory usage: 27.2+ MB\n"
          ]
        }
      ],
      "source": [
        "df_weather.info()"
      ]
    },
    {
      "cell_type": "code",
      "execution_count": null,
      "id": "0fb8e31f",
      "metadata": {
        "execution": {
          "iopub.execute_input": "2025-05-14T04:13:40.811287Z",
          "iopub.status.busy": "2025-05-14T04:13:40.810845Z",
          "iopub.status.idle": "2025-05-14T04:13:40.826851Z",
          "shell.execute_reply": "2025-05-14T04:13:40.825884Z"
        },
        "papermill": {
          "duration": 0.049677,
          "end_time": "2025-05-14T04:13:40.828606",
          "exception": false,
          "start_time": "2025-05-14T04:13:40.778929",
          "status": "completed"
        },
        "tags": [],
        "id": "0fb8e31f"
      },
      "outputs": [],
      "source": [
        "# Dropping the original Date variable from the dataset\n",
        "df_weather.drop(\"Date\", axis=1, inplace = True)"
      ]
    },
    {
      "cell_type": "code",
      "execution_count": null,
      "id": "214c8ce6",
      "metadata": {
        "execution": {
          "iopub.execute_input": "2025-05-14T04:13:40.892684Z",
          "iopub.status.busy": "2025-05-14T04:13:40.892347Z",
          "iopub.status.idle": "2025-05-14T04:13:40.914750Z",
          "shell.execute_reply": "2025-05-14T04:13:40.913736Z"
        },
        "papermill": {
          "duration": 0.055904,
          "end_time": "2025-05-14T04:13:40.916340",
          "exception": false,
          "start_time": "2025-05-14T04:13:40.860436",
          "status": "completed"
        },
        "tags": [],
        "id": "214c8ce6",
        "outputId": "923a49ee-9853-4b1b-e6de-e08dba577f5b"
      },
      "outputs": [
        {
          "data": {
            "text/html": [
              "<div>\n",
              "<style scoped>\n",
              "    .dataframe tbody tr th:only-of-type {\n",
              "        vertical-align: middle;\n",
              "    }\n",
              "\n",
              "    .dataframe tbody tr th {\n",
              "        vertical-align: top;\n",
              "    }\n",
              "\n",
              "    .dataframe thead th {\n",
              "        text-align: right;\n",
              "    }\n",
              "</style>\n",
              "<table border=\"1\" class=\"dataframe\">\n",
              "  <thead>\n",
              "    <tr style=\"text-align: right;\">\n",
              "      <th></th>\n",
              "      <th>Location</th>\n",
              "      <th>MinTemp</th>\n",
              "      <th>MaxTemp</th>\n",
              "      <th>Rainfall</th>\n",
              "      <th>Evaporation</th>\n",
              "      <th>Sunshine</th>\n",
              "      <th>WindGustDir</th>\n",
              "      <th>WindGustSpeed</th>\n",
              "      <th>WindDir9am</th>\n",
              "      <th>WindDir3pm</th>\n",
              "      <th>...</th>\n",
              "      <th>Pressure3pm</th>\n",
              "      <th>Cloud9am</th>\n",
              "      <th>Cloud3pm</th>\n",
              "      <th>Temp9am</th>\n",
              "      <th>Temp3pm</th>\n",
              "      <th>RainToday</th>\n",
              "      <th>RainTomorrow</th>\n",
              "      <th>Year</th>\n",
              "      <th>Month</th>\n",
              "      <th>Day</th>\n",
              "    </tr>\n",
              "  </thead>\n",
              "  <tbody>\n",
              "    <tr>\n",
              "      <th>0</th>\n",
              "      <td>Albury</td>\n",
              "      <td>13.4</td>\n",
              "      <td>22.9</td>\n",
              "      <td>0.6</td>\n",
              "      <td>NaN</td>\n",
              "      <td>NaN</td>\n",
              "      <td>W</td>\n",
              "      <td>44.0</td>\n",
              "      <td>W</td>\n",
              "      <td>WNW</td>\n",
              "      <td>...</td>\n",
              "      <td>1007.1</td>\n",
              "      <td>8.0</td>\n",
              "      <td>NaN</td>\n",
              "      <td>16.9</td>\n",
              "      <td>21.8</td>\n",
              "      <td>No</td>\n",
              "      <td>No</td>\n",
              "      <td>2008</td>\n",
              "      <td>12</td>\n",
              "      <td>1</td>\n",
              "    </tr>\n",
              "    <tr>\n",
              "      <th>1</th>\n",
              "      <td>Albury</td>\n",
              "      <td>7.4</td>\n",
              "      <td>25.1</td>\n",
              "      <td>0.0</td>\n",
              "      <td>NaN</td>\n",
              "      <td>NaN</td>\n",
              "      <td>WNW</td>\n",
              "      <td>44.0</td>\n",
              "      <td>NNW</td>\n",
              "      <td>WSW</td>\n",
              "      <td>...</td>\n",
              "      <td>1007.8</td>\n",
              "      <td>NaN</td>\n",
              "      <td>NaN</td>\n",
              "      <td>17.2</td>\n",
              "      <td>24.3</td>\n",
              "      <td>No</td>\n",
              "      <td>No</td>\n",
              "      <td>2008</td>\n",
              "      <td>12</td>\n",
              "      <td>2</td>\n",
              "    </tr>\n",
              "    <tr>\n",
              "      <th>2</th>\n",
              "      <td>Albury</td>\n",
              "      <td>12.9</td>\n",
              "      <td>25.7</td>\n",
              "      <td>0.0</td>\n",
              "      <td>NaN</td>\n",
              "      <td>NaN</td>\n",
              "      <td>WSW</td>\n",
              "      <td>46.0</td>\n",
              "      <td>W</td>\n",
              "      <td>WSW</td>\n",
              "      <td>...</td>\n",
              "      <td>1008.7</td>\n",
              "      <td>NaN</td>\n",
              "      <td>2.0</td>\n",
              "      <td>21.0</td>\n",
              "      <td>23.2</td>\n",
              "      <td>No</td>\n",
              "      <td>No</td>\n",
              "      <td>2008</td>\n",
              "      <td>12</td>\n",
              "      <td>3</td>\n",
              "    </tr>\n",
              "    <tr>\n",
              "      <th>3</th>\n",
              "      <td>Albury</td>\n",
              "      <td>9.2</td>\n",
              "      <td>28.0</td>\n",
              "      <td>0.0</td>\n",
              "      <td>NaN</td>\n",
              "      <td>NaN</td>\n",
              "      <td>NE</td>\n",
              "      <td>24.0</td>\n",
              "      <td>SE</td>\n",
              "      <td>E</td>\n",
              "      <td>...</td>\n",
              "      <td>1012.8</td>\n",
              "      <td>NaN</td>\n",
              "      <td>NaN</td>\n",
              "      <td>18.1</td>\n",
              "      <td>26.5</td>\n",
              "      <td>No</td>\n",
              "      <td>No</td>\n",
              "      <td>2008</td>\n",
              "      <td>12</td>\n",
              "      <td>4</td>\n",
              "    </tr>\n",
              "    <tr>\n",
              "      <th>4</th>\n",
              "      <td>Albury</td>\n",
              "      <td>17.5</td>\n",
              "      <td>32.3</td>\n",
              "      <td>1.0</td>\n",
              "      <td>NaN</td>\n",
              "      <td>NaN</td>\n",
              "      <td>W</td>\n",
              "      <td>41.0</td>\n",
              "      <td>ENE</td>\n",
              "      <td>NW</td>\n",
              "      <td>...</td>\n",
              "      <td>1006.0</td>\n",
              "      <td>7.0</td>\n",
              "      <td>8.0</td>\n",
              "      <td>17.8</td>\n",
              "      <td>29.7</td>\n",
              "      <td>No</td>\n",
              "      <td>No</td>\n",
              "      <td>2008</td>\n",
              "      <td>12</td>\n",
              "      <td>5</td>\n",
              "    </tr>\n",
              "  </tbody>\n",
              "</table>\n",
              "<p>5 rows × 25 columns</p>\n",
              "</div>"
            ],
            "text/plain": [
              "  Location  MinTemp  MaxTemp  Rainfall  Evaporation  Sunshine WindGustDir  \\\n",
              "0   Albury     13.4     22.9       0.6          NaN       NaN           W   \n",
              "1   Albury      7.4     25.1       0.0          NaN       NaN         WNW   \n",
              "2   Albury     12.9     25.7       0.0          NaN       NaN         WSW   \n",
              "3   Albury      9.2     28.0       0.0          NaN       NaN          NE   \n",
              "4   Albury     17.5     32.3       1.0          NaN       NaN           W   \n",
              "\n",
              "   WindGustSpeed WindDir9am WindDir3pm  ...  Pressure3pm  Cloud9am  Cloud3pm  \\\n",
              "0           44.0          W        WNW  ...       1007.1       8.0       NaN   \n",
              "1           44.0        NNW        WSW  ...       1007.8       NaN       NaN   \n",
              "2           46.0          W        WSW  ...       1008.7       NaN       2.0   \n",
              "3           24.0         SE          E  ...       1012.8       NaN       NaN   \n",
              "4           41.0        ENE         NW  ...       1006.0       7.0       8.0   \n",
              "\n",
              "   Temp9am  Temp3pm  RainToday  RainTomorrow  Year  Month  Day  \n",
              "0     16.9     21.8         No            No  2008     12    1  \n",
              "1     17.2     24.3         No            No  2008     12    2  \n",
              "2     21.0     23.2         No            No  2008     12    3  \n",
              "3     18.1     26.5         No            No  2008     12    4  \n",
              "4     17.8     29.7         No            No  2008     12    5  \n",
              "\n",
              "[5 rows x 25 columns]"
            ]
          },
          "execution_count": 16,
          "metadata": {},
          "output_type": "execute_result"
        }
      ],
      "source": [
        "# Preview the current dataset again after dropping the Date variable\n",
        "df_weather.head()"
      ]
    },
    {
      "cell_type": "code",
      "execution_count": null,
      "id": "e7adaa23",
      "metadata": {
        "execution": {
          "iopub.execute_input": "2025-05-14T04:13:40.979996Z",
          "iopub.status.busy": "2025-05-14T04:13:40.979668Z",
          "iopub.status.idle": "2025-05-14T04:13:40.986539Z",
          "shell.execute_reply": "2025-05-14T04:13:40.985373Z"
        },
        "papermill": {
          "duration": 0.040396,
          "end_time": "2025-05-14T04:13:40.988030",
          "exception": false,
          "start_time": "2025-05-14T04:13:40.947634",
          "status": "completed"
        },
        "tags": [],
        "id": "e7adaa23",
        "outputId": "3962b1eb-fd8d-46f7-9b15-90bd08e0b908"
      },
      "outputs": [
        {
          "name": "stdout",
          "output_type": "stream",
          "text": [
            "There are 6 categorical variables.\n",
            "\n",
            "The categorical variables are as follows:\n",
            " ['Location', 'WindGustDir', 'WindDir9am', 'WindDir3pm', 'RainToday', 'RainTomorrow']\n"
          ]
        }
      ],
      "source": [
        "# I separate and find Categorical variables in the newly updated dataset (without Date)\n",
        "\n",
        "categorical = [var for var in df_weather.columns if df_weather[var].dtype==\"O\"]\n",
        "print(\"There are {} categorical variables.\\n\".format(len(categorical)))\n",
        "print(\"The categorical variables are as follows:\\n\", categorical)"
      ]
    },
    {
      "cell_type": "code",
      "execution_count": null,
      "id": "22ca6eb6",
      "metadata": {
        "execution": {
          "iopub.execute_input": "2025-05-14T04:13:41.051724Z",
          "iopub.status.busy": "2025-05-14T04:13:41.051383Z",
          "iopub.status.idle": "2025-05-14T04:13:41.113004Z",
          "shell.execute_reply": "2025-05-14T04:13:41.111908Z"
        },
        "papermill": {
          "duration": 0.095039,
          "end_time": "2025-05-14T04:13:41.114814",
          "exception": false,
          "start_time": "2025-05-14T04:13:41.019775",
          "status": "completed"
        },
        "tags": [],
        "id": "22ca6eb6",
        "outputId": "c1e8e092-0447-4339-ffc8-330fdbe8951e"
      },
      "outputs": [
        {
          "data": {
            "text/plain": [
              "Location            0\n",
              "WindGustDir     10326\n",
              "WindDir9am      10566\n",
              "WindDir3pm       4228\n",
              "RainToday        3261\n",
              "RainTomorrow     3267\n",
              "dtype: int64"
            ]
          },
          "execution_count": 18,
          "metadata": {},
          "output_type": "execute_result"
        }
      ],
      "source": [
        "# Print any Categorical variables with missing values\n",
        "df_weather[categorical].isnull().sum()"
      ]
    },
    {
      "cell_type": "markdown",
      "id": "0eee332b",
      "metadata": {
        "papermill": {
          "duration": 0.031029,
          "end_time": "2025-05-14T04:13:41.177041",
          "exception": false,
          "start_time": "2025-05-14T04:13:41.146012",
          "status": "completed"
        },
        "tags": [],
        "id": "0eee332b"
      },
      "source": [
        "I can see that these following Categorical variables contain missing values,\n",
        "- Location,\n",
        "- WindGustDir,\n",
        "- WindDir9am,\n",
        "- WindDir3pm,\n",
        "- RainToday.\n",
        "\n",
        "I shall explore those Categorical variables one by one.\n",
        "\n",
        "Since RainTomorrow is our target variable, I'm going to leave it be."
      ]
    },
    {
      "cell_type": "markdown",
      "id": "915573b5",
      "metadata": {
        "papermill": {
          "duration": 0.030397,
          "end_time": "2025-05-14T04:13:41.238809",
          "exception": false,
          "start_time": "2025-05-14T04:13:41.208412",
          "status": "completed"
        },
        "tags": [],
        "id": "915573b5"
      },
      "source": [
        "**Firstly**, I'm going to explore Location variable."
      ]
    },
    {
      "cell_type": "code",
      "execution_count": null,
      "id": "483a4f41",
      "metadata": {
        "execution": {
          "iopub.execute_input": "2025-05-14T04:13:41.301881Z",
          "iopub.status.busy": "2025-05-14T04:13:41.301539Z",
          "iopub.status.idle": "2025-05-14T04:13:41.313696Z",
          "shell.execute_reply": "2025-05-14T04:13:41.312628Z"
        },
        "papermill": {
          "duration": 0.045835,
          "end_time": "2025-05-14T04:13:41.315666",
          "exception": false,
          "start_time": "2025-05-14T04:13:41.269831",
          "status": "completed"
        },
        "tags": [],
        "id": "483a4f41",
        "outputId": "299ed8e1-1a80-4cc1-ed16-5529d84dd338"
      },
      "outputs": [
        {
          "name": "stdout",
          "output_type": "stream",
          "text": [
            "Location contains 49 labels\n"
          ]
        }
      ],
      "source": [
        "# Print and display the number of labels in Location variable\n",
        "print(\"Location contains\", len(df_weather.Location.unique()), \"labels\")"
      ]
    },
    {
      "cell_type": "code",
      "execution_count": null,
      "id": "2b90913b",
      "metadata": {
        "execution": {
          "iopub.execute_input": "2025-05-14T04:13:41.378982Z",
          "iopub.status.busy": "2025-05-14T04:13:41.378657Z",
          "iopub.status.idle": "2025-05-14T04:13:41.391576Z",
          "shell.execute_reply": "2025-05-14T04:13:41.390590Z"
        },
        "papermill": {
          "duration": 0.046201,
          "end_time": "2025-05-14T04:13:41.393265",
          "exception": false,
          "start_time": "2025-05-14T04:13:41.347064",
          "status": "completed"
        },
        "tags": [],
        "id": "2b90913b",
        "outputId": "16d2f2de-45ee-4bdb-9c6a-3e657542f77f"
      },
      "outputs": [
        {
          "data": {
            "text/plain": [
              "array(['Albury', 'BadgerysCreek', 'Cobar', 'CoffsHarbour', 'Moree',\n",
              "       'Newcastle', 'NorahHead', 'NorfolkIsland', 'Penrith', 'Richmond',\n",
              "       'Sydney', 'SydneyAirport', 'WaggaWagga', 'Williamtown',\n",
              "       'Wollongong', 'Canberra', 'Tuggeranong', 'MountGinini', 'Ballarat',\n",
              "       'Bendigo', 'Sale', 'MelbourneAirport', 'Melbourne', 'Mildura',\n",
              "       'Nhil', 'Portland', 'Watsonia', 'Dartmoor', 'Brisbane', 'Cairns',\n",
              "       'GoldCoast', 'Townsville', 'Adelaide', 'MountGambier', 'Nuriootpa',\n",
              "       'Woomera', 'Albany', 'Witchcliffe', 'PearceRAAF', 'PerthAirport',\n",
              "       'Perth', 'SalmonGums', 'Walpole', 'Hobart', 'Launceston',\n",
              "       'AliceSprings', 'Darwin', 'Katherine', 'Uluru'], dtype=object)"
            ]
          },
          "execution_count": 20,
          "metadata": {},
          "output_type": "execute_result"
        }
      ],
      "source": [
        "# Display the number of labels of Location variable\n",
        "df_weather.Location.unique()"
      ]
    },
    {
      "cell_type": "code",
      "execution_count": null,
      "id": "14f1db60",
      "metadata": {
        "execution": {
          "iopub.execute_input": "2025-05-14T04:13:41.459042Z",
          "iopub.status.busy": "2025-05-14T04:13:41.458670Z",
          "iopub.status.idle": "2025-05-14T04:13:41.475055Z",
          "shell.execute_reply": "2025-05-14T04:13:41.474202Z"
        },
        "papermill": {
          "duration": 0.052114,
          "end_time": "2025-05-14T04:13:41.476987",
          "exception": false,
          "start_time": "2025-05-14T04:13:41.424873",
          "status": "completed"
        },
        "tags": [],
        "id": "14f1db60",
        "outputId": "028620b1-1d7b-4fc7-91c3-e38ed736c7c6"
      },
      "outputs": [
        {
          "data": {
            "text/plain": [
              "Location\n",
              "Canberra            3436\n",
              "Sydney              3344\n",
              "Darwin              3193\n",
              "Melbourne           3193\n",
              "Brisbane            3193\n",
              "Adelaide            3193\n",
              "Perth               3193\n",
              "Hobart              3193\n",
              "Albany              3040\n",
              "MountGambier        3040\n",
              "Ballarat            3040\n",
              "Townsville          3040\n",
              "GoldCoast           3040\n",
              "Cairns              3040\n",
              "Launceston          3040\n",
              "AliceSprings        3040\n",
              "Bendigo             3040\n",
              "Albury              3040\n",
              "MountGinini         3040\n",
              "Wollongong          3040\n",
              "Newcastle           3039\n",
              "Tuggeranong         3039\n",
              "Penrith             3039\n",
              "Woomera             3009\n",
              "Nuriootpa           3009\n",
              "Cobar               3009\n",
              "CoffsHarbour        3009\n",
              "Moree               3009\n",
              "Sale                3009\n",
              "PerthAirport        3009\n",
              "PearceRAAF          3009\n",
              "Witchcliffe         3009\n",
              "BadgerysCreek       3009\n",
              "Mildura             3009\n",
              "NorfolkIsland       3009\n",
              "MelbourneAirport    3009\n",
              "Richmond            3009\n",
              "SydneyAirport       3009\n",
              "WaggaWagga          3009\n",
              "Williamtown         3009\n",
              "Dartmoor            3009\n",
              "Watsonia            3009\n",
              "Portland            3009\n",
              "Walpole             3006\n",
              "NorahHead           3004\n",
              "SalmonGums          3001\n",
              "Katherine           1578\n",
              "Nhil                1578\n",
              "Uluru               1578\n",
              "Name: count, dtype: int64"
            ]
          },
          "execution_count": 21,
          "metadata": {},
          "output_type": "execute_result"
        }
      ],
      "source": [
        "# Display the frequency distribution of values in Location variable\n",
        "df_weather.Location.value_counts()"
      ]
    },
    {
      "cell_type": "markdown",
      "id": "718de3c4",
      "metadata": {
        "papermill": {
          "duration": 0.031387,
          "end_time": "2025-05-14T04:13:41.540027",
          "exception": false,
          "start_time": "2025-05-14T04:13:41.508640",
          "status": "completed"
        },
        "tags": [],
        "id": "718de3c4"
      },
      "source": [
        "Right now I will do the following steps for Location variable,\n",
        "1. Let's do One Hot Encoding of Location variable,\n",
        "2. Get K1 dummy variables after that,\n",
        "3. Preview the head of the dataset."
      ]
    },
    {
      "cell_type": "code",
      "execution_count": null,
      "id": "8359486d",
      "metadata": {
        "execution": {
          "iopub.execute_input": "2025-05-14T04:13:41.605392Z",
          "iopub.status.busy": "2025-05-14T04:13:41.604873Z",
          "iopub.status.idle": "2025-05-14T04:13:41.653331Z",
          "shell.execute_reply": "2025-05-14T04:13:41.652256Z"
        },
        "papermill": {
          "duration": 0.083397,
          "end_time": "2025-05-14T04:13:41.655178",
          "exception": false,
          "start_time": "2025-05-14T04:13:41.571781",
          "status": "completed"
        },
        "tags": [],
        "id": "8359486d",
        "outputId": "dc6607d4-1d74-45df-bb1f-0859c01f2e6f"
      },
      "outputs": [
        {
          "data": {
            "text/html": [
              "<div>\n",
              "<style scoped>\n",
              "    .dataframe tbody tr th:only-of-type {\n",
              "        vertical-align: middle;\n",
              "    }\n",
              "\n",
              "    .dataframe tbody tr th {\n",
              "        vertical-align: top;\n",
              "    }\n",
              "\n",
              "    .dataframe thead th {\n",
              "        text-align: right;\n",
              "    }\n",
              "</style>\n",
              "<table border=\"1\" class=\"dataframe\">\n",
              "  <thead>\n",
              "    <tr style=\"text-align: right;\">\n",
              "      <th></th>\n",
              "      <th>Albany</th>\n",
              "      <th>Albury</th>\n",
              "      <th>AliceSprings</th>\n",
              "      <th>BadgerysCreek</th>\n",
              "      <th>Ballarat</th>\n",
              "      <th>Bendigo</th>\n",
              "      <th>Brisbane</th>\n",
              "      <th>Cairns</th>\n",
              "      <th>Canberra</th>\n",
              "      <th>Cobar</th>\n",
              "      <th>...</th>\n",
              "      <th>Townsville</th>\n",
              "      <th>Tuggeranong</th>\n",
              "      <th>Uluru</th>\n",
              "      <th>WaggaWagga</th>\n",
              "      <th>Walpole</th>\n",
              "      <th>Watsonia</th>\n",
              "      <th>Williamtown</th>\n",
              "      <th>Witchcliffe</th>\n",
              "      <th>Wollongong</th>\n",
              "      <th>Woomera</th>\n",
              "    </tr>\n",
              "  </thead>\n",
              "  <tbody>\n",
              "    <tr>\n",
              "      <th>0</th>\n",
              "      <td>0</td>\n",
              "      <td>1</td>\n",
              "      <td>0</td>\n",
              "      <td>0</td>\n",
              "      <td>0</td>\n",
              "      <td>0</td>\n",
              "      <td>0</td>\n",
              "      <td>0</td>\n",
              "      <td>0</td>\n",
              "      <td>0</td>\n",
              "      <td>...</td>\n",
              "      <td>0</td>\n",
              "      <td>0</td>\n",
              "      <td>0</td>\n",
              "      <td>0</td>\n",
              "      <td>0</td>\n",
              "      <td>0</td>\n",
              "      <td>0</td>\n",
              "      <td>0</td>\n",
              "      <td>0</td>\n",
              "      <td>0</td>\n",
              "    </tr>\n",
              "    <tr>\n",
              "      <th>1</th>\n",
              "      <td>0</td>\n",
              "      <td>1</td>\n",
              "      <td>0</td>\n",
              "      <td>0</td>\n",
              "      <td>0</td>\n",
              "      <td>0</td>\n",
              "      <td>0</td>\n",
              "      <td>0</td>\n",
              "      <td>0</td>\n",
              "      <td>0</td>\n",
              "      <td>...</td>\n",
              "      <td>0</td>\n",
              "      <td>0</td>\n",
              "      <td>0</td>\n",
              "      <td>0</td>\n",
              "      <td>0</td>\n",
              "      <td>0</td>\n",
              "      <td>0</td>\n",
              "      <td>0</td>\n",
              "      <td>0</td>\n",
              "      <td>0</td>\n",
              "    </tr>\n",
              "    <tr>\n",
              "      <th>2</th>\n",
              "      <td>0</td>\n",
              "      <td>1</td>\n",
              "      <td>0</td>\n",
              "      <td>0</td>\n",
              "      <td>0</td>\n",
              "      <td>0</td>\n",
              "      <td>0</td>\n",
              "      <td>0</td>\n",
              "      <td>0</td>\n",
              "      <td>0</td>\n",
              "      <td>...</td>\n",
              "      <td>0</td>\n",
              "      <td>0</td>\n",
              "      <td>0</td>\n",
              "      <td>0</td>\n",
              "      <td>0</td>\n",
              "      <td>0</td>\n",
              "      <td>0</td>\n",
              "      <td>0</td>\n",
              "      <td>0</td>\n",
              "      <td>0</td>\n",
              "    </tr>\n",
              "    <tr>\n",
              "      <th>3</th>\n",
              "      <td>0</td>\n",
              "      <td>1</td>\n",
              "      <td>0</td>\n",
              "      <td>0</td>\n",
              "      <td>0</td>\n",
              "      <td>0</td>\n",
              "      <td>0</td>\n",
              "      <td>0</td>\n",
              "      <td>0</td>\n",
              "      <td>0</td>\n",
              "      <td>...</td>\n",
              "      <td>0</td>\n",
              "      <td>0</td>\n",
              "      <td>0</td>\n",
              "      <td>0</td>\n",
              "      <td>0</td>\n",
              "      <td>0</td>\n",
              "      <td>0</td>\n",
              "      <td>0</td>\n",
              "      <td>0</td>\n",
              "      <td>0</td>\n",
              "    </tr>\n",
              "    <tr>\n",
              "      <th>4</th>\n",
              "      <td>0</td>\n",
              "      <td>1</td>\n",
              "      <td>0</td>\n",
              "      <td>0</td>\n",
              "      <td>0</td>\n",
              "      <td>0</td>\n",
              "      <td>0</td>\n",
              "      <td>0</td>\n",
              "      <td>0</td>\n",
              "      <td>0</td>\n",
              "      <td>...</td>\n",
              "      <td>0</td>\n",
              "      <td>0</td>\n",
              "      <td>0</td>\n",
              "      <td>0</td>\n",
              "      <td>0</td>\n",
              "      <td>0</td>\n",
              "      <td>0</td>\n",
              "      <td>0</td>\n",
              "      <td>0</td>\n",
              "      <td>0</td>\n",
              "    </tr>\n",
              "  </tbody>\n",
              "</table>\n",
              "<p>5 rows × 48 columns</p>\n",
              "</div>"
            ],
            "text/plain": [
              "   Albany  Albury  AliceSprings  BadgerysCreek  Ballarat  Bendigo  Brisbane  \\\n",
              "0       0       1             0              0         0        0         0   \n",
              "1       0       1             0              0         0        0         0   \n",
              "2       0       1             0              0         0        0         0   \n",
              "3       0       1             0              0         0        0         0   \n",
              "4       0       1             0              0         0        0         0   \n",
              "\n",
              "   Cairns  Canberra  Cobar  ...  Townsville  Tuggeranong  Uluru  WaggaWagga  \\\n",
              "0       0         0      0  ...           0            0      0           0   \n",
              "1       0         0      0  ...           0            0      0           0   \n",
              "2       0         0      0  ...           0            0      0           0   \n",
              "3       0         0      0  ...           0            0      0           0   \n",
              "4       0         0      0  ...           0            0      0           0   \n",
              "\n",
              "   Walpole  Watsonia  Williamtown  Witchcliffe  Wollongong  Woomera  \n",
              "0        0         0            0            0           0        0  \n",
              "1        0         0            0            0           0        0  \n",
              "2        0         0            0            0           0        0  \n",
              "3        0         0            0            0           0        0  \n",
              "4        0         0            0            0           0        0  \n",
              "\n",
              "[5 rows x 48 columns]"
            ]
          },
          "execution_count": 22,
          "metadata": {},
          "output_type": "execute_result"
        }
      ],
      "source": [
        "pd.get_dummies(df_weather.Location, drop_first=True).astype(int).head()"
      ]
    },
    {
      "cell_type": "markdown",
      "id": "39a103d9",
      "metadata": {
        "papermill": {
          "duration": 0.03159,
          "end_time": "2025-05-14T04:13:41.718787",
          "exception": false,
          "start_time": "2025-05-14T04:13:41.687197",
          "status": "completed"
        },
        "tags": [],
        "id": "39a103d9"
      },
      "source": [
        "**Secondly**, I'm going to explore WindGustDir variable."
      ]
    },
    {
      "cell_type": "code",
      "execution_count": null,
      "id": "2d0f1227",
      "metadata": {
        "execution": {
          "iopub.execute_input": "2025-05-14T04:13:41.785246Z",
          "iopub.status.busy": "2025-05-14T04:13:41.784870Z",
          "iopub.status.idle": "2025-05-14T04:13:41.795610Z",
          "shell.execute_reply": "2025-05-14T04:13:41.794413Z"
        },
        "papermill": {
          "duration": 0.046701,
          "end_time": "2025-05-14T04:13:41.797188",
          "exception": false,
          "start_time": "2025-05-14T04:13:41.750487",
          "status": "completed"
        },
        "tags": [],
        "id": "2d0f1227",
        "outputId": "9bf313fe-3215-41dd-d5ba-33230fe5394c"
      },
      "outputs": [
        {
          "name": "stdout",
          "output_type": "stream",
          "text": [
            "WindGustDir contains 17 labels\n"
          ]
        }
      ],
      "source": [
        "# Print and display the number of labels in WindGustDir variable\n",
        "print(\"WindGustDir contains\", len(df_weather.WindGustDir.unique()), \"labels\")"
      ]
    },
    {
      "cell_type": "code",
      "execution_count": null,
      "id": "86dae4fe",
      "metadata": {
        "execution": {
          "iopub.execute_input": "2025-05-14T04:13:41.862681Z",
          "iopub.status.busy": "2025-05-14T04:13:41.862322Z",
          "iopub.status.idle": "2025-05-14T04:13:41.873269Z",
          "shell.execute_reply": "2025-05-14T04:13:41.872289Z"
        },
        "papermill": {
          "duration": 0.04552,
          "end_time": "2025-05-14T04:13:41.874825",
          "exception": false,
          "start_time": "2025-05-14T04:13:41.829305",
          "status": "completed"
        },
        "tags": [],
        "id": "86dae4fe",
        "outputId": "4236c6fb-a2a6-42e8-8315-b70ff4bc880d"
      },
      "outputs": [
        {
          "data": {
            "text/plain": [
              "array(['W', 'WNW', 'WSW', 'NE', 'NNW', 'N', 'NNE', 'SW', nan, 'ENE',\n",
              "       'SSE', 'S', 'NW', 'SE', 'ESE', 'E', 'SSW'], dtype=object)"
            ]
          },
          "execution_count": 24,
          "metadata": {},
          "output_type": "execute_result"
        }
      ],
      "source": [
        "# Display the number of labels of WindGustDir variable\n",
        "df_weather.WindGustDir.unique()"
      ]
    },
    {
      "cell_type": "code",
      "execution_count": null,
      "id": "e5338788",
      "metadata": {
        "execution": {
          "iopub.execute_input": "2025-05-14T04:13:41.939491Z",
          "iopub.status.busy": "2025-05-14T04:13:41.939051Z",
          "iopub.status.idle": "2025-05-14T04:13:41.956353Z",
          "shell.execute_reply": "2025-05-14T04:13:41.955247Z"
        },
        "papermill": {
          "duration": 0.051568,
          "end_time": "2025-05-14T04:13:41.958140",
          "exception": false,
          "start_time": "2025-05-14T04:13:41.906572",
          "status": "completed"
        },
        "tags": [],
        "id": "e5338788",
        "outputId": "286bdbc6-e161-4321-8b40-383ff257b632"
      },
      "outputs": [
        {
          "data": {
            "text/plain": [
              "WindGustDir\n",
              "W      9915\n",
              "SE     9418\n",
              "N      9313\n",
              "SSE    9216\n",
              "E      9181\n",
              "S      9168\n",
              "WSW    9069\n",
              "SW     8967\n",
              "SSW    8736\n",
              "WNW    8252\n",
              "NW     8122\n",
              "ENE    8104\n",
              "ESE    7372\n",
              "NE     7133\n",
              "NNW    6620\n",
              "NNE    6548\n",
              "Name: count, dtype: int64"
            ]
          },
          "execution_count": 25,
          "metadata": {},
          "output_type": "execute_result"
        }
      ],
      "source": [
        "# Display the frequency distribution of values in WindGustDir variable\n",
        "df_weather.WindGustDir.value_counts()"
      ]
    },
    {
      "cell_type": "markdown",
      "id": "92a1ef52",
      "metadata": {
        "papermill": {
          "duration": 0.032403,
          "end_time": "2025-05-14T04:13:42.024075",
          "exception": false,
          "start_time": "2025-05-14T04:13:41.991672",
          "status": "completed"
        },
        "tags": [],
        "id": "92a1ef52"
      },
      "source": [
        "Right now I will do the following steps for WindGustDir variable,\n",
        "1. Let's do One Hot Encoding of WindGustDir variable,\n",
        "2. Get K1 dummy variables after that,\n",
        "3. Add an additional dummy variable to indicate any missing values,\n",
        "4. Preview the head of the dataset."
      ]
    },
    {
      "cell_type": "code",
      "execution_count": null,
      "id": "de347f12",
      "metadata": {
        "execution": {
          "iopub.execute_input": "2025-05-14T04:13:42.090036Z",
          "iopub.status.busy": "2025-05-14T04:13:42.089674Z",
          "iopub.status.idle": "2025-05-14T04:13:42.122925Z",
          "shell.execute_reply": "2025-05-14T04:13:42.121311Z"
        },
        "papermill": {
          "duration": 0.068406,
          "end_time": "2025-05-14T04:13:42.125129",
          "exception": false,
          "start_time": "2025-05-14T04:13:42.056723",
          "status": "completed"
        },
        "tags": [],
        "id": "de347f12",
        "outputId": "b6377078-4ecd-4174-d3e4-95cbac1ecffe"
      },
      "outputs": [
        {
          "data": {
            "text/html": [
              "<div>\n",
              "<style scoped>\n",
              "    .dataframe tbody tr th:only-of-type {\n",
              "        vertical-align: middle;\n",
              "    }\n",
              "\n",
              "    .dataframe tbody tr th {\n",
              "        vertical-align: top;\n",
              "    }\n",
              "\n",
              "    .dataframe thead th {\n",
              "        text-align: right;\n",
              "    }\n",
              "</style>\n",
              "<table border=\"1\" class=\"dataframe\">\n",
              "  <thead>\n",
              "    <tr style=\"text-align: right;\">\n",
              "      <th></th>\n",
              "      <th>ENE</th>\n",
              "      <th>ESE</th>\n",
              "      <th>N</th>\n",
              "      <th>NE</th>\n",
              "      <th>NNE</th>\n",
              "      <th>NNW</th>\n",
              "      <th>NW</th>\n",
              "      <th>S</th>\n",
              "      <th>SE</th>\n",
              "      <th>SSE</th>\n",
              "      <th>SSW</th>\n",
              "      <th>SW</th>\n",
              "      <th>W</th>\n",
              "      <th>WNW</th>\n",
              "      <th>WSW</th>\n",
              "      <th>NaN</th>\n",
              "    </tr>\n",
              "  </thead>\n",
              "  <tbody>\n",
              "    <tr>\n",
              "      <th>0</th>\n",
              "      <td>0</td>\n",
              "      <td>0</td>\n",
              "      <td>0</td>\n",
              "      <td>0</td>\n",
              "      <td>0</td>\n",
              "      <td>0</td>\n",
              "      <td>0</td>\n",
              "      <td>0</td>\n",
              "      <td>0</td>\n",
              "      <td>0</td>\n",
              "      <td>0</td>\n",
              "      <td>0</td>\n",
              "      <td>1</td>\n",
              "      <td>0</td>\n",
              "      <td>0</td>\n",
              "      <td>0</td>\n",
              "    </tr>\n",
              "    <tr>\n",
              "      <th>1</th>\n",
              "      <td>0</td>\n",
              "      <td>0</td>\n",
              "      <td>0</td>\n",
              "      <td>0</td>\n",
              "      <td>0</td>\n",
              "      <td>0</td>\n",
              "      <td>0</td>\n",
              "      <td>0</td>\n",
              "      <td>0</td>\n",
              "      <td>0</td>\n",
              "      <td>0</td>\n",
              "      <td>0</td>\n",
              "      <td>0</td>\n",
              "      <td>1</td>\n",
              "      <td>0</td>\n",
              "      <td>0</td>\n",
              "    </tr>\n",
              "    <tr>\n",
              "      <th>2</th>\n",
              "      <td>0</td>\n",
              "      <td>0</td>\n",
              "      <td>0</td>\n",
              "      <td>0</td>\n",
              "      <td>0</td>\n",
              "      <td>0</td>\n",
              "      <td>0</td>\n",
              "      <td>0</td>\n",
              "      <td>0</td>\n",
              "      <td>0</td>\n",
              "      <td>0</td>\n",
              "      <td>0</td>\n",
              "      <td>0</td>\n",
              "      <td>0</td>\n",
              "      <td>1</td>\n",
              "      <td>0</td>\n",
              "    </tr>\n",
              "    <tr>\n",
              "      <th>3</th>\n",
              "      <td>0</td>\n",
              "      <td>0</td>\n",
              "      <td>0</td>\n",
              "      <td>1</td>\n",
              "      <td>0</td>\n",
              "      <td>0</td>\n",
              "      <td>0</td>\n",
              "      <td>0</td>\n",
              "      <td>0</td>\n",
              "      <td>0</td>\n",
              "      <td>0</td>\n",
              "      <td>0</td>\n",
              "      <td>0</td>\n",
              "      <td>0</td>\n",
              "      <td>0</td>\n",
              "      <td>0</td>\n",
              "    </tr>\n",
              "    <tr>\n",
              "      <th>4</th>\n",
              "      <td>0</td>\n",
              "      <td>0</td>\n",
              "      <td>0</td>\n",
              "      <td>0</td>\n",
              "      <td>0</td>\n",
              "      <td>0</td>\n",
              "      <td>0</td>\n",
              "      <td>0</td>\n",
              "      <td>0</td>\n",
              "      <td>0</td>\n",
              "      <td>0</td>\n",
              "      <td>0</td>\n",
              "      <td>1</td>\n",
              "      <td>0</td>\n",
              "      <td>0</td>\n",
              "      <td>0</td>\n",
              "    </tr>\n",
              "  </tbody>\n",
              "</table>\n",
              "</div>"
            ],
            "text/plain": [
              "   ENE  ESE  N  NE  NNE  NNW  NW  S  SE  SSE  SSW  SW  W  WNW  WSW  NaN\n",
              "0    0    0  0   0    0    0   0  0   0    0    0   0  1    0    0    0\n",
              "1    0    0  0   0    0    0   0  0   0    0    0   0  0    1    0    0\n",
              "2    0    0  0   0    0    0   0  0   0    0    0   0  0    0    1    0\n",
              "3    0    0  0   1    0    0   0  0   0    0    0   0  0    0    0    0\n",
              "4    0    0  0   0    0    0   0  0   0    0    0   0  1    0    0    0"
            ]
          },
          "execution_count": 26,
          "metadata": {},
          "output_type": "execute_result"
        }
      ],
      "source": [
        "pd.get_dummies(df_weather.WindGustDir, drop_first=True, dummy_na=True).astype(int).head()"
      ]
    },
    {
      "cell_type": "markdown",
      "id": "80fd2a79",
      "metadata": {
        "papermill": {
          "duration": 0.032711,
          "end_time": "2025-05-14T04:13:42.191383",
          "exception": false,
          "start_time": "2025-05-14T04:13:42.158672",
          "status": "completed"
        },
        "tags": [],
        "id": "80fd2a79"
      },
      "source": [
        "Now, I can sum the number of 1s per boolean in WindGustDir variable over the rows in the dataset."
      ]
    },
    {
      "cell_type": "code",
      "execution_count": null,
      "id": "2f8968c3",
      "metadata": {
        "execution": {
          "iopub.execute_input": "2025-05-14T04:13:42.256882Z",
          "iopub.status.busy": "2025-05-14T04:13:42.256467Z",
          "iopub.status.idle": "2025-05-14T04:13:42.287387Z",
          "shell.execute_reply": "2025-05-14T04:13:42.286056Z"
        },
        "papermill": {
          "duration": 0.065593,
          "end_time": "2025-05-14T04:13:42.289059",
          "exception": false,
          "start_time": "2025-05-14T04:13:42.223466",
          "status": "completed"
        },
        "tags": [],
        "id": "2f8968c3",
        "outputId": "4a28a748-5544-490c-f990-99d937222a69"
      },
      "outputs": [
        {
          "data": {
            "text/plain": [
              "ENE     8104\n",
              "ESE     7372\n",
              "N       9313\n",
              "NE      7133\n",
              "NNE     6548\n",
              "NNW     6620\n",
              "NW      8122\n",
              "S       9168\n",
              "SE      9418\n",
              "SSE     9216\n",
              "SSW     8736\n",
              "SW      8967\n",
              "W       9915\n",
              "WNW     8252\n",
              "WSW     9069\n",
              "NaN    10326\n",
              "dtype: int64"
            ]
          },
          "execution_count": 27,
          "metadata": {},
          "output_type": "execute_result"
        }
      ],
      "source": [
        "pd.get_dummies(df_weather.WindGustDir, drop_first=True, dummy_na=True).sum(axis=0)"
      ]
    },
    {
      "cell_type": "markdown",
      "id": "384ada0a",
      "metadata": {
        "papermill": {
          "duration": 0.031894,
          "end_time": "2025-05-14T04:13:42.353541",
          "exception": false,
          "start_time": "2025-05-14T04:13:42.321647",
          "status": "completed"
        },
        "tags": [],
        "id": "384ada0a"
      },
      "source": [
        "There are 10,326 missing values in WindGustDir variable."
      ]
    },
    {
      "cell_type": "markdown",
      "id": "2b94db31",
      "metadata": {
        "papermill": {
          "duration": 0.033198,
          "end_time": "2025-05-14T04:13:42.418876",
          "exception": false,
          "start_time": "2025-05-14T04:13:42.385678",
          "status": "completed"
        },
        "tags": [],
        "id": "2b94db31"
      },
      "source": [
        "**Thirdly**, I'm going to explore WindDir9am variable."
      ]
    },
    {
      "cell_type": "code",
      "execution_count": null,
      "id": "39340e2a",
      "metadata": {
        "execution": {
          "iopub.execute_input": "2025-05-14T04:13:42.484886Z",
          "iopub.status.busy": "2025-05-14T04:13:42.484555Z",
          "iopub.status.idle": "2025-05-14T04:13:42.494938Z",
          "shell.execute_reply": "2025-05-14T04:13:42.493995Z"
        },
        "papermill": {
          "duration": 0.045621,
          "end_time": "2025-05-14T04:13:42.496565",
          "exception": false,
          "start_time": "2025-05-14T04:13:42.450944",
          "status": "completed"
        },
        "tags": [],
        "id": "39340e2a",
        "outputId": "88faa6ca-172d-4340-d543-2a8ca5cdc414"
      },
      "outputs": [
        {
          "name": "stdout",
          "output_type": "stream",
          "text": [
            "WindDir9am contains 17 labels\n"
          ]
        }
      ],
      "source": [
        "# Print and display the number of labels in WindDir9am variable\n",
        "print(\"WindDir9am contains\", len(df_weather.WindDir9am.unique()), \"labels\")"
      ]
    },
    {
      "cell_type": "code",
      "execution_count": null,
      "id": "c2832cbd",
      "metadata": {
        "execution": {
          "iopub.execute_input": "2025-05-14T04:13:42.562684Z",
          "iopub.status.busy": "2025-05-14T04:13:42.562313Z",
          "iopub.status.idle": "2025-05-14T04:13:42.573001Z",
          "shell.execute_reply": "2025-05-14T04:13:42.571985Z"
        },
        "papermill": {
          "duration": 0.045662,
          "end_time": "2025-05-14T04:13:42.574595",
          "exception": false,
          "start_time": "2025-05-14T04:13:42.528933",
          "status": "completed"
        },
        "tags": [],
        "id": "c2832cbd",
        "outputId": "ebe98300-8b1c-4ca0-c70d-16757163b17b"
      },
      "outputs": [
        {
          "data": {
            "text/plain": [
              "array(['W', 'NNW', 'SE', 'ENE', 'SW', 'SSE', 'S', 'NE', nan, 'SSW', 'N',\n",
              "       'WSW', 'ESE', 'E', 'NW', 'WNW', 'NNE'], dtype=object)"
            ]
          },
          "execution_count": 29,
          "metadata": {},
          "output_type": "execute_result"
        }
      ],
      "source": [
        "# Display the number of labels of WindDir9am variable\n",
        "df_weather.WindDir9am.unique()"
      ]
    },
    {
      "cell_type": "code",
      "execution_count": null,
      "id": "abc8396c",
      "metadata": {
        "execution": {
          "iopub.execute_input": "2025-05-14T04:13:42.641623Z",
          "iopub.status.busy": "2025-05-14T04:13:42.641256Z",
          "iopub.status.idle": "2025-05-14T04:13:42.658499Z",
          "shell.execute_reply": "2025-05-14T04:13:42.657430Z"
        },
        "papermill": {
          "duration": 0.052371,
          "end_time": "2025-05-14T04:13:42.660142",
          "exception": false,
          "start_time": "2025-05-14T04:13:42.607771",
          "status": "completed"
        },
        "tags": [],
        "id": "abc8396c",
        "outputId": "bfb3e1ad-315e-4558-810e-f2ce60594225"
      },
      "outputs": [
        {
          "data": {
            "text/plain": [
              "WindDir9am\n",
              "N      11758\n",
              "SE      9287\n",
              "E       9176\n",
              "SSE     9112\n",
              "NW      8749\n",
              "S       8659\n",
              "W       8459\n",
              "SW      8423\n",
              "NNE     8129\n",
              "NNW     7980\n",
              "ENE     7836\n",
              "NE      7671\n",
              "ESE     7630\n",
              "SSW     7587\n",
              "WNW     7414\n",
              "WSW     7024\n",
              "Name: count, dtype: int64"
            ]
          },
          "execution_count": 30,
          "metadata": {},
          "output_type": "execute_result"
        }
      ],
      "source": [
        "# Display the frequency distribution of values in WindDir9am variable\n",
        "df_weather.WindDir9am.value_counts()"
      ]
    },
    {
      "cell_type": "markdown",
      "id": "8626bfdc",
      "metadata": {
        "papermill": {
          "duration": 0.087094,
          "end_time": "2025-05-14T04:13:42.780665",
          "exception": false,
          "start_time": "2025-05-14T04:13:42.693571",
          "status": "completed"
        },
        "tags": [],
        "id": "8626bfdc"
      },
      "source": [
        "Right now I will do the following steps for WindDir9am variable,\n",
        "1. Let's do One Hot Encoding of WindDir9am variable,\n",
        "2. Get K1 dummy variables after that,\n",
        "3. Add an additional dummy variable to indicate any missing values,\n",
        "4. Preview the head of the dataset."
      ]
    },
    {
      "cell_type": "code",
      "execution_count": null,
      "id": "708c9169",
      "metadata": {
        "execution": {
          "iopub.execute_input": "2025-05-14T04:13:42.848438Z",
          "iopub.status.busy": "2025-05-14T04:13:42.847967Z",
          "iopub.status.idle": "2025-05-14T04:13:42.884094Z",
          "shell.execute_reply": "2025-05-14T04:13:42.883054Z"
        },
        "papermill": {
          "duration": 0.071261,
          "end_time": "2025-05-14T04:13:42.885918",
          "exception": false,
          "start_time": "2025-05-14T04:13:42.814657",
          "status": "completed"
        },
        "tags": [],
        "id": "708c9169",
        "outputId": "a9b6cdb5-6eb9-48ed-c20f-fc7b174212df"
      },
      "outputs": [
        {
          "data": {
            "text/html": [
              "<div>\n",
              "<style scoped>\n",
              "    .dataframe tbody tr th:only-of-type {\n",
              "        vertical-align: middle;\n",
              "    }\n",
              "\n",
              "    .dataframe tbody tr th {\n",
              "        vertical-align: top;\n",
              "    }\n",
              "\n",
              "    .dataframe thead th {\n",
              "        text-align: right;\n",
              "    }\n",
              "</style>\n",
              "<table border=\"1\" class=\"dataframe\">\n",
              "  <thead>\n",
              "    <tr style=\"text-align: right;\">\n",
              "      <th></th>\n",
              "      <th>ENE</th>\n",
              "      <th>ESE</th>\n",
              "      <th>N</th>\n",
              "      <th>NE</th>\n",
              "      <th>NNE</th>\n",
              "      <th>NNW</th>\n",
              "      <th>NW</th>\n",
              "      <th>S</th>\n",
              "      <th>SE</th>\n",
              "      <th>SSE</th>\n",
              "      <th>SSW</th>\n",
              "      <th>SW</th>\n",
              "      <th>W</th>\n",
              "      <th>WNW</th>\n",
              "      <th>WSW</th>\n",
              "      <th>NaN</th>\n",
              "    </tr>\n",
              "  </thead>\n",
              "  <tbody>\n",
              "    <tr>\n",
              "      <th>0</th>\n",
              "      <td>0</td>\n",
              "      <td>0</td>\n",
              "      <td>0</td>\n",
              "      <td>0</td>\n",
              "      <td>0</td>\n",
              "      <td>0</td>\n",
              "      <td>0</td>\n",
              "      <td>0</td>\n",
              "      <td>0</td>\n",
              "      <td>0</td>\n",
              "      <td>0</td>\n",
              "      <td>0</td>\n",
              "      <td>1</td>\n",
              "      <td>0</td>\n",
              "      <td>0</td>\n",
              "      <td>0</td>\n",
              "    </tr>\n",
              "    <tr>\n",
              "      <th>1</th>\n",
              "      <td>0</td>\n",
              "      <td>0</td>\n",
              "      <td>0</td>\n",
              "      <td>0</td>\n",
              "      <td>0</td>\n",
              "      <td>1</td>\n",
              "      <td>0</td>\n",
              "      <td>0</td>\n",
              "      <td>0</td>\n",
              "      <td>0</td>\n",
              "      <td>0</td>\n",
              "      <td>0</td>\n",
              "      <td>0</td>\n",
              "      <td>0</td>\n",
              "      <td>0</td>\n",
              "      <td>0</td>\n",
              "    </tr>\n",
              "    <tr>\n",
              "      <th>2</th>\n",
              "      <td>0</td>\n",
              "      <td>0</td>\n",
              "      <td>0</td>\n",
              "      <td>0</td>\n",
              "      <td>0</td>\n",
              "      <td>0</td>\n",
              "      <td>0</td>\n",
              "      <td>0</td>\n",
              "      <td>0</td>\n",
              "      <td>0</td>\n",
              "      <td>0</td>\n",
              "      <td>0</td>\n",
              "      <td>1</td>\n",
              "      <td>0</td>\n",
              "      <td>0</td>\n",
              "      <td>0</td>\n",
              "    </tr>\n",
              "    <tr>\n",
              "      <th>3</th>\n",
              "      <td>0</td>\n",
              "      <td>0</td>\n",
              "      <td>0</td>\n",
              "      <td>0</td>\n",
              "      <td>0</td>\n",
              "      <td>0</td>\n",
              "      <td>0</td>\n",
              "      <td>0</td>\n",
              "      <td>1</td>\n",
              "      <td>0</td>\n",
              "      <td>0</td>\n",
              "      <td>0</td>\n",
              "      <td>0</td>\n",
              "      <td>0</td>\n",
              "      <td>0</td>\n",
              "      <td>0</td>\n",
              "    </tr>\n",
              "    <tr>\n",
              "      <th>4</th>\n",
              "      <td>1</td>\n",
              "      <td>0</td>\n",
              "      <td>0</td>\n",
              "      <td>0</td>\n",
              "      <td>0</td>\n",
              "      <td>0</td>\n",
              "      <td>0</td>\n",
              "      <td>0</td>\n",
              "      <td>0</td>\n",
              "      <td>0</td>\n",
              "      <td>0</td>\n",
              "      <td>0</td>\n",
              "      <td>0</td>\n",
              "      <td>0</td>\n",
              "      <td>0</td>\n",
              "      <td>0</td>\n",
              "    </tr>\n",
              "  </tbody>\n",
              "</table>\n",
              "</div>"
            ],
            "text/plain": [
              "   ENE  ESE  N  NE  NNE  NNW  NW  S  SE  SSE  SSW  SW  W  WNW  WSW  NaN\n",
              "0    0    0  0   0    0    0   0  0   0    0    0   0  1    0    0    0\n",
              "1    0    0  0   0    0    1   0  0   0    0    0   0  0    0    0    0\n",
              "2    0    0  0   0    0    0   0  0   0    0    0   0  1    0    0    0\n",
              "3    0    0  0   0    0    0   0  0   1    0    0   0  0    0    0    0\n",
              "4    1    0  0   0    0    0   0  0   0    0    0   0  0    0    0    0"
            ]
          },
          "execution_count": 31,
          "metadata": {},
          "output_type": "execute_result"
        }
      ],
      "source": [
        "pd.get_dummies(df_weather.WindDir9am, drop_first=True, dummy_na=True).astype(int).head()"
      ]
    },
    {
      "cell_type": "markdown",
      "id": "14256a01",
      "metadata": {
        "papermill": {
          "duration": 0.033059,
          "end_time": "2025-05-14T04:13:42.951701",
          "exception": false,
          "start_time": "2025-05-14T04:13:42.918642",
          "status": "completed"
        },
        "tags": [],
        "id": "14256a01"
      },
      "source": [
        "Now, we can sum the number of 1s per boolean in WindDir9am variable over the rows in the dataset."
      ]
    },
    {
      "cell_type": "code",
      "execution_count": null,
      "id": "359b717b",
      "metadata": {
        "execution": {
          "iopub.execute_input": "2025-05-14T04:13:43.022959Z",
          "iopub.status.busy": "2025-05-14T04:13:43.022589Z",
          "iopub.status.idle": "2025-05-14T04:13:43.053249Z",
          "shell.execute_reply": "2025-05-14T04:13:43.051981Z"
        },
        "papermill": {
          "duration": 0.068523,
          "end_time": "2025-05-14T04:13:43.055129",
          "exception": false,
          "start_time": "2025-05-14T04:13:42.986606",
          "status": "completed"
        },
        "tags": [],
        "id": "359b717b",
        "outputId": "bac418c1-6fc0-4951-b0f8-21d3621988ea"
      },
      "outputs": [
        {
          "data": {
            "text/plain": [
              "ENE     7836\n",
              "ESE     7630\n",
              "N      11758\n",
              "NE      7671\n",
              "NNE     8129\n",
              "NNW     7980\n",
              "NW      8749\n",
              "S       8659\n",
              "SE      9287\n",
              "SSE     9112\n",
              "SSW     7587\n",
              "SW      8423\n",
              "W       8459\n",
              "WNW     7414\n",
              "WSW     7024\n",
              "NaN    10566\n",
              "dtype: int64"
            ]
          },
          "execution_count": 32,
          "metadata": {},
          "output_type": "execute_result"
        }
      ],
      "source": [
        "pd.get_dummies(df_weather.WindDir9am, drop_first=True, dummy_na=True).sum(axis=0)"
      ]
    },
    {
      "cell_type": "markdown",
      "id": "21bf1993",
      "metadata": {
        "papermill": {
          "duration": 0.032461,
          "end_time": "2025-05-14T04:13:43.120681",
          "exception": false,
          "start_time": "2025-05-14T04:13:43.088220",
          "status": "completed"
        },
        "tags": [],
        "id": "21bf1993"
      },
      "source": [
        "There are 10,566 missing values in WindDir9am variable."
      ]
    },
    {
      "cell_type": "markdown",
      "id": "43cc2fbf",
      "metadata": {
        "papermill": {
          "duration": 0.03245,
          "end_time": "2025-05-14T04:13:43.185602",
          "exception": false,
          "start_time": "2025-05-14T04:13:43.153152",
          "status": "completed"
        },
        "tags": [],
        "id": "43cc2fbf"
      },
      "source": [
        "**Fourthly**, I'm going to explore WindDir3pm variable."
      ]
    },
    {
      "cell_type": "code",
      "execution_count": null,
      "id": "e49fab83",
      "metadata": {
        "execution": {
          "iopub.execute_input": "2025-05-14T04:13:43.254859Z",
          "iopub.status.busy": "2025-05-14T04:13:43.254507Z",
          "iopub.status.idle": "2025-05-14T04:13:43.265054Z",
          "shell.execute_reply": "2025-05-14T04:13:43.263594Z"
        },
        "papermill": {
          "duration": 0.045977,
          "end_time": "2025-05-14T04:13:43.266735",
          "exception": false,
          "start_time": "2025-05-14T04:13:43.220758",
          "status": "completed"
        },
        "tags": [],
        "id": "e49fab83",
        "outputId": "2ea4c2ba-6356-433c-ff2b-bbd3fcd701d1"
      },
      "outputs": [
        {
          "name": "stdout",
          "output_type": "stream",
          "text": [
            "WindDir3pm contains 17 labels\n"
          ]
        }
      ],
      "source": [
        "# Print and display the number of labels in WindDir3pm variable\n",
        "print(\"WindDir3pm contains\", len(df_weather.WindDir3pm.unique()), \"labels\")"
      ]
    },
    {
      "cell_type": "code",
      "execution_count": null,
      "id": "5fa941fb",
      "metadata": {
        "execution": {
          "iopub.execute_input": "2025-05-14T04:13:43.334875Z",
          "iopub.status.busy": "2025-05-14T04:13:43.334502Z",
          "iopub.status.idle": "2025-05-14T04:13:43.345474Z",
          "shell.execute_reply": "2025-05-14T04:13:43.344287Z"
        },
        "papermill": {
          "duration": 0.047166,
          "end_time": "2025-05-14T04:13:43.347198",
          "exception": false,
          "start_time": "2025-05-14T04:13:43.300032",
          "status": "completed"
        },
        "tags": [],
        "id": "5fa941fb",
        "outputId": "238d3b63-6233-47de-ba88-bfcd385ce96d"
      },
      "outputs": [
        {
          "data": {
            "text/plain": [
              "array(['WNW', 'WSW', 'E', 'NW', 'W', 'SSE', 'ESE', 'ENE', 'NNW', 'SSW',\n",
              "       'SW', 'SE', 'N', 'S', 'NNE', nan, 'NE'], dtype=object)"
            ]
          },
          "execution_count": 34,
          "metadata": {},
          "output_type": "execute_result"
        }
      ],
      "source": [
        "# Display the number of labels of WindDir3pm variable\n",
        "df_weather.WindDir3pm.unique()"
      ]
    },
    {
      "cell_type": "code",
      "execution_count": null,
      "id": "1336a056",
      "metadata": {
        "execution": {
          "iopub.execute_input": "2025-05-14T04:13:43.417751Z",
          "iopub.status.busy": "2025-05-14T04:13:43.417372Z",
          "iopub.status.idle": "2025-05-14T04:13:43.434623Z",
          "shell.execute_reply": "2025-05-14T04:13:43.433668Z"
        },
        "papermill": {
          "duration": 0.05454,
          "end_time": "2025-05-14T04:13:43.436626",
          "exception": false,
          "start_time": "2025-05-14T04:13:43.382086",
          "status": "completed"
        },
        "tags": [],
        "id": "1336a056",
        "outputId": "5c15f639-1a86-49fc-866b-55c687b36307"
      },
      "outputs": [
        {
          "data": {
            "text/plain": [
              "WindDir3pm\n",
              "SE     10838\n",
              "W      10110\n",
              "S       9926\n",
              "WSW     9518\n",
              "SSE     9399\n",
              "SW      9354\n",
              "N       8890\n",
              "WNW     8874\n",
              "NW      8610\n",
              "ESE     8505\n",
              "E       8472\n",
              "NE      8263\n",
              "SSW     8156\n",
              "NNW     7870\n",
              "ENE     7857\n",
              "NNE     6590\n",
              "Name: count, dtype: int64"
            ]
          },
          "execution_count": 35,
          "metadata": {},
          "output_type": "execute_result"
        }
      ],
      "source": [
        "# Display the frequency distribution of values in WindDir3pm variable\n",
        "df_weather.WindDir3pm.value_counts()"
      ]
    },
    {
      "cell_type": "markdown",
      "id": "8d156dda",
      "metadata": {
        "papermill": {
          "duration": 0.033314,
          "end_time": "2025-05-14T04:13:43.503629",
          "exception": false,
          "start_time": "2025-05-14T04:13:43.470315",
          "status": "completed"
        },
        "tags": [],
        "id": "8d156dda"
      },
      "source": [
        "Right now I will do the following steps for WindDir3pm variable,\n",
        "1. Let's do One Hot Encoding of WindDir3pm variable,\n",
        "2. Get K1 dummy variables after that,\n",
        "3. Add an additional dummy variable to indicate any missing values,\n",
        "4. Preview the head of the dataset."
      ]
    },
    {
      "cell_type": "code",
      "execution_count": null,
      "id": "501119c4",
      "metadata": {
        "execution": {
          "iopub.execute_input": "2025-05-14T04:13:43.571338Z",
          "iopub.status.busy": "2025-05-14T04:13:43.570958Z",
          "iopub.status.idle": "2025-05-14T04:13:43.605305Z",
          "shell.execute_reply": "2025-05-14T04:13:43.604140Z"
        },
        "papermill": {
          "duration": 0.070158,
          "end_time": "2025-05-14T04:13:43.606973",
          "exception": false,
          "start_time": "2025-05-14T04:13:43.536815",
          "status": "completed"
        },
        "tags": [],
        "id": "501119c4",
        "outputId": "fdbbd144-85a3-4904-e180-0317754010eb"
      },
      "outputs": [
        {
          "data": {
            "text/html": [
              "<div>\n",
              "<style scoped>\n",
              "    .dataframe tbody tr th:only-of-type {\n",
              "        vertical-align: middle;\n",
              "    }\n",
              "\n",
              "    .dataframe tbody tr th {\n",
              "        vertical-align: top;\n",
              "    }\n",
              "\n",
              "    .dataframe thead th {\n",
              "        text-align: right;\n",
              "    }\n",
              "</style>\n",
              "<table border=\"1\" class=\"dataframe\">\n",
              "  <thead>\n",
              "    <tr style=\"text-align: right;\">\n",
              "      <th></th>\n",
              "      <th>ENE</th>\n",
              "      <th>ESE</th>\n",
              "      <th>N</th>\n",
              "      <th>NE</th>\n",
              "      <th>NNE</th>\n",
              "      <th>NNW</th>\n",
              "      <th>NW</th>\n",
              "      <th>S</th>\n",
              "      <th>SE</th>\n",
              "      <th>SSE</th>\n",
              "      <th>SSW</th>\n",
              "      <th>SW</th>\n",
              "      <th>W</th>\n",
              "      <th>WNW</th>\n",
              "      <th>WSW</th>\n",
              "      <th>NaN</th>\n",
              "    </tr>\n",
              "  </thead>\n",
              "  <tbody>\n",
              "    <tr>\n",
              "      <th>0</th>\n",
              "      <td>0</td>\n",
              "      <td>0</td>\n",
              "      <td>0</td>\n",
              "      <td>0</td>\n",
              "      <td>0</td>\n",
              "      <td>0</td>\n",
              "      <td>0</td>\n",
              "      <td>0</td>\n",
              "      <td>0</td>\n",
              "      <td>0</td>\n",
              "      <td>0</td>\n",
              "      <td>0</td>\n",
              "      <td>0</td>\n",
              "      <td>1</td>\n",
              "      <td>0</td>\n",
              "      <td>0</td>\n",
              "    </tr>\n",
              "    <tr>\n",
              "      <th>1</th>\n",
              "      <td>0</td>\n",
              "      <td>0</td>\n",
              "      <td>0</td>\n",
              "      <td>0</td>\n",
              "      <td>0</td>\n",
              "      <td>0</td>\n",
              "      <td>0</td>\n",
              "      <td>0</td>\n",
              "      <td>0</td>\n",
              "      <td>0</td>\n",
              "      <td>0</td>\n",
              "      <td>0</td>\n",
              "      <td>0</td>\n",
              "      <td>0</td>\n",
              "      <td>1</td>\n",
              "      <td>0</td>\n",
              "    </tr>\n",
              "    <tr>\n",
              "      <th>2</th>\n",
              "      <td>0</td>\n",
              "      <td>0</td>\n",
              "      <td>0</td>\n",
              "      <td>0</td>\n",
              "      <td>0</td>\n",
              "      <td>0</td>\n",
              "      <td>0</td>\n",
              "      <td>0</td>\n",
              "      <td>0</td>\n",
              "      <td>0</td>\n",
              "      <td>0</td>\n",
              "      <td>0</td>\n",
              "      <td>0</td>\n",
              "      <td>0</td>\n",
              "      <td>1</td>\n",
              "      <td>0</td>\n",
              "    </tr>\n",
              "    <tr>\n",
              "      <th>3</th>\n",
              "      <td>0</td>\n",
              "      <td>0</td>\n",
              "      <td>0</td>\n",
              "      <td>0</td>\n",
              "      <td>0</td>\n",
              "      <td>0</td>\n",
              "      <td>0</td>\n",
              "      <td>0</td>\n",
              "      <td>0</td>\n",
              "      <td>0</td>\n",
              "      <td>0</td>\n",
              "      <td>0</td>\n",
              "      <td>0</td>\n",
              "      <td>0</td>\n",
              "      <td>0</td>\n",
              "      <td>0</td>\n",
              "    </tr>\n",
              "    <tr>\n",
              "      <th>4</th>\n",
              "      <td>0</td>\n",
              "      <td>0</td>\n",
              "      <td>0</td>\n",
              "      <td>0</td>\n",
              "      <td>0</td>\n",
              "      <td>0</td>\n",
              "      <td>1</td>\n",
              "      <td>0</td>\n",
              "      <td>0</td>\n",
              "      <td>0</td>\n",
              "      <td>0</td>\n",
              "      <td>0</td>\n",
              "      <td>0</td>\n",
              "      <td>0</td>\n",
              "      <td>0</td>\n",
              "      <td>0</td>\n",
              "    </tr>\n",
              "  </tbody>\n",
              "</table>\n",
              "</div>"
            ],
            "text/plain": [
              "   ENE  ESE  N  NE  NNE  NNW  NW  S  SE  SSE  SSW  SW  W  WNW  WSW  NaN\n",
              "0    0    0  0   0    0    0   0  0   0    0    0   0  0    1    0    0\n",
              "1    0    0  0   0    0    0   0  0   0    0    0   0  0    0    1    0\n",
              "2    0    0  0   0    0    0   0  0   0    0    0   0  0    0    1    0\n",
              "3    0    0  0   0    0    0   0  0   0    0    0   0  0    0    0    0\n",
              "4    0    0  0   0    0    0   1  0   0    0    0   0  0    0    0    0"
            ]
          },
          "execution_count": 36,
          "metadata": {},
          "output_type": "execute_result"
        }
      ],
      "source": [
        "pd.get_dummies(df_weather.WindDir3pm, drop_first=True, dummy_na=True).astype(int).head()"
      ]
    },
    {
      "cell_type": "markdown",
      "id": "4eae94af",
      "metadata": {
        "papermill": {
          "duration": 0.033027,
          "end_time": "2025-05-14T04:13:43.673769",
          "exception": false,
          "start_time": "2025-05-14T04:13:43.640742",
          "status": "completed"
        },
        "tags": [],
        "id": "4eae94af"
      },
      "source": [
        "Now, I can sum the number of 1s per boolean in WindDir3pm variable over the rows in the dataset."
      ]
    },
    {
      "cell_type": "code",
      "execution_count": null,
      "id": "93cc63ae",
      "metadata": {
        "execution": {
          "iopub.execute_input": "2025-05-14T04:13:43.744288Z",
          "iopub.status.busy": "2025-05-14T04:13:43.743838Z",
          "iopub.status.idle": "2025-05-14T04:13:43.774675Z",
          "shell.execute_reply": "2025-05-14T04:13:43.773461Z"
        },
        "papermill": {
          "duration": 0.069661,
          "end_time": "2025-05-14T04:13:43.776497",
          "exception": false,
          "start_time": "2025-05-14T04:13:43.706836",
          "status": "completed"
        },
        "tags": [],
        "id": "93cc63ae",
        "outputId": "8f96bd3f-efd0-497b-84cd-75d4c774e935"
      },
      "outputs": [
        {
          "data": {
            "text/plain": [
              "ENE     7857\n",
              "ESE     8505\n",
              "N       8890\n",
              "NE      8263\n",
              "NNE     6590\n",
              "NNW     7870\n",
              "NW      8610\n",
              "S       9926\n",
              "SE     10838\n",
              "SSE     9399\n",
              "SSW     8156\n",
              "SW      9354\n",
              "W      10110\n",
              "WNW     8874\n",
              "WSW     9518\n",
              "NaN     4228\n",
              "dtype: int64"
            ]
          },
          "execution_count": 37,
          "metadata": {},
          "output_type": "execute_result"
        }
      ],
      "source": [
        "pd.get_dummies(df_weather.WindDir3pm, drop_first=True, dummy_na=True).sum(axis=0)"
      ]
    },
    {
      "cell_type": "markdown",
      "id": "943efc63",
      "metadata": {
        "papermill": {
          "duration": 0.033115,
          "end_time": "2025-05-14T04:13:43.844431",
          "exception": false,
          "start_time": "2025-05-14T04:13:43.811316",
          "status": "completed"
        },
        "tags": [],
        "id": "943efc63"
      },
      "source": [
        "There are 4,228 missing values in WindDir3pm variable."
      ]
    },
    {
      "cell_type": "markdown",
      "id": "c76b401d",
      "metadata": {
        "papermill": {
          "duration": 0.048528,
          "end_time": "2025-05-14T04:13:43.929090",
          "exception": false,
          "start_time": "2025-05-14T04:13:43.880562",
          "status": "completed"
        },
        "tags": [],
        "id": "c76b401d"
      },
      "source": [
        "**Fifthly**, I'm going to explore RainToday variable."
      ]
    },
    {
      "cell_type": "code",
      "execution_count": null,
      "id": "88439c6e",
      "metadata": {
        "execution": {
          "iopub.execute_input": "2025-05-14T04:13:44.004094Z",
          "iopub.status.busy": "2025-05-14T04:13:44.003733Z",
          "iopub.status.idle": "2025-05-14T04:13:44.014678Z",
          "shell.execute_reply": "2025-05-14T04:13:44.013642Z"
        },
        "papermill": {
          "duration": 0.046977,
          "end_time": "2025-05-14T04:13:44.016468",
          "exception": false,
          "start_time": "2025-05-14T04:13:43.969491",
          "status": "completed"
        },
        "tags": [],
        "id": "88439c6e",
        "outputId": "7febbd92-4a65-4dd7-feba-6c437216858d"
      },
      "outputs": [
        {
          "name": "stdout",
          "output_type": "stream",
          "text": [
            "RainToday contains 3 labels\n"
          ]
        }
      ],
      "source": [
        "# Print and display the number of labels in RainToday variable\n",
        "print(\"RainToday contains\", len(df_weather.RainToday.unique()), \"labels\")"
      ]
    },
    {
      "cell_type": "code",
      "execution_count": null,
      "id": "829ceb0b",
      "metadata": {
        "execution": {
          "iopub.execute_input": "2025-05-14T04:13:44.085561Z",
          "iopub.status.busy": "2025-05-14T04:13:44.085222Z",
          "iopub.status.idle": "2025-05-14T04:13:44.096446Z",
          "shell.execute_reply": "2025-05-14T04:13:44.095292Z"
        },
        "papermill": {
          "duration": 0.047646,
          "end_time": "2025-05-14T04:13:44.098038",
          "exception": false,
          "start_time": "2025-05-14T04:13:44.050392",
          "status": "completed"
        },
        "tags": [],
        "id": "829ceb0b",
        "outputId": "629a70df-0437-41b7-ff92-9d8661eacbd3"
      },
      "outputs": [
        {
          "data": {
            "text/plain": [
              "array(['No', 'Yes', nan], dtype=object)"
            ]
          },
          "execution_count": 39,
          "metadata": {},
          "output_type": "execute_result"
        }
      ],
      "source": [
        "# Display the number of labels of RainToday variable\n",
        "df_weather.RainToday.unique()"
      ]
    },
    {
      "cell_type": "code",
      "execution_count": null,
      "id": "1570eb67",
      "metadata": {
        "execution": {
          "iopub.execute_input": "2025-05-14T04:13:44.166384Z",
          "iopub.status.busy": "2025-05-14T04:13:44.165899Z",
          "iopub.status.idle": "2025-05-14T04:13:44.183500Z",
          "shell.execute_reply": "2025-05-14T04:13:44.182482Z"
        },
        "papermill": {
          "duration": 0.053655,
          "end_time": "2025-05-14T04:13:44.185351",
          "exception": false,
          "start_time": "2025-05-14T04:13:44.131696",
          "status": "completed"
        },
        "tags": [],
        "id": "1570eb67",
        "outputId": "c97c2c30-ee37-4b1a-e00b-894d62e0bb9f"
      },
      "outputs": [
        {
          "data": {
            "text/plain": [
              "RainToday\n",
              "No     110319\n",
              "Yes     31880\n",
              "Name: count, dtype: int64"
            ]
          },
          "execution_count": 40,
          "metadata": {},
          "output_type": "execute_result"
        }
      ],
      "source": [
        "# Display the frequency distribution of values in RainToday variable\n",
        "df_weather.RainToday.value_counts()"
      ]
    },
    {
      "cell_type": "markdown",
      "id": "c41884d3",
      "metadata": {
        "papermill": {
          "duration": 0.033687,
          "end_time": "2025-05-14T04:13:44.254488",
          "exception": false,
          "start_time": "2025-05-14T04:13:44.220801",
          "status": "completed"
        },
        "tags": [],
        "id": "c41884d3"
      },
      "source": [
        "Right now I will do the following steps for RainToday variable,\n",
        "1. Let's do One Hot Encoding of RainToday variable,\n",
        "2. Get K1 dummy variables after that,\n",
        "3. Add an additional dummy variable to indicate any missing values,\n",
        "4. Preview the head of the dataset."
      ]
    },
    {
      "cell_type": "code",
      "execution_count": null,
      "id": "d7b832d3",
      "metadata": {
        "execution": {
          "iopub.execute_input": "2025-05-14T04:13:44.323398Z",
          "iopub.status.busy": "2025-05-14T04:13:44.323005Z",
          "iopub.status.idle": "2025-05-14T04:13:44.345804Z",
          "shell.execute_reply": "2025-05-14T04:13:44.344813Z"
        },
        "papermill": {
          "duration": 0.059609,
          "end_time": "2025-05-14T04:13:44.347594",
          "exception": false,
          "start_time": "2025-05-14T04:13:44.287985",
          "status": "completed"
        },
        "tags": [],
        "id": "d7b832d3",
        "outputId": "e9fbcd71-a6d8-4075-d14e-666dface6126"
      },
      "outputs": [
        {
          "data": {
            "text/html": [
              "<div>\n",
              "<style scoped>\n",
              "    .dataframe tbody tr th:only-of-type {\n",
              "        vertical-align: middle;\n",
              "    }\n",
              "\n",
              "    .dataframe tbody tr th {\n",
              "        vertical-align: top;\n",
              "    }\n",
              "\n",
              "    .dataframe thead th {\n",
              "        text-align: right;\n",
              "    }\n",
              "</style>\n",
              "<table border=\"1\" class=\"dataframe\">\n",
              "  <thead>\n",
              "    <tr style=\"text-align: right;\">\n",
              "      <th></th>\n",
              "      <th>Yes</th>\n",
              "      <th>NaN</th>\n",
              "    </tr>\n",
              "  </thead>\n",
              "  <tbody>\n",
              "    <tr>\n",
              "      <th>0</th>\n",
              "      <td>0</td>\n",
              "      <td>0</td>\n",
              "    </tr>\n",
              "    <tr>\n",
              "      <th>1</th>\n",
              "      <td>0</td>\n",
              "      <td>0</td>\n",
              "    </tr>\n",
              "    <tr>\n",
              "      <th>2</th>\n",
              "      <td>0</td>\n",
              "      <td>0</td>\n",
              "    </tr>\n",
              "    <tr>\n",
              "      <th>3</th>\n",
              "      <td>0</td>\n",
              "      <td>0</td>\n",
              "    </tr>\n",
              "    <tr>\n",
              "      <th>4</th>\n",
              "      <td>0</td>\n",
              "      <td>0</td>\n",
              "    </tr>\n",
              "  </tbody>\n",
              "</table>\n",
              "</div>"
            ],
            "text/plain": [
              "   Yes  NaN\n",
              "0    0    0\n",
              "1    0    0\n",
              "2    0    0\n",
              "3    0    0\n",
              "4    0    0"
            ]
          },
          "execution_count": 41,
          "metadata": {},
          "output_type": "execute_result"
        }
      ],
      "source": [
        "pd.get_dummies(df_weather.RainToday, drop_first=True, dummy_na=True).astype(int).head()"
      ]
    },
    {
      "cell_type": "markdown",
      "id": "dfd0a932",
      "metadata": {
        "papermill": {
          "duration": 0.034636,
          "end_time": "2025-05-14T04:13:44.417630",
          "exception": false,
          "start_time": "2025-05-14T04:13:44.382994",
          "status": "completed"
        },
        "tags": [],
        "id": "dfd0a932"
      },
      "source": [
        "Now, I can sum the number of 1s per boolean in RainToday variable over the rows in the dataset."
      ]
    },
    {
      "cell_type": "code",
      "execution_count": null,
      "id": "6289938f",
      "metadata": {
        "execution": {
          "iopub.execute_input": "2025-05-14T04:13:44.491735Z",
          "iopub.status.busy": "2025-05-14T04:13:44.491383Z",
          "iopub.status.idle": "2025-05-14T04:13:44.512890Z",
          "shell.execute_reply": "2025-05-14T04:13:44.511932Z"
        },
        "papermill": {
          "duration": 0.062149,
          "end_time": "2025-05-14T04:13:44.514671",
          "exception": false,
          "start_time": "2025-05-14T04:13:44.452522",
          "status": "completed"
        },
        "tags": [],
        "id": "6289938f",
        "outputId": "49ca4666-7245-41ac-f440-e1b1c85f12be"
      },
      "outputs": [
        {
          "data": {
            "text/plain": [
              "Yes    31880\n",
              "NaN     3261\n",
              "dtype: int64"
            ]
          },
          "execution_count": 42,
          "metadata": {},
          "output_type": "execute_result"
        }
      ],
      "source": [
        "pd.get_dummies(df_weather.RainToday, drop_first=True, dummy_na=True).sum(axis=0)"
      ]
    },
    {
      "cell_type": "markdown",
      "id": "2934c4df",
      "metadata": {
        "papermill": {
          "duration": 0.03367,
          "end_time": "2025-05-14T04:13:44.582335",
          "exception": false,
          "start_time": "2025-05-14T04:13:44.548665",
          "status": "completed"
        },
        "tags": [],
        "id": "2934c4df"
      },
      "source": [
        "There are 3,261 missing values in RainToday variable."
      ]
    },
    {
      "cell_type": "markdown",
      "id": "85cd6cad",
      "metadata": {
        "papermill": {
          "duration": 0.03363,
          "end_time": "2025-05-14T04:13:44.649760",
          "exception": false,
          "start_time": "2025-05-14T04:13:44.616130",
          "status": "completed"
        },
        "tags": [],
        "id": "85cd6cad"
      },
      "source": [
        "After exploring Categorical variables of the dataset, now it's time to explore Numerical variables one by one."
      ]
    },
    {
      "cell_type": "code",
      "execution_count": null,
      "id": "4539d02f",
      "metadata": {
        "execution": {
          "iopub.execute_input": "2025-05-14T04:13:44.717799Z",
          "iopub.status.busy": "2025-05-14T04:13:44.717457Z",
          "iopub.status.idle": "2025-05-14T04:13:44.723758Z",
          "shell.execute_reply": "2025-05-14T04:13:44.722654Z"
        },
        "papermill": {
          "duration": 0.042339,
          "end_time": "2025-05-14T04:13:44.725420",
          "exception": false,
          "start_time": "2025-05-14T04:13:44.683081",
          "status": "completed"
        },
        "tags": [],
        "id": "4539d02f",
        "outputId": "568d865d-620a-4b2d-9c89-995dfd2e045b"
      },
      "outputs": [
        {
          "name": "stdout",
          "output_type": "stream",
          "text": [
            "There are 19 numerical variables.\n",
            "\n",
            "The numerical variables are as follows:\n",
            " ['MinTemp', 'MaxTemp', 'Rainfall', 'Evaporation', 'Sunshine', 'WindGustSpeed', 'WindSpeed9am', 'WindSpeed3pm', 'Humidity9am', 'Humidity3pm', 'Pressure9am', 'Pressure3pm', 'Cloud9am', 'Cloud3pm', 'Temp9am', 'Temp3pm', 'Year', 'Month', 'Day']\n"
          ]
        }
      ],
      "source": [
        "# Now I'm going to separate and find Numerical variables\n",
        "\n",
        "numerical = [var for var in df_weather.columns if df_weather[var].dtype!=\"O\"]\n",
        "print(\"There are {} numerical variables.\\n\".format(len(numerical)))\n",
        "print(\"The numerical variables are as follows:\\n\", numerical)"
      ]
    },
    {
      "cell_type": "code",
      "execution_count": null,
      "id": "8f382573",
      "metadata": {
        "execution": {
          "iopub.execute_input": "2025-05-14T04:13:44.795376Z",
          "iopub.status.busy": "2025-05-14T04:13:44.794928Z",
          "iopub.status.idle": "2025-05-14T04:13:44.827302Z",
          "shell.execute_reply": "2025-05-14T04:13:44.826268Z"
        },
        "papermill": {
          "duration": 0.069675,
          "end_time": "2025-05-14T04:13:44.828819",
          "exception": false,
          "start_time": "2025-05-14T04:13:44.759144",
          "status": "completed"
        },
        "tags": [],
        "id": "8f382573",
        "outputId": "d4f247d2-0000-459d-fa99-f0c48246bd87"
      },
      "outputs": [
        {
          "data": {
            "text/html": [
              "<div>\n",
              "<style scoped>\n",
              "    .dataframe tbody tr th:only-of-type {\n",
              "        vertical-align: middle;\n",
              "    }\n",
              "\n",
              "    .dataframe tbody tr th {\n",
              "        vertical-align: top;\n",
              "    }\n",
              "\n",
              "    .dataframe thead th {\n",
              "        text-align: right;\n",
              "    }\n",
              "</style>\n",
              "<table border=\"1\" class=\"dataframe\">\n",
              "  <thead>\n",
              "    <tr style=\"text-align: right;\">\n",
              "      <th></th>\n",
              "      <th>MinTemp</th>\n",
              "      <th>MaxTemp</th>\n",
              "      <th>Rainfall</th>\n",
              "      <th>Evaporation</th>\n",
              "      <th>Sunshine</th>\n",
              "      <th>WindGustSpeed</th>\n",
              "      <th>WindSpeed9am</th>\n",
              "      <th>WindSpeed3pm</th>\n",
              "      <th>Humidity9am</th>\n",
              "      <th>Humidity3pm</th>\n",
              "      <th>Pressure9am</th>\n",
              "      <th>Pressure3pm</th>\n",
              "      <th>Cloud9am</th>\n",
              "      <th>Cloud3pm</th>\n",
              "      <th>Temp9am</th>\n",
              "      <th>Temp3pm</th>\n",
              "      <th>Year</th>\n",
              "      <th>Month</th>\n",
              "      <th>Day</th>\n",
              "    </tr>\n",
              "  </thead>\n",
              "  <tbody>\n",
              "    <tr>\n",
              "      <th>0</th>\n",
              "      <td>13.4</td>\n",
              "      <td>22.9</td>\n",
              "      <td>0.6</td>\n",
              "      <td>NaN</td>\n",
              "      <td>NaN</td>\n",
              "      <td>44.0</td>\n",
              "      <td>20.0</td>\n",
              "      <td>24.0</td>\n",
              "      <td>71.0</td>\n",
              "      <td>22.0</td>\n",
              "      <td>1007.7</td>\n",
              "      <td>1007.1</td>\n",
              "      <td>8.0</td>\n",
              "      <td>NaN</td>\n",
              "      <td>16.9</td>\n",
              "      <td>21.8</td>\n",
              "      <td>2008</td>\n",
              "      <td>12</td>\n",
              "      <td>1</td>\n",
              "    </tr>\n",
              "    <tr>\n",
              "      <th>1</th>\n",
              "      <td>7.4</td>\n",
              "      <td>25.1</td>\n",
              "      <td>0.0</td>\n",
              "      <td>NaN</td>\n",
              "      <td>NaN</td>\n",
              "      <td>44.0</td>\n",
              "      <td>4.0</td>\n",
              "      <td>22.0</td>\n",
              "      <td>44.0</td>\n",
              "      <td>25.0</td>\n",
              "      <td>1010.6</td>\n",
              "      <td>1007.8</td>\n",
              "      <td>NaN</td>\n",
              "      <td>NaN</td>\n",
              "      <td>17.2</td>\n",
              "      <td>24.3</td>\n",
              "      <td>2008</td>\n",
              "      <td>12</td>\n",
              "      <td>2</td>\n",
              "    </tr>\n",
              "    <tr>\n",
              "      <th>2</th>\n",
              "      <td>12.9</td>\n",
              "      <td>25.7</td>\n",
              "      <td>0.0</td>\n",
              "      <td>NaN</td>\n",
              "      <td>NaN</td>\n",
              "      <td>46.0</td>\n",
              "      <td>19.0</td>\n",
              "      <td>26.0</td>\n",
              "      <td>38.0</td>\n",
              "      <td>30.0</td>\n",
              "      <td>1007.6</td>\n",
              "      <td>1008.7</td>\n",
              "      <td>NaN</td>\n",
              "      <td>2.0</td>\n",
              "      <td>21.0</td>\n",
              "      <td>23.2</td>\n",
              "      <td>2008</td>\n",
              "      <td>12</td>\n",
              "      <td>3</td>\n",
              "    </tr>\n",
              "    <tr>\n",
              "      <th>3</th>\n",
              "      <td>9.2</td>\n",
              "      <td>28.0</td>\n",
              "      <td>0.0</td>\n",
              "      <td>NaN</td>\n",
              "      <td>NaN</td>\n",
              "      <td>24.0</td>\n",
              "      <td>11.0</td>\n",
              "      <td>9.0</td>\n",
              "      <td>45.0</td>\n",
              "      <td>16.0</td>\n",
              "      <td>1017.6</td>\n",
              "      <td>1012.8</td>\n",
              "      <td>NaN</td>\n",
              "      <td>NaN</td>\n",
              "      <td>18.1</td>\n",
              "      <td>26.5</td>\n",
              "      <td>2008</td>\n",
              "      <td>12</td>\n",
              "      <td>4</td>\n",
              "    </tr>\n",
              "    <tr>\n",
              "      <th>4</th>\n",
              "      <td>17.5</td>\n",
              "      <td>32.3</td>\n",
              "      <td>1.0</td>\n",
              "      <td>NaN</td>\n",
              "      <td>NaN</td>\n",
              "      <td>41.0</td>\n",
              "      <td>7.0</td>\n",
              "      <td>20.0</td>\n",
              "      <td>82.0</td>\n",
              "      <td>33.0</td>\n",
              "      <td>1010.8</td>\n",
              "      <td>1006.0</td>\n",
              "      <td>7.0</td>\n",
              "      <td>8.0</td>\n",
              "      <td>17.8</td>\n",
              "      <td>29.7</td>\n",
              "      <td>2008</td>\n",
              "      <td>12</td>\n",
              "      <td>5</td>\n",
              "    </tr>\n",
              "  </tbody>\n",
              "</table>\n",
              "</div>"
            ],
            "text/plain": [
              "   MinTemp  MaxTemp  Rainfall  Evaporation  Sunshine  WindGustSpeed  \\\n",
              "0     13.4     22.9       0.6          NaN       NaN           44.0   \n",
              "1      7.4     25.1       0.0          NaN       NaN           44.0   \n",
              "2     12.9     25.7       0.0          NaN       NaN           46.0   \n",
              "3      9.2     28.0       0.0          NaN       NaN           24.0   \n",
              "4     17.5     32.3       1.0          NaN       NaN           41.0   \n",
              "\n",
              "   WindSpeed9am  WindSpeed3pm  Humidity9am  Humidity3pm  Pressure9am  \\\n",
              "0          20.0          24.0         71.0         22.0       1007.7   \n",
              "1           4.0          22.0         44.0         25.0       1010.6   \n",
              "2          19.0          26.0         38.0         30.0       1007.6   \n",
              "3          11.0           9.0         45.0         16.0       1017.6   \n",
              "4           7.0          20.0         82.0         33.0       1010.8   \n",
              "\n",
              "   Pressure3pm  Cloud9am  Cloud3pm  Temp9am  Temp3pm  Year  Month  Day  \n",
              "0       1007.1       8.0       NaN     16.9     21.8  2008     12    1  \n",
              "1       1007.8       NaN       NaN     17.2     24.3  2008     12    2  \n",
              "2       1008.7       NaN       2.0     21.0     23.2  2008     12    3  \n",
              "3       1012.8       NaN       NaN     18.1     26.5  2008     12    4  \n",
              "4       1006.0       7.0       8.0     17.8     29.7  2008     12    5  "
            ]
          },
          "execution_count": 44,
          "metadata": {},
          "output_type": "execute_result"
        }
      ],
      "source": [
        "# Now I'm going to display and view the head of Numerical variables\n",
        "df_weather[numerical].head()"
      ]
    },
    {
      "cell_type": "markdown",
      "id": "cbf3d80b",
      "metadata": {
        "papermill": {
          "duration": 0.03352,
          "end_time": "2025-05-14T04:13:44.896953",
          "exception": false,
          "start_time": "2025-05-14T04:13:44.863433",
          "status": "completed"
        },
        "tags": [],
        "id": "cbf3d80b"
      },
      "source": [
        "1. To summarize, there are 19 Numerical variables which are as following,\n",
        "- MinTemp,\n",
        "- MaxTemp,\n",
        "- Rainfall,\n",
        "- Evaporation,\n",
        "- Sunshine\n",
        "- WindGustSpeed,\n",
        "- WindSpeed9am,\n",
        "- WindSpeed3pm,\n",
        "- Humidity9am,\n",
        "- Humidity3pm,\n",
        "- Pressure9am,\n",
        "- Pressure3pm,\n",
        "- Cloud9am,\n",
        "- Cloud3pm,\n",
        "- Temp9am,\n",
        "- Temp3pm,\n",
        "- Year,\n",
        "- Month,\n",
        "- Day.\n",
        "\n",
        "2. Now it's the time to explore Numerical variables to check for any problems, such as missing values and outliers."
      ]
    },
    {
      "cell_type": "code",
      "execution_count": null,
      "id": "b06ba2b4",
      "metadata": {
        "execution": {
          "iopub.execute_input": "2025-05-14T04:13:44.971463Z",
          "iopub.status.busy": "2025-05-14T04:13:44.970892Z",
          "iopub.status.idle": "2025-05-14T04:13:45.000415Z",
          "shell.execute_reply": "2025-05-14T04:13:44.999289Z"
        },
        "papermill": {
          "duration": 0.067495,
          "end_time": "2025-05-14T04:13:45.002371",
          "exception": false,
          "start_time": "2025-05-14T04:13:44.934876",
          "status": "completed"
        },
        "tags": [],
        "id": "b06ba2b4",
        "outputId": "3fbe960c-6d5b-433f-8bcb-fba5dd6ae6e3"
      },
      "outputs": [
        {
          "data": {
            "text/plain": [
              "MinTemp           1485\n",
              "MaxTemp           1261\n",
              "Rainfall          3261\n",
              "Evaporation      62790\n",
              "Sunshine         69835\n",
              "WindGustSpeed    10263\n",
              "WindSpeed9am      1767\n",
              "WindSpeed3pm      3062\n",
              "Humidity9am       2654\n",
              "Humidity3pm       4507\n",
              "Pressure9am      15065\n",
              "Pressure3pm      15028\n",
              "Cloud9am         55888\n",
              "Cloud3pm         59358\n",
              "Temp9am           1767\n",
              "Temp3pm           3609\n",
              "Year                 0\n",
              "Month                0\n",
              "Day                  0\n",
              "dtype: int64"
            ]
          },
          "execution_count": 45,
          "metadata": {},
          "output_type": "execute_result"
        }
      ],
      "source": [
        "# Check for any missing values in Numerical variables\n",
        "\n",
        "df_weather[numerical].isnull().sum()"
      ]
    },
    {
      "cell_type": "markdown",
      "id": "42bf1988",
      "metadata": {
        "papermill": {
          "duration": 0.035243,
          "end_time": "2025-05-14T04:13:45.073746",
          "exception": false,
          "start_time": "2025-05-14T04:13:45.038503",
          "status": "completed"
        },
        "tags": [],
        "id": "42bf1988"
      },
      "source": [
        "From the information above, there are 16 Numerical variables with missing values.\n",
        "\n",
        "Now, I should check for any outliers in each Numerical variable."
      ]
    },
    {
      "cell_type": "code",
      "execution_count": null,
      "id": "09358416",
      "metadata": {
        "execution": {
          "iopub.execute_input": "2025-05-14T04:13:45.144230Z",
          "iopub.status.busy": "2025-05-14T04:13:45.143778Z",
          "iopub.status.idle": "2025-05-14T04:13:45.319851Z",
          "shell.execute_reply": "2025-05-14T04:13:45.318472Z"
        },
        "papermill": {
          "duration": 0.213309,
          "end_time": "2025-05-14T04:13:45.321626",
          "exception": false,
          "start_time": "2025-05-14T04:13:45.108317",
          "status": "completed"
        },
        "tags": [],
        "id": "09358416",
        "outputId": "10892718-bfa8-4e2a-c932-67e11c0b6f4e"
      },
      "outputs": [
        {
          "name": "stdout",
          "output_type": "stream",
          "text": [
            "        MinTemp   MaxTemp  Rainfall  Evaporation  Sunshine  WindGustSpeed  \\\n",
            "count  143975.0  144199.0  142199.0      82670.0   75625.0       135197.0   \n",
            "mean       12.0      23.0       2.0          5.0       8.0           40.0   \n",
            "std         6.0       7.0       8.0          4.0       4.0           14.0   \n",
            "min        -8.0      -5.0       0.0          0.0       0.0            6.0   \n",
            "25%         8.0      18.0       0.0          3.0       5.0           31.0   \n",
            "50%        12.0      23.0       0.0          5.0       8.0           39.0   \n",
            "75%        17.0      28.0       1.0          7.0      11.0           48.0   \n",
            "max        34.0      48.0     371.0        145.0      14.0          135.0   \n",
            "\n",
            "       WindSpeed9am  WindSpeed3pm  Humidity9am  Humidity3pm  Pressure9am  \\\n",
            "count      143693.0      142398.0     142806.0     140953.0     130395.0   \n",
            "mean           14.0          19.0         69.0         52.0       1018.0   \n",
            "std             9.0           9.0         19.0         21.0          7.0   \n",
            "min             0.0           0.0          0.0          0.0        980.0   \n",
            "25%             7.0          13.0         57.0         37.0       1013.0   \n",
            "50%            13.0          19.0         70.0         52.0       1018.0   \n",
            "75%            19.0          24.0         83.0         66.0       1022.0   \n",
            "max           130.0          87.0        100.0        100.0       1041.0   \n",
            "\n",
            "       Pressure3pm  Cloud9am  Cloud3pm   Temp9am   Temp3pm      Year  \\\n",
            "count     130432.0   89572.0   86102.0  143693.0  141851.0  145460.0   \n",
            "mean        1015.0       4.0       5.0      17.0      22.0    2013.0   \n",
            "std            7.0       3.0       3.0       6.0       7.0       3.0   \n",
            "min          977.0       0.0       0.0      -7.0      -5.0    2007.0   \n",
            "25%         1010.0       1.0       2.0      12.0      17.0    2011.0   \n",
            "50%         1015.0       5.0       5.0      17.0      21.0    2013.0   \n",
            "75%         1020.0       7.0       7.0      22.0      26.0    2015.0   \n",
            "max         1040.0       9.0       9.0      40.0      47.0    2017.0   \n",
            "\n",
            "          Month       Day  \n",
            "count  145460.0  145460.0  \n",
            "mean        6.0      16.0  \n",
            "std         3.0       9.0  \n",
            "min         1.0       1.0  \n",
            "25%         3.0       8.0  \n",
            "50%         6.0      16.0  \n",
            "75%         9.0      23.0  \n",
            "max        12.0      31.0   2\n"
          ]
        }
      ],
      "source": [
        "# Display the statistical summary of Numerical variables\n",
        "print(round(df_weather[numerical].describe()),2)"
      ]
    },
    {
      "cell_type": "markdown",
      "id": "93285e12",
      "metadata": {
        "papermill": {
          "duration": 0.03396,
          "end_time": "2025-05-14T04:13:45.390439",
          "exception": false,
          "start_time": "2025-05-14T04:13:45.356479",
          "status": "completed"
        },
        "tags": [],
        "id": "93285e12"
      },
      "source": [
        "I believe some Numerical variables might have outliers, such as following,\n",
        "1. Rainfall,\n",
        "2. Evaporation,\n",
        "3. WindSpeed9am,\n",
        "4. WindSpeed3pm.\n",
        "\n",
        "Let's create some boxplots to visualize the outliers."
      ]
    },
    {
      "cell_type": "code",
      "execution_count": null,
      "id": "c4e01e53",
      "metadata": {
        "execution": {
          "iopub.execute_input": "2025-05-14T04:13:45.461393Z",
          "iopub.status.busy": "2025-05-14T04:13:45.461003Z",
          "iopub.status.idle": "2025-05-14T04:13:46.643316Z",
          "shell.execute_reply": "2025-05-14T04:13:46.642247Z"
        },
        "papermill": {
          "duration": 1.220065,
          "end_time": "2025-05-14T04:13:46.645183",
          "exception": false,
          "start_time": "2025-05-14T04:13:45.425118",
          "status": "completed"
        },
        "tags": [],
        "id": "c4e01e53",
        "outputId": "deac0980-98bf-4a4f-b773-708e7da08455"
      },
      "outputs": [
        {
          "data": {
            "text/plain": [
              "Text(0, 0.5, 'WindSpeed3pm')"
            ]
          },
          "execution_count": 47,
          "metadata": {},
          "output_type": "execute_result"
        },
        {
          "data": {
            "image/png": "[encoded data removed]",
            "text/plain": [
              "<Figure size 1500x1000 with 4 Axes>"
            ]
          },
          "metadata": {},
          "output_type": "display_data"
        }
      ],
      "source": [
        "# Creating boxplots to visualize outliers of aforementioned variables\n",
        "\n",
        "plt.figure(figsize=(15,10))\n",
        "\n",
        "plt.subplot(2, 2, 1)\n",
        "fig = df_weather.boxplot(column=\"Rainfall\")\n",
        "fig.set_title(\"\")\n",
        "fig.set_ylabel('Rainfall')\n",
        "\n",
        "plt.subplot(2, 2, 2)\n",
        "fig = df_weather.boxplot(column=\"Evaporation\")\n",
        "fig.set_title(\"\")\n",
        "fig.set_ylabel(\"Evaporation\")\n",
        "\n",
        "plt.subplot(2, 2, 3)\n",
        "fig = df_weather.boxplot(column=\"WindSpeed9am\")\n",
        "fig.set_title(\"\")\n",
        "fig.set_ylabel(\"WindSpeed9am\")\n",
        "\n",
        "plt.subplot(2, 2, 4)\n",
        "fig = df_weather.boxplot(column=\"WindSpeed3pm\")\n",
        "fig.set_title(\"\")\n",
        "fig.set_ylabel(\"WindSpeed3pm\")"
      ]
    },
    {
      "cell_type": "markdown",
      "id": "f27ffcae",
      "metadata": {
        "papermill": {
          "duration": 0.035457,
          "end_time": "2025-05-14T04:13:46.716801",
          "exception": false,
          "start_time": "2025-05-14T04:13:46.681344",
          "status": "completed"
        },
        "tags": [],
        "id": "f27ffcae"
      },
      "source": [
        "The boxplots above confirm that there are outliers in those Numerical variables.\n",
        "\n",
        "The next step is that I'm going to check the distribution of values inside those variables before I do any changes, in other words, I'm going to check if they are normally distributed or skewed.\n",
        "\n",
        "In order to do that, I'm going to create plot histograms."
      ]
    },
    {
      "cell_type": "code",
      "execution_count": null,
      "id": "19dd2ecd",
      "metadata": {
        "execution": {
          "iopub.execute_input": "2025-05-14T04:13:46.788956Z",
          "iopub.status.busy": "2025-05-14T04:13:46.788608Z",
          "iopub.status.idle": "2025-05-14T04:13:47.631603Z",
          "shell.execute_reply": "2025-05-14T04:13:47.630463Z"
        },
        "papermill": {
          "duration": 0.881199,
          "end_time": "2025-05-14T04:13:47.633511",
          "exception": false,
          "start_time": "2025-05-14T04:13:46.752312",
          "status": "completed"
        },
        "tags": [],
        "id": "19dd2ecd",
        "outputId": "c9a35b39-738e-45c4-8577-fd2b93370bea"
      },
      "outputs": [
        {
          "data": {
            "text/plain": [
              "Text(0, 0.5, 'RainTomorrow')"
            ]
          },
          "execution_count": 48,
          "metadata": {},
          "output_type": "execute_result"
        },
        {
          "data": {
            "image/png": "[encoded data removed]",
            "text/plain": [
              "<Figure size 1500x1000 with 4 Axes>"
            ]
          },
          "metadata": {},
          "output_type": "display_data"
        }
      ],
      "source": [
        "# Creating plot histograms to check the value distribution of those variables\n",
        "\n",
        "plt.figure(figsize=(15,10))\n",
        "\n",
        "plt.subplot(2, 2, 1)\n",
        "fig = df_weather.Rainfall.hist(bins=10)\n",
        "fig.set_xlabel(\"Rainfall\")\n",
        "fig.set_ylabel(\"RainTomorrow\")\n",
        "\n",
        "plt.subplot(2, 2, 2)\n",
        "fig = df_weather.Evaporation.hist(bins=10)\n",
        "fig.set_xlabel(\"Evaporation\")\n",
        "fig.set_ylabel(\"RainTomorrow\")\n",
        "\n",
        "plt.subplot(2, 2, 3)\n",
        "fig = df_weather.WindSpeed9am.hist(bins=10)\n",
        "fig.set_xlabel(\"WindSpeed9am\")\n",
        "fig.set_ylabel(\"RainTomorrow\")\n",
        "\n",
        "plt.subplot(2, 2, 4)\n",
        "fig = df_weather.WindSpeed3pm.hist(bins=10)\n",
        "fig.set_xlabel(\"WindSpeed3pm\")\n",
        "fig.set_ylabel(\"RainTomorrow\")"
      ]
    },
    {
      "cell_type": "markdown",
      "id": "0fe8371e",
      "metadata": {
        "papermill": {
          "duration": 0.036647,
          "end_time": "2025-05-14T04:13:47.707698",
          "exception": false,
          "start_time": "2025-05-14T04:13:47.671051",
          "status": "completed"
        },
        "tags": [],
        "id": "0fe8371e"
      },
      "source": [
        "It is clear that those four variables have skewed value distribution, therefore I'm going to use interquantile range to determine the outliers."
      ]
    },
    {
      "cell_type": "code",
      "execution_count": null,
      "id": "4dc78979",
      "metadata": {
        "execution": {
          "iopub.execute_input": "2025-05-14T04:13:47.783187Z",
          "iopub.status.busy": "2025-05-14T04:13:47.782800Z",
          "iopub.status.idle": "2025-05-14T04:13:47.961249Z",
          "shell.execute_reply": "2025-05-14T04:13:47.959542Z"
        },
        "papermill": {
          "duration": 0.21878,
          "end_time": "2025-05-14T04:13:47.963463",
          "exception": false,
          "start_time": "2025-05-14T04:13:47.744683",
          "status": "completed"
        },
        "tags": [],
        "id": "4dc78979",
        "outputId": "ee2eaaa2-4a28-4e75-9cc8-b85e7a513467"
      },
      "outputs": [
        {
          "name": "stdout",
          "output_type": "stream",
          "text": [
            "        MinTemp   MaxTemp  Rainfall  Evaporation  Sunshine  WindGustSpeed  \\\n",
            "count  143975.0  144199.0  142199.0      82670.0   75625.0       135197.0   \n",
            "mean       12.0      23.0       2.0          5.0       8.0           40.0   \n",
            "std         6.0       7.0       8.0          4.0       4.0           14.0   \n",
            "min        -8.0      -5.0       0.0          0.0       0.0            6.0   \n",
            "25%         8.0      18.0       0.0          3.0       5.0           31.0   \n",
            "50%        12.0      23.0       0.0          5.0       8.0           39.0   \n",
            "75%        17.0      28.0       1.0          7.0      11.0           48.0   \n",
            "max        34.0      48.0     371.0        145.0      14.0          135.0   \n",
            "\n",
            "       WindSpeed9am  WindSpeed3pm  Humidity9am  Humidity3pm  Pressure9am  \\\n",
            "count      143693.0      142398.0     142806.0     140953.0     130395.0   \n",
            "mean           14.0          19.0         69.0         52.0       1018.0   \n",
            "std             9.0           9.0         19.0         21.0          7.0   \n",
            "min             0.0           0.0          0.0          0.0        980.0   \n",
            "25%             7.0          13.0         57.0         37.0       1013.0   \n",
            "50%            13.0          19.0         70.0         52.0       1018.0   \n",
            "75%            19.0          24.0         83.0         66.0       1022.0   \n",
            "max           130.0          87.0        100.0        100.0       1041.0   \n",
            "\n",
            "       Pressure3pm  Cloud9am  Cloud3pm   Temp9am   Temp3pm      Year  \\\n",
            "count     130432.0   89572.0   86102.0  143693.0  141851.0  145460.0   \n",
            "mean        1015.0       4.0       5.0      17.0      22.0    2013.0   \n",
            "std            7.0       3.0       3.0       6.0       7.0       3.0   \n",
            "min          977.0       0.0       0.0      -7.0      -5.0    2007.0   \n",
            "25%         1010.0       1.0       2.0      12.0      17.0    2011.0   \n",
            "50%         1015.0       5.0       5.0      17.0      21.0    2013.0   \n",
            "75%         1020.0       7.0       7.0      22.0      26.0    2015.0   \n",
            "max         1040.0       9.0       9.0      40.0      47.0    2017.0   \n",
            "\n",
            "          Month       Day  \n",
            "count  145460.0  145460.0  \n",
            "mean        6.0      16.0  \n",
            "std         3.0       9.0  \n",
            "min         1.0       1.0  \n",
            "25%         3.0       8.0  \n",
            "50%         6.0      16.0  \n",
            "75%         9.0      23.0  \n",
            "max        12.0      31.0   2\n"
          ]
        }
      ],
      "source": [
        "# I want to display the statistical summary of Numerical variables again\n",
        "print(round(df_weather[numerical].describe()),2)"
      ]
    },
    {
      "cell_type": "code",
      "execution_count": null,
      "id": "a23181b8",
      "metadata": {
        "execution": {
          "iopub.execute_input": "2025-05-14T04:13:48.043889Z",
          "iopub.status.busy": "2025-05-14T04:13:48.043523Z",
          "iopub.status.idle": "2025-05-14T04:13:48.063343Z",
          "shell.execute_reply": "2025-05-14T04:13:48.062111Z"
        },
        "papermill": {
          "duration": 0.063255,
          "end_time": "2025-05-14T04:13:48.065350",
          "exception": false,
          "start_time": "2025-05-14T04:13:48.002095",
          "status": "completed"
        },
        "tags": [],
        "id": "a23181b8",
        "outputId": "4e909900-a476-4d3c-e3e5-7f7981a60725"
      },
      "outputs": [
        {
          "name": "stdout",
          "output_type": "stream",
          "text": [
            "The outliers for Rainfall variable are values < -2.4000000000000004 or > 3.2\n"
          ]
        }
      ],
      "source": [
        "# Determining outliers for Rainfall variable\n",
        "\n",
        "IQR = df_weather.Rainfall.quantile(0.75) - df_weather.Rainfall.quantile(0.25)\n",
        "Lower_fence = df_weather.Rainfall.quantile(0.25) - (IQR * 3)\n",
        "Upper_fence = df_weather.Rainfall.quantile(0.75) + (IQR * 3)\n",
        "print(\"The outliers for Rainfall variable are values < {lowerboundary} or > {upperboundary}\".format(lowerboundary=Lower_fence, upperboundary=Upper_fence))"
      ]
    },
    {
      "cell_type": "markdown",
      "id": "a70c3eba",
      "metadata": {
        "papermill": {
          "duration": 0.038094,
          "end_time": "2025-05-14T04:13:48.142409",
          "exception": false,
          "start_time": "2025-05-14T04:13:48.104315",
          "status": "completed"
        },
        "tags": [],
        "id": "a70c3eba"
      },
      "source": [
        "From the calculation above, combined with the minimum and maximum values for Rainfall variable which are 0 and 371, the outliers for Rainfall variable are values > 3.2."
      ]
    },
    {
      "cell_type": "code",
      "execution_count": null,
      "id": "6d54937c",
      "metadata": {
        "execution": {
          "iopub.execute_input": "2025-05-14T04:13:48.220384Z",
          "iopub.status.busy": "2025-05-14T04:13:48.219987Z",
          "iopub.status.idle": "2025-05-14T04:13:48.237591Z",
          "shell.execute_reply": "2025-05-14T04:13:48.236469Z"
        },
        "papermill": {
          "duration": 0.05845,
          "end_time": "2025-05-14T04:13:48.239218",
          "exception": false,
          "start_time": "2025-05-14T04:13:48.180768",
          "status": "completed"
        },
        "tags": [],
        "id": "6d54937c",
        "outputId": "3b304075-229f-49db-f8bd-923b154b2b02"
      },
      "outputs": [
        {
          "name": "stdout",
          "output_type": "stream",
          "text": [
            "The outliers for Evaporation variable are values < -11.800000000000002 or > 21.800000000000004\n"
          ]
        }
      ],
      "source": [
        "# Determining outliers for Evaporation variable\n",
        "\n",
        "IQR = df_weather.Evaporation.quantile(0.75) - df_weather.Evaporation.quantile(0.25)\n",
        "Lower_fence = df_weather.Evaporation.quantile(0.25) - (IQR * 3)\n",
        "Upper_fence = df_weather.Evaporation.quantile(0.75) + (IQR * 3)\n",
        "print(\"The outliers for Evaporation variable are values < {lowerboundary} or > {upperboundary}\".format(lowerboundary=Lower_fence, upperboundary=Upper_fence))"
      ]
    },
    {
      "cell_type": "markdown",
      "id": "fec97a84",
      "metadata": {
        "papermill": {
          "duration": 0.037165,
          "end_time": "2025-05-14T04:13:48.314643",
          "exception": false,
          "start_time": "2025-05-14T04:13:48.277478",
          "status": "completed"
        },
        "tags": [],
        "id": "fec97a84"
      },
      "source": [
        "From the calculation above, combined with the minimum and maximum values for Evaporation variable which are 0 and 145, the outliers for Evaporation variable are values > 21.8."
      ]
    },
    {
      "cell_type": "code",
      "execution_count": null,
      "id": "2de9fc4d",
      "metadata": {
        "execution": {
          "iopub.execute_input": "2025-05-14T04:13:48.390913Z",
          "iopub.status.busy": "2025-05-14T04:13:48.390590Z",
          "iopub.status.idle": "2025-05-14T04:13:48.411922Z",
          "shell.execute_reply": "2025-05-14T04:13:48.410655Z"
        },
        "papermill": {
          "duration": 0.061778,
          "end_time": "2025-05-14T04:13:48.414021",
          "exception": false,
          "start_time": "2025-05-14T04:13:48.352243",
          "status": "completed"
        },
        "tags": [],
        "id": "2de9fc4d",
        "outputId": "a00e2571-385a-4593-86c8-9ddedda97e95"
      },
      "outputs": [
        {
          "name": "stdout",
          "output_type": "stream",
          "text": [
            "The outliers for WindSpeed9am variable are values < -29.0 or > 55.0\n"
          ]
        }
      ],
      "source": [
        "# Determining outliers for WindSpeed9am variable\n",
        "\n",
        "IQR = df_weather.WindSpeed9am.quantile(0.75) - df_weather.WindSpeed9am.quantile(0.25)\n",
        "Lower_fence = df_weather.WindSpeed9am.quantile(0.25) - (IQR * 3)\n",
        "Upper_fence = df_weather.WindSpeed9am.quantile(0.75) + (IQR * 3)\n",
        "print(\"The outliers for WindSpeed9am variable are values < {lowerboundary} or > {upperboundary}\".format(lowerboundary=Lower_fence, upperboundary=Upper_fence))"
      ]
    },
    {
      "cell_type": "markdown",
      "id": "9b9bad03",
      "metadata": {
        "papermill": {
          "duration": 0.039553,
          "end_time": "2025-05-14T04:13:48.505841",
          "exception": false,
          "start_time": "2025-05-14T04:13:48.466288",
          "status": "completed"
        },
        "tags": [],
        "id": "9b9bad03"
      },
      "source": [
        "From the calculation above, combined with the minimum and maximum values for WindSpeed9am variable which are 0 and 130, the outliers for WindSpeed9am variable are values > 55."
      ]
    },
    {
      "cell_type": "code",
      "execution_count": null,
      "id": "bd3c3fbc",
      "metadata": {
        "execution": {
          "iopub.execute_input": "2025-05-14T04:13:48.584943Z",
          "iopub.status.busy": "2025-05-14T04:13:48.584591Z",
          "iopub.status.idle": "2025-05-14T04:13:48.605882Z",
          "shell.execute_reply": "2025-05-14T04:13:48.604778Z"
        },
        "papermill": {
          "duration": 0.06258,
          "end_time": "2025-05-14T04:13:48.607538",
          "exception": false,
          "start_time": "2025-05-14T04:13:48.544958",
          "status": "completed"
        },
        "tags": [],
        "id": "bd3c3fbc",
        "outputId": "818fa35a-5f92-4e70-f384-7da28742ec3c"
      },
      "outputs": [
        {
          "name": "stdout",
          "output_type": "stream",
          "text": [
            "The outliers for WindSpeed3pm variable are values < -38.0 or > 75.0\n"
          ]
        }
      ],
      "source": [
        "# Determining outliers for WindSpeed3pm variable\n",
        "\n",
        "IQR = df_weather.WindSpeed3pm.quantile(0.75) - df_weather.WindSpeed9am.quantile(0.25)\n",
        "Lower_fence = df_weather.WindSpeed3pm.quantile(0.25) - (IQR * 3)\n",
        "Upper_fence = df_weather.WindSpeed3pm.quantile(0.75) + (IQR * 3)\n",
        "print(\"The outliers for WindSpeed3pm variable are values < {lowerboundary} or > {upperboundary}\".format(lowerboundary=Lower_fence, upperboundary=Upper_fence))"
      ]
    },
    {
      "cell_type": "markdown",
      "id": "6f1ab4c4",
      "metadata": {
        "papermill": {
          "duration": 0.037041,
          "end_time": "2025-05-14T04:13:48.682159",
          "exception": false,
          "start_time": "2025-05-14T04:13:48.645118",
          "status": "completed"
        },
        "tags": [],
        "id": "6f1ab4c4"
      },
      "source": [
        "From the calculation above, combined with the minimum and maximum values for WindSpeed3pm variable which are 0 and 87, the outliers for WindSpeed3pm variable are values > 75."
      ]
    },
    {
      "cell_type": "markdown",
      "id": "da010d47",
      "metadata": {
        "papermill": {
          "duration": 0.03703,
          "end_time": "2025-05-14T04:13:48.756131",
          "exception": false,
          "start_time": "2025-05-14T04:13:48.719101",
          "status": "completed"
        },
        "tags": [],
        "id": "da010d47"
      },
      "source": [
        "After I find the outliers for these Numerical variables as following,\n",
        "- Rainfall,\n",
        "- Evaporation,\n",
        "- WindSpeed9am,\n",
        "- WindSpeed3pm.\n",
        "\n",
        "I decide to declare the target variable, which is RainTomorrow, and split data into test and training set."
      ]
    },
    {
      "cell_type": "code",
      "execution_count": null,
      "id": "f4f42ae1",
      "metadata": {
        "execution": {
          "iopub.execute_input": "2025-05-14T04:13:48.834317Z",
          "iopub.status.busy": "2025-05-14T04:13:48.833887Z",
          "iopub.status.idle": "2025-05-14T04:13:48.851478Z",
          "shell.execute_reply": "2025-05-14T04:13:48.850325Z"
        },
        "papermill": {
          "duration": 0.059736,
          "end_time": "2025-05-14T04:13:48.853483",
          "exception": false,
          "start_time": "2025-05-14T04:13:48.793747",
          "status": "completed"
        },
        "tags": [],
        "id": "f4f42ae1"
      },
      "outputs": [],
      "source": [
        "# Declare the target variable\n",
        "X = df_weather.drop([\"RainTomorrow\"], axis=1)\n",
        "y = df_weather[\"RainTomorrow\"]"
      ]
    },
    {
      "cell_type": "code",
      "execution_count": null,
      "id": "ed2a5ca1",
      "metadata": {
        "execution": {
          "iopub.execute_input": "2025-05-14T04:13:48.931029Z",
          "iopub.status.busy": "2025-05-14T04:13:48.930674Z",
          "iopub.status.idle": "2025-05-14T04:13:48.994342Z",
          "shell.execute_reply": "2025-05-14T04:13:48.993260Z"
        },
        "papermill": {
          "duration": 0.105168,
          "end_time": "2025-05-14T04:13:48.996769",
          "exception": false,
          "start_time": "2025-05-14T04:13:48.891601",
          "status": "completed"
        },
        "tags": [],
        "id": "ed2a5ca1"
      },
      "outputs": [],
      "source": [
        "# Separating the data into test and training set\n",
        "from sklearn.model_selection import train_test_split\n",
        "X_train, X_test, y_train, y_test = train_test_split(X, y, test_size = 0.2, random_state = 0)"
      ]
    },
    {
      "cell_type": "code",
      "execution_count": null,
      "id": "a69a7e36",
      "metadata": {
        "execution": {
          "iopub.execute_input": "2025-05-14T04:13:49.073775Z",
          "iopub.status.busy": "2025-05-14T04:13:49.073417Z",
          "iopub.status.idle": "2025-05-14T04:13:49.079117Z",
          "shell.execute_reply": "2025-05-14T04:13:49.078148Z"
        },
        "papermill": {
          "duration": 0.046276,
          "end_time": "2025-05-14T04:13:49.080797",
          "exception": false,
          "start_time": "2025-05-14T04:13:49.034521",
          "status": "completed"
        },
        "tags": [],
        "id": "a69a7e36",
        "outputId": "96261aad-0d52-43c8-9d47-1abc9c6f146a"
      },
      "outputs": [
        {
          "data": {
            "text/plain": [
              "((116368, 24), (29092, 24))"
            ]
          },
          "execution_count": 56,
          "metadata": {},
          "output_type": "execute_result"
        }
      ],
      "source": [
        "# Checking the shape of X_train and X_test\n",
        "X_train.shape, X_test.shape"
      ]
    },
    {
      "cell_type": "markdown",
      "id": "74428b4c",
      "metadata": {
        "papermill": {
          "duration": 0.037491,
          "end_time": "2025-05-14T04:13:49.156514",
          "exception": false,
          "start_time": "2025-05-14T04:13:49.119023",
          "status": "completed"
        },
        "tags": [],
        "id": "74428b4c"
      },
      "source": [
        "After declaring the target variable and splitting the data into train and test set, I'm going to do some Feature Engineering.\n",
        "\n",
        "Feature Engineering is the process of transforming raw data into useful features that can assist me to gain better understanding of the model and increase its prediction ability (reducing error rate).\n",
        "\n",
        "Now, I'm going to display both Categorical and NUmerical variables again separately."
      ]
    },
    {
      "cell_type": "code",
      "execution_count": null,
      "id": "b920d269",
      "metadata": {
        "execution": {
          "iopub.execute_input": "2025-05-14T04:13:49.236960Z",
          "iopub.status.busy": "2025-05-14T04:13:49.236623Z",
          "iopub.status.idle": "2025-05-14T04:13:49.244026Z",
          "shell.execute_reply": "2025-05-14T04:13:49.242907Z"
        },
        "papermill": {
          "duration": 0.04922,
          "end_time": "2025-05-14T04:13:49.245828",
          "exception": false,
          "start_time": "2025-05-14T04:13:49.196608",
          "status": "completed"
        },
        "tags": [],
        "id": "b920d269",
        "outputId": "ffa3d640-78c9-43d1-8057-d0a931ebd631"
      },
      "outputs": [
        {
          "data": {
            "text/plain": [
              "Location          object\n",
              "MinTemp          float64\n",
              "MaxTemp          float64\n",
              "Rainfall         float64\n",
              "Evaporation      float64\n",
              "Sunshine         float64\n",
              "WindGustDir       object\n",
              "WindGustSpeed    float64\n",
              "WindDir9am        object\n",
              "WindDir3pm        object\n",
              "WindSpeed9am     float64\n",
              "WindSpeed3pm     float64\n",
              "Humidity9am      float64\n",
              "Humidity3pm      float64\n",
              "Pressure9am      float64\n",
              "Pressure3pm      float64\n",
              "Cloud9am         float64\n",
              "Cloud3pm         float64\n",
              "Temp9am          float64\n",
              "Temp3pm          float64\n",
              "RainToday         object\n",
              "Year               int32\n",
              "Month              int32\n",
              "Day                int32\n",
              "dtype: object"
            ]
          },
          "execution_count": 57,
          "metadata": {},
          "output_type": "execute_result"
        }
      ],
      "source": [
        "# Checking data types in X_train\n",
        "X_train.dtypes"
      ]
    },
    {
      "cell_type": "code",
      "execution_count": null,
      "id": "00679266",
      "metadata": {
        "execution": {
          "iopub.execute_input": "2025-05-14T04:13:49.324185Z",
          "iopub.status.busy": "2025-05-14T04:13:49.323813Z",
          "iopub.status.idle": "2025-05-14T04:13:49.330937Z",
          "shell.execute_reply": "2025-05-14T04:13:49.329954Z"
        },
        "papermill": {
          "duration": 0.048159,
          "end_time": "2025-05-14T04:13:49.332649",
          "exception": false,
          "start_time": "2025-05-14T04:13:49.284490",
          "status": "completed"
        },
        "tags": [],
        "id": "00679266",
        "outputId": "1d5ed7eb-3cd0-4239-9c09-861febb6d016"
      },
      "outputs": [
        {
          "data": {
            "text/plain": [
              "['Location', 'WindGustDir', 'WindDir9am', 'WindDir3pm', 'RainToday']"
            ]
          },
          "execution_count": 58,
          "metadata": {},
          "output_type": "execute_result"
        }
      ],
      "source": [
        "# Display Categorical variables\n",
        "categorical = [col for col in X_train.columns if X_train[col].dtypes == \"O\"]\n",
        "categorical"
      ]
    },
    {
      "cell_type": "code",
      "execution_count": null,
      "id": "09b1d7bd",
      "metadata": {
        "execution": {
          "iopub.execute_input": "2025-05-14T04:13:49.410125Z",
          "iopub.status.busy": "2025-05-14T04:13:49.409784Z",
          "iopub.status.idle": "2025-05-14T04:13:49.416398Z",
          "shell.execute_reply": "2025-05-14T04:13:49.415490Z"
        },
        "papermill": {
          "duration": 0.047451,
          "end_time": "2025-05-14T04:13:49.417991",
          "exception": false,
          "start_time": "2025-05-14T04:13:49.370540",
          "status": "completed"
        },
        "tags": [],
        "id": "09b1d7bd",
        "outputId": "8f26c65e-f328-4c77-de8a-26c434290b33"
      },
      "outputs": [
        {
          "data": {
            "text/plain": [
              "['MinTemp',\n",
              " 'MaxTemp',\n",
              " 'Rainfall',\n",
              " 'Evaporation',\n",
              " 'Sunshine',\n",
              " 'WindGustSpeed',\n",
              " 'WindSpeed9am',\n",
              " 'WindSpeed3pm',\n",
              " 'Humidity9am',\n",
              " 'Humidity3pm',\n",
              " 'Pressure9am',\n",
              " 'Pressure3pm',\n",
              " 'Cloud9am',\n",
              " 'Cloud3pm',\n",
              " 'Temp9am',\n",
              " 'Temp3pm',\n",
              " 'Year',\n",
              " 'Month',\n",
              " 'Day']"
            ]
          },
          "execution_count": 59,
          "metadata": {},
          "output_type": "execute_result"
        }
      ],
      "source": [
        "# Display Numerical variables\n",
        "numerical = [col for col in X_train.columns if X_train[col].dtypes != \"O\"]\n",
        "numerical"
      ]
    },
    {
      "cell_type": "markdown",
      "id": "8552e8c3",
      "metadata": {
        "papermill": {
          "duration": 0.038126,
          "end_time": "2025-05-14T04:13:49.495465",
          "exception": false,
          "start_time": "2025-05-14T04:13:49.457339",
          "status": "completed"
        },
        "tags": [],
        "id": "8552e8c3"
      },
      "source": [
        "Now let's find and count how many missing values are there in each x_train of each Numerical variable."
      ]
    },
    {
      "cell_type": "code",
      "execution_count": null,
      "id": "e2fbd2f3",
      "metadata": {
        "execution": {
          "iopub.execute_input": "2025-05-14T04:13:49.573565Z",
          "iopub.status.busy": "2025-05-14T04:13:49.573135Z",
          "iopub.status.idle": "2025-05-14T04:13:49.609034Z",
          "shell.execute_reply": "2025-05-14T04:13:49.608073Z"
        },
        "papermill": {
          "duration": 0.077077,
          "end_time": "2025-05-14T04:13:49.610848",
          "exception": false,
          "start_time": "2025-05-14T04:13:49.533771",
          "status": "completed"
        },
        "tags": [],
        "id": "e2fbd2f3",
        "outputId": "51b72124-cceb-4152-f53c-6f68753e9428"
      },
      "outputs": [
        {
          "data": {
            "text/plain": [
              "MinTemp           1183\n",
              "MaxTemp           1019\n",
              "Rainfall          2617\n",
              "Evaporation      50355\n",
              "Sunshine         55899\n",
              "WindGustSpeed     8218\n",
              "WindSpeed9am      1409\n",
              "WindSpeed3pm      2456\n",
              "Humidity9am       2147\n",
              "Humidity3pm       3598\n",
              "Pressure9am      12091\n",
              "Pressure3pm      12064\n",
              "Cloud9am         44796\n",
              "Cloud3pm         47557\n",
              "Temp9am           1415\n",
              "Temp3pm           2865\n",
              "Year                 0\n",
              "Month                0\n",
              "Day                  0\n",
              "dtype: int64"
            ]
          },
          "execution_count": 60,
          "metadata": {},
          "output_type": "execute_result"
        }
      ],
      "source": [
        "# Count the total missing values in Numerical variables of X_train set\n",
        "X_train[numerical].isnull().sum()"
      ]
    },
    {
      "cell_type": "code",
      "execution_count": null,
      "id": "f6a9d366",
      "metadata": {
        "execution": {
          "iopub.execute_input": "2025-05-14T04:13:49.688832Z",
          "iopub.status.busy": "2025-05-14T04:13:49.688503Z",
          "iopub.status.idle": "2025-05-14T04:13:49.699948Z",
          "shell.execute_reply": "2025-05-14T04:13:49.698964Z"
        },
        "papermill": {
          "duration": 0.052368,
          "end_time": "2025-05-14T04:13:49.701680",
          "exception": false,
          "start_time": "2025-05-14T04:13:49.649312",
          "status": "completed"
        },
        "tags": [],
        "id": "f6a9d366",
        "outputId": "79fc5b52-abc2-48fe-c6a6-435bc5b77548"
      },
      "outputs": [
        {
          "data": {
            "text/plain": [
              "MinTemp            302\n",
              "MaxTemp            242\n",
              "Rainfall           644\n",
              "Evaporation      12435\n",
              "Sunshine         13936\n",
              "WindGustSpeed     2045\n",
              "WindSpeed9am       358\n",
              "WindSpeed3pm       606\n",
              "Humidity9am        507\n",
              "Humidity3pm        909\n",
              "Pressure9am       2974\n",
              "Pressure3pm       2964\n",
              "Cloud9am         11092\n",
              "Cloud3pm         11801\n",
              "Temp9am            352\n",
              "Temp3pm            744\n",
              "Year                 0\n",
              "Month                0\n",
              "Day                  0\n",
              "dtype: int64"
            ]
          },
          "execution_count": 61,
          "metadata": {},
          "output_type": "execute_result"
        }
      ],
      "source": [
        "# Count the total missing values in Numerical variables of X_test set\n",
        "X_test[numerical].isnull().sum()"
      ]
    },
    {
      "cell_type": "code",
      "execution_count": null,
      "id": "9bbc5237",
      "metadata": {
        "execution": {
          "iopub.execute_input": "2025-05-14T04:13:49.779688Z",
          "iopub.status.busy": "2025-05-14T04:13:49.779310Z",
          "iopub.status.idle": "2025-05-14T04:13:49.812793Z",
          "shell.execute_reply": "2025-05-14T04:13:49.811554Z"
        },
        "papermill": {
          "duration": 0.074589,
          "end_time": "2025-05-14T04:13:49.814560",
          "exception": false,
          "start_time": "2025-05-14T04:13:49.739971",
          "status": "completed"
        },
        "tags": [],
        "id": "9bbc5237",
        "outputId": "c8ecb50d-bd03-4cc6-f4e0-e5e5c67b7865"
      },
      "outputs": [
        {
          "name": "stdout",
          "output_type": "stream",
          "text": [
            "MinTemp 0.0102\n",
            "MaxTemp 0.0088\n",
            "Rainfall 0.0225\n",
            "Evaporation 0.4327\n",
            "Sunshine 0.4804\n",
            "WindGustSpeed 0.0706\n",
            "WindSpeed9am 0.0121\n",
            "WindSpeed3pm 0.0211\n",
            "Humidity9am 0.0185\n",
            "Humidity3pm 0.0309\n",
            "Pressure9am 0.1039\n",
            "Pressure3pm 0.1037\n",
            "Cloud9am 0.385\n",
            "Cloud3pm 0.4087\n",
            "Temp9am 0.0122\n",
            "Temp3pm 0.0246\n"
          ]
        }
      ],
      "source": [
        "# Count and display the percetage of missing values in the Numerical variables in training set\n",
        "for col in numerical:\n",
        "    if X_train[col].isnull().mean()>0:\n",
        "        print(col, round(X_train[col].isnull().mean(),4))"
      ]
    },
    {
      "cell_type": "code",
      "execution_count": null,
      "id": "ea56dc37",
      "metadata": {
        "execution": {
          "iopub.execute_input": "2025-05-14T04:13:49.892066Z",
          "iopub.status.busy": "2025-05-14T04:13:49.891740Z",
          "iopub.status.idle": "2025-05-14T04:13:49.919675Z",
          "shell.execute_reply": "2025-05-14T04:13:49.918502Z"
        },
        "papermill": {
          "duration": 0.068556,
          "end_time": "2025-05-14T04:13:49.921390",
          "exception": false,
          "start_time": "2025-05-14T04:13:49.852834",
          "status": "completed"
        },
        "tags": [],
        "id": "ea56dc37",
        "outputId": "7c2b3f80-8b70-450d-db1e-69c515bbdb8c"
      },
      "outputs": [
        {
          "name": "stdout",
          "output_type": "stream",
          "text": [
            "MinTemp 0.0102\n",
            "MaxTemp 0.0088\n",
            "Rainfall 0.0225\n",
            "Evaporation 0.4327\n",
            "Sunshine 0.4804\n",
            "WindGustSpeed 0.0706\n",
            "WindSpeed9am 0.0121\n",
            "WindSpeed3pm 0.0211\n",
            "Humidity9am 0.0185\n",
            "Humidity3pm 0.0309\n",
            "Pressure9am 0.1039\n",
            "Pressure3pm 0.1037\n",
            "Cloud9am 0.385\n",
            "Cloud3pm 0.4087\n",
            "Temp9am 0.0122\n",
            "Temp3pm 0.0246\n"
          ]
        }
      ],
      "source": [
        "# Count and display the percetage of missing values in the Numerical variables in testing set\n",
        "for col in numerical:\n",
        "    if X_test[col].isnull().mean()>0:\n",
        "        print(col, round(X_train[col].isnull().mean(),4))"
      ]
    },
    {
      "cell_type": "markdown",
      "id": "6c213d35",
      "metadata": {
        "papermill": {
          "duration": 0.040201,
          "end_time": "2025-05-14T04:13:50.000227",
          "exception": false,
          "start_time": "2025-05-14T04:13:49.960026",
          "status": "completed"
        },
        "tags": [],
        "id": "6c213d35"
      },
      "source": [
        "There are two methods which can be used to impute/input/fill in the missing values.\n",
        "1. Mean or median imputation,\n",
        "2. Random sample imputation.\n",
        "\n",
        "For datasets with outliers, it is best to use median imputation because it perform better against outliers.\n",
        "\n",
        "To avoid overfitting, the median imputation will be done over the training set and the results will be fitted/propagated info the testing set as well. It means that the median values will be extracted only from the train set, but those values will be used for both train and test sets."
      ]
    },
    {
      "cell_type": "code",
      "execution_count": null,
      "id": "ea561246",
      "metadata": {
        "execution": {
          "iopub.execute_input": "2025-05-14T04:13:50.082577Z",
          "iopub.status.busy": "2025-05-14T04:13:50.082213Z",
          "iopub.status.idle": "2025-05-14T04:13:50.174993Z",
          "shell.execute_reply": "2025-05-14T04:13:50.173643Z"
        },
        "papermill": {
          "duration": 0.136134,
          "end_time": "2025-05-14T04:13:50.176979",
          "exception": false,
          "start_time": "2025-05-14T04:13:50.040845",
          "status": "completed"
        },
        "tags": [],
        "id": "ea561246"
      },
      "outputs": [],
      "source": [
        "# Inserting missing values in Numerical variables of X_train and X_test datasets by inserting with median values from respective variables (columns) in X_train dataset\n",
        "for df1 in [X_train, X_test]:\n",
        "    for col in numerical:\n",
        "        col_median=X_train[col].median()\n",
        "        df1[col].fillna(col_median, inplace=True)"
      ]
    },
    {
      "cell_type": "code",
      "execution_count": null,
      "id": "bbf231e9",
      "metadata": {
        "execution": {
          "iopub.execute_input": "2025-05-14T04:13:50.256612Z",
          "iopub.status.busy": "2025-05-14T04:13:50.256215Z",
          "iopub.status.idle": "2025-05-14T04:13:50.276490Z",
          "shell.execute_reply": "2025-05-14T04:13:50.275245Z"
        },
        "papermill": {
          "duration": 0.062412,
          "end_time": "2025-05-14T04:13:50.278230",
          "exception": false,
          "start_time": "2025-05-14T04:13:50.215818",
          "status": "completed"
        },
        "tags": [],
        "id": "bbf231e9",
        "outputId": "9da08d0a-494a-41b9-e546-7b5c6f722bb8"
      },
      "outputs": [
        {
          "data": {
            "text/plain": [
              "MinTemp          0\n",
              "MaxTemp          0\n",
              "Rainfall         0\n",
              "Evaporation      0\n",
              "Sunshine         0\n",
              "WindGustSpeed    0\n",
              "WindSpeed9am     0\n",
              "WindSpeed3pm     0\n",
              "Humidity9am      0\n",
              "Humidity3pm      0\n",
              "Pressure9am      0\n",
              "Pressure3pm      0\n",
              "Cloud9am         0\n",
              "Cloud3pm         0\n",
              "Temp9am          0\n",
              "Temp3pm          0\n",
              "Year             0\n",
              "Month            0\n",
              "Day              0\n",
              "dtype: int64"
            ]
          },
          "execution_count": 65,
          "metadata": {},
          "output_type": "execute_result"
        }
      ],
      "source": [
        "# Check for any existing missing values in Numerical variables of X_train dataset\n",
        "X_train[numerical].isnull().sum()"
      ]
    },
    {
      "cell_type": "code",
      "execution_count": null,
      "id": "c49f5815",
      "metadata": {
        "execution": {
          "iopub.execute_input": "2025-05-14T04:13:50.359410Z",
          "iopub.status.busy": "2025-05-14T04:13:50.358966Z",
          "iopub.status.idle": "2025-05-14T04:13:50.370158Z",
          "shell.execute_reply": "2025-05-14T04:13:50.369193Z"
        },
        "papermill": {
          "duration": 0.05398,
          "end_time": "2025-05-14T04:13:50.371891",
          "exception": false,
          "start_time": "2025-05-14T04:13:50.317911",
          "status": "completed"
        },
        "tags": [],
        "id": "c49f5815",
        "outputId": "d1086f18-e9ff-4d46-ff72-01f2d2261816"
      },
      "outputs": [
        {
          "data": {
            "text/plain": [
              "MinTemp          0\n",
              "MaxTemp          0\n",
              "Rainfall         0\n",
              "Evaporation      0\n",
              "Sunshine         0\n",
              "WindGustSpeed    0\n",
              "WindSpeed9am     0\n",
              "WindSpeed3pm     0\n",
              "Humidity9am      0\n",
              "Humidity3pm      0\n",
              "Pressure9am      0\n",
              "Pressure3pm      0\n",
              "Cloud9am         0\n",
              "Cloud3pm         0\n",
              "Temp9am          0\n",
              "Temp3pm          0\n",
              "Year             0\n",
              "Month            0\n",
              "Day              0\n",
              "dtype: int64"
            ]
          },
          "execution_count": 66,
          "metadata": {},
          "output_type": "execute_result"
        }
      ],
      "source": [
        "# Check for any existing missing values in Numerical variables of X_test dataset\n",
        "X_test[numerical].isnull().sum()"
      ]
    },
    {
      "cell_type": "markdown",
      "id": "8940c239",
      "metadata": {
        "papermill": {
          "duration": 0.038583,
          "end_time": "2025-05-14T04:13:50.449420",
          "exception": false,
          "start_time": "2025-05-14T04:13:50.410837",
          "status": "completed"
        },
        "tags": [],
        "id": "8940c239"
      },
      "source": [
        "Now, there are no missing values in both Numerical variables (columns) of both X_train and X_test datasets."
      ]
    },
    {
      "cell_type": "raw",
      "id": "85d4fa0f",
      "metadata": {
        "papermill": {
          "duration": 0.039201,
          "end_time": "2025-05-14T04:13:50.527797",
          "exception": false,
          "start_time": "2025-05-14T04:13:50.488596",
          "status": "completed"
        },
        "tags": [],
        "id": "85d4fa0f"
      },
      "source": [
        "Earlier I found out that there are also lots of missing values inside each Categorical variables. I'm also going to input any missing values of Categorical variables in both X_train and X_test datasets."
      ]
    },
    {
      "cell_type": "code",
      "execution_count": null,
      "id": "6eee2a62",
      "metadata": {
        "execution": {
          "iopub.execute_input": "2025-05-14T04:13:50.606716Z",
          "iopub.status.busy": "2025-05-14T04:13:50.606392Z",
          "iopub.status.idle": "2025-05-14T04:13:50.646433Z",
          "shell.execute_reply": "2025-05-14T04:13:50.645467Z"
        },
        "papermill": {
          "duration": 0.081545,
          "end_time": "2025-05-14T04:13:50.648232",
          "exception": false,
          "start_time": "2025-05-14T04:13:50.566687",
          "status": "completed"
        },
        "tags": [],
        "id": "6eee2a62",
        "outputId": "0b0f3f80-8bdd-46da-fda2-e507a2ee3e71"
      },
      "outputs": [
        {
          "data": {
            "text/plain": [
              "Location       0.000000\n",
              "WindGustDir    0.071068\n",
              "WindDir9am     0.072597\n",
              "WindDir3pm     0.028951\n",
              "RainToday      0.022489\n",
              "dtype: float64"
            ]
          },
          "execution_count": 67,
          "metadata": {},
          "output_type": "execute_result"
        }
      ],
      "source": [
        "# Count the total missing values in Categorical variables of X_train set\n",
        "X_train[categorical].isnull().mean()"
      ]
    },
    {
      "cell_type": "code",
      "execution_count": null,
      "id": "20ba4bf0",
      "metadata": {
        "execution": {
          "iopub.execute_input": "2025-05-14T04:13:50.727669Z",
          "iopub.status.busy": "2025-05-14T04:13:50.727314Z",
          "iopub.status.idle": "2025-05-14T04:13:50.743632Z",
          "shell.execute_reply": "2025-05-14T04:13:50.742781Z"
        },
        "papermill": {
          "duration": 0.057633,
          "end_time": "2025-05-14T04:13:50.745203",
          "exception": false,
          "start_time": "2025-05-14T04:13:50.687570",
          "status": "completed"
        },
        "tags": [],
        "id": "20ba4bf0",
        "outputId": "473c1a66-6183-43cf-c818-cd8cb51d1e16"
      },
      "outputs": [
        {
          "data": {
            "text/plain": [
              "Location       0.000000\n",
              "WindGustDir    0.070672\n",
              "WindDir9am     0.072804\n",
              "WindDir3pm     0.029527\n",
              "RainToday      0.022137\n",
              "dtype: float64"
            ]
          },
          "execution_count": 68,
          "metadata": {},
          "output_type": "execute_result"
        }
      ],
      "source": [
        "# Count the total missing values in Categorical variables of X_test set\n",
        "X_test[categorical].isnull().mean()"
      ]
    },
    {
      "cell_type": "markdown",
      "id": "ac0254a0",
      "metadata": {
        "papermill": {
          "duration": 0.04025,
          "end_time": "2025-05-14T04:13:50.824255",
          "exception": false,
          "start_time": "2025-05-14T04:13:50.784005",
          "status": "completed"
        },
        "tags": [],
        "id": "ac0254a0"
      },
      "source": [
        "Since those are Categorical variables without outliers, I'm going to impute missing values with the most frequent value (mode) from respective variables (columns)."
      ]
    },
    {
      "cell_type": "code",
      "execution_count": null,
      "id": "ab289ac5",
      "metadata": {
        "execution": {
          "iopub.execute_input": "2025-05-14T04:13:50.903735Z",
          "iopub.status.busy": "2025-05-14T04:13:50.903401Z",
          "iopub.status.idle": "2025-05-14T04:13:51.011791Z",
          "shell.execute_reply": "2025-05-14T04:13:51.010836Z"
        },
        "papermill": {
          "duration": 0.150399,
          "end_time": "2025-05-14T04:13:51.013672",
          "exception": false,
          "start_time": "2025-05-14T04:13:50.863273",
          "status": "completed"
        },
        "tags": [],
        "id": "ab289ac5"
      },
      "outputs": [],
      "source": [
        "# Inserting missing values in Categorical variables of X_train and X_test datasets by inserting with mode values from respective variables (columns) in X_train dataset\n",
        "for df2 in [X_train, X_test]:\n",
        "    df2[\"WindGustDir\"].fillna(X_train[\"WindGustDir\"].mode()[0], inplace=True)\n",
        "    df2[\"WindDir9am\"].fillna(X_train[\"WindDir9am\"].mode()[0], inplace=True)\n",
        "    df2[\"WindDir3pm\"].fillna(X_train[\"WindDir3pm\"].mode()[0], inplace=True)\n",
        "    df2[\"RainToday\"].fillna(X_train[\"RainToday\"].mode()[0], inplace=True)"
      ]
    },
    {
      "cell_type": "code",
      "execution_count": null,
      "id": "3969ef0f",
      "metadata": {
        "execution": {
          "iopub.execute_input": "2025-05-14T04:13:51.092886Z",
          "iopub.status.busy": "2025-05-14T04:13:51.092509Z",
          "iopub.status.idle": "2025-05-14T04:13:51.132751Z",
          "shell.execute_reply": "2025-05-14T04:13:51.131674Z"
        },
        "papermill": {
          "duration": 0.081918,
          "end_time": "2025-05-14T04:13:51.134403",
          "exception": false,
          "start_time": "2025-05-14T04:13:51.052485",
          "status": "completed"
        },
        "tags": [],
        "id": "3969ef0f",
        "outputId": "a766cbf0-3f63-4182-c38a-8b9cde8df29a"
      },
      "outputs": [
        {
          "data": {
            "text/plain": [
              "Location       0\n",
              "WindGustDir    0\n",
              "WindDir9am     0\n",
              "WindDir3pm     0\n",
              "RainToday      0\n",
              "dtype: int64"
            ]
          },
          "execution_count": 70,
          "metadata": {},
          "output_type": "execute_result"
        }
      ],
      "source": [
        "# Check missing values in Categorical variables in X_train set\n",
        "X_train[categorical].isnull().sum()"
      ]
    },
    {
      "cell_type": "code",
      "execution_count": null,
      "id": "dac26ffc",
      "metadata": {
        "execution": {
          "iopub.execute_input": "2025-05-14T04:13:51.214920Z",
          "iopub.status.busy": "2025-05-14T04:13:51.214582Z",
          "iopub.status.idle": "2025-05-14T04:13:51.230341Z",
          "shell.execute_reply": "2025-05-14T04:13:51.229417Z"
        },
        "papermill": {
          "duration": 0.058564,
          "end_time": "2025-05-14T04:13:51.231923",
          "exception": false,
          "start_time": "2025-05-14T04:13:51.173359",
          "status": "completed"
        },
        "tags": [],
        "id": "dac26ffc",
        "outputId": "a3d81a3c-309b-430e-b5ae-46e618e555e3"
      },
      "outputs": [
        {
          "data": {
            "text/plain": [
              "Location       0\n",
              "WindGustDir    0\n",
              "WindDir9am     0\n",
              "WindDir3pm     0\n",
              "RainToday      0\n",
              "dtype: int64"
            ]
          },
          "execution_count": 71,
          "metadata": {},
          "output_type": "execute_result"
        }
      ],
      "source": [
        "# Check missing values in Categorical variables in X_test set\n",
        "X_test[categorical].isnull().sum()"
      ]
    },
    {
      "cell_type": "markdown",
      "id": "d1b86ffa",
      "metadata": {
        "papermill": {
          "duration": 0.039578,
          "end_time": "2025-05-14T04:13:51.312851",
          "exception": false,
          "start_time": "2025-05-14T04:13:51.273273",
          "status": "completed"
        },
        "tags": [],
        "id": "d1b86ffa"
      },
      "source": [
        "Before proceeding to the next step, I want to check if there's any missing values in each variable (column) of both Categorical and Numerical variables inside X_train and X_test datasets."
      ]
    },
    {
      "cell_type": "code",
      "execution_count": null,
      "id": "a6706b9a",
      "metadata": {
        "execution": {
          "iopub.execute_input": "2025-05-14T04:13:51.391965Z",
          "iopub.status.busy": "2025-05-14T04:13:51.391613Z",
          "iopub.status.idle": "2025-05-14T04:13:51.434555Z",
          "shell.execute_reply": "2025-05-14T04:13:51.433537Z"
        },
        "papermill": {
          "duration": 0.084803,
          "end_time": "2025-05-14T04:13:51.436574",
          "exception": false,
          "start_time": "2025-05-14T04:13:51.351771",
          "status": "completed"
        },
        "tags": [],
        "id": "a6706b9a",
        "outputId": "af1063d4-3848-414c-836a-6144941273ff"
      },
      "outputs": [
        {
          "data": {
            "text/plain": [
              "Location         0\n",
              "MinTemp          0\n",
              "MaxTemp          0\n",
              "Rainfall         0\n",
              "Evaporation      0\n",
              "Sunshine         0\n",
              "WindGustDir      0\n",
              "WindGustSpeed    0\n",
              "WindDir9am       0\n",
              "WindDir3pm       0\n",
              "WindSpeed9am     0\n",
              "WindSpeed3pm     0\n",
              "Humidity9am      0\n",
              "Humidity3pm      0\n",
              "Pressure9am      0\n",
              "Pressure3pm      0\n",
              "Cloud9am         0\n",
              "Cloud3pm         0\n",
              "Temp9am          0\n",
              "Temp3pm          0\n",
              "RainToday        0\n",
              "Year             0\n",
              "Month            0\n",
              "Day              0\n",
              "dtype: int64"
            ]
          },
          "execution_count": 72,
          "metadata": {},
          "output_type": "execute_result"
        }
      ],
      "source": [
        "# Check any missing values in X_train\n",
        "X_train.isnull().sum()"
      ]
    },
    {
      "cell_type": "code",
      "execution_count": null,
      "id": "5b5466cd",
      "metadata": {
        "execution": {
          "iopub.execute_input": "2025-05-14T04:13:51.517363Z",
          "iopub.status.busy": "2025-05-14T04:13:51.516956Z",
          "iopub.status.idle": "2025-05-14T04:13:51.534423Z",
          "shell.execute_reply": "2025-05-14T04:13:51.533426Z"
        },
        "papermill": {
          "duration": 0.059926,
          "end_time": "2025-05-14T04:13:51.536062",
          "exception": false,
          "start_time": "2025-05-14T04:13:51.476136",
          "status": "completed"
        },
        "tags": [],
        "id": "5b5466cd",
        "outputId": "667dc2fa-664b-4a3c-c140-7b0263b34a97"
      },
      "outputs": [
        {
          "data": {
            "text/plain": [
              "Location         0\n",
              "MinTemp          0\n",
              "MaxTemp          0\n",
              "Rainfall         0\n",
              "Evaporation      0\n",
              "Sunshine         0\n",
              "WindGustDir      0\n",
              "WindGustSpeed    0\n",
              "WindDir9am       0\n",
              "WindDir3pm       0\n",
              "WindSpeed9am     0\n",
              "WindSpeed3pm     0\n",
              "Humidity9am      0\n",
              "Humidity3pm      0\n",
              "Pressure9am      0\n",
              "Pressure3pm      0\n",
              "Cloud9am         0\n",
              "Cloud3pm         0\n",
              "Temp9am          0\n",
              "Temp3pm          0\n",
              "RainToday        0\n",
              "Year             0\n",
              "Month            0\n",
              "Day              0\n",
              "dtype: int64"
            ]
          },
          "execution_count": 73,
          "metadata": {},
          "output_type": "execute_result"
        }
      ],
      "source": [
        "# Check any missing values in X_test\n",
        "X_test.isnull().sum()"
      ]
    },
    {
      "cell_type": "markdown",
      "id": "2ca51496",
      "metadata": {
        "papermill": {
          "duration": 0.038575,
          "end_time": "2025-05-14T04:13:51.613917",
          "exception": false,
          "start_time": "2025-05-14T04:13:51.575342",
          "status": "completed"
        },
        "tags": [],
        "id": "2ca51496"
      },
      "source": [
        "I can conclude now there are no missing values in Categorical and Numerical variables of X_train and X_test datasets."
      ]
    },
    {
      "cell_type": "markdown",
      "id": "fab159e2",
      "metadata": {
        "papermill": {
          "duration": 0.038694,
          "end_time": "2025-05-14T04:13:51.691822",
          "exception": false,
          "start_time": "2025-05-14T04:13:51.653128",
          "status": "completed"
        },
        "tags": [],
        "id": "fab159e2"
      },
      "source": [
        "The next step is that I'm going to cap maximum values in each Numerical variables in order to eliminate outliers.\n",
        "\n",
        "As a reminder, those Numerical variables are as following,\n",
        "1. Rainfall,\n",
        "2. Evaporation,\n",
        "3. WindSpeed9am,\n",
        "4. WindSpeed3pm."
      ]
    },
    {
      "cell_type": "code",
      "execution_count": null,
      "id": "9e9e1d7e",
      "metadata": {
        "execution": {
          "iopub.execute_input": "2025-05-14T04:13:51.771486Z",
          "iopub.status.busy": "2025-05-14T04:13:51.771065Z",
          "iopub.status.idle": "2025-05-14T04:13:51.783810Z",
          "shell.execute_reply": "2025-05-14T04:13:51.782733Z"
        },
        "papermill": {
          "duration": 0.054771,
          "end_time": "2025-05-14T04:13:51.785669",
          "exception": false,
          "start_time": "2025-05-14T04:13:51.730898",
          "status": "completed"
        },
        "tags": [],
        "id": "9e9e1d7e"
      },
      "outputs": [],
      "source": [
        "# Capping the maximum values of each Numerical variable using values found with interquantile method (upper fence/upper boundary values)\n",
        "\n",
        "def max_value(df3, variable, top):\n",
        "    return np.where(df3[variable]>top, top, df3[variable])\n",
        "\n",
        "for df3 in [X_train, X_test]:\n",
        "    df3[\"Rainfall\"] = max_value(df3, \"Rainfall\", 3.2)\n",
        "    df3[\"Evaporation\"] = max_value(df3, \"Evaporation\", 21.8)\n",
        "    df3[\"WindSpeed9am\"] = max_value(df3, \"WindSpeed9am\", 55)\n",
        "    df3[\"WindSpeed3pm\"] = max_value(df3, \"WindSpeed3pm\", 57)"
      ]
    },
    {
      "cell_type": "code",
      "execution_count": null,
      "id": "5a151827",
      "metadata": {
        "execution": {
          "iopub.execute_input": "2025-05-14T04:13:51.867046Z",
          "iopub.status.busy": "2025-05-14T04:13:51.866726Z",
          "iopub.status.idle": "2025-05-14T04:13:51.874011Z",
          "shell.execute_reply": "2025-05-14T04:13:51.872588Z"
        },
        "papermill": {
          "duration": 0.048784,
          "end_time": "2025-05-14T04:13:51.875734",
          "exception": false,
          "start_time": "2025-05-14T04:13:51.826950",
          "status": "completed"
        },
        "tags": [],
        "id": "5a151827",
        "outputId": "636c9bf5-4f53-48be-94e3-a8f3a4da43b3"
      },
      "outputs": [
        {
          "data": {
            "text/plain": [
              "(3.2, 3.2)"
            ]
          },
          "execution_count": 75,
          "metadata": {},
          "output_type": "execute_result"
        }
      ],
      "source": [
        "X_train.Rainfall.max(), X_test.Rainfall.max()"
      ]
    },
    {
      "cell_type": "code",
      "execution_count": null,
      "id": "f0570a5f",
      "metadata": {
        "execution": {
          "iopub.execute_input": "2025-05-14T04:13:51.955741Z",
          "iopub.status.busy": "2025-05-14T04:13:51.955379Z",
          "iopub.status.idle": "2025-05-14T04:13:51.961698Z",
          "shell.execute_reply": "2025-05-14T04:13:51.960639Z"
        },
        "papermill": {
          "duration": 0.048075,
          "end_time": "2025-05-14T04:13:51.963308",
          "exception": false,
          "start_time": "2025-05-14T04:13:51.915233",
          "status": "completed"
        },
        "tags": [],
        "id": "f0570a5f",
        "outputId": "d2473f4e-46cc-47cd-c604-874be7cb28fd"
      },
      "outputs": [
        {
          "data": {
            "text/plain": [
              "(21.8, 21.8)"
            ]
          },
          "execution_count": 76,
          "metadata": {},
          "output_type": "execute_result"
        }
      ],
      "source": [
        "X_train.Evaporation.max(), X_test.Evaporation.max()"
      ]
    },
    {
      "cell_type": "code",
      "execution_count": null,
      "id": "eb448f88",
      "metadata": {
        "execution": {
          "iopub.execute_input": "2025-05-14T04:13:52.043813Z",
          "iopub.status.busy": "2025-05-14T04:13:52.043446Z",
          "iopub.status.idle": "2025-05-14T04:13:52.049786Z",
          "shell.execute_reply": "2025-05-14T04:13:52.048878Z"
        },
        "papermill": {
          "duration": 0.049172,
          "end_time": "2025-05-14T04:13:52.051644",
          "exception": false,
          "start_time": "2025-05-14T04:13:52.002472",
          "status": "completed"
        },
        "tags": [],
        "id": "eb448f88",
        "outputId": "feb4d5b1-0ac7-4b1a-f8fd-c0eea877b2d7"
      },
      "outputs": [
        {
          "data": {
            "text/plain": [
              "(55.0, 55.0)"
            ]
          },
          "execution_count": 77,
          "metadata": {},
          "output_type": "execute_result"
        }
      ],
      "source": [
        "X_train.WindSpeed9am.max(), X_test.WindSpeed9am.max()"
      ]
    },
    {
      "cell_type": "code",
      "execution_count": null,
      "id": "fc253399",
      "metadata": {
        "execution": {
          "iopub.execute_input": "2025-05-14T04:13:52.132499Z",
          "iopub.status.busy": "2025-05-14T04:13:52.132057Z",
          "iopub.status.idle": "2025-05-14T04:13:52.138821Z",
          "shell.execute_reply": "2025-05-14T04:13:52.137628Z"
        },
        "papermill": {
          "duration": 0.049528,
          "end_time": "2025-05-14T04:13:52.140901",
          "exception": false,
          "start_time": "2025-05-14T04:13:52.091373",
          "status": "completed"
        },
        "tags": [],
        "id": "fc253399",
        "outputId": "21e44ab1-a88c-4151-9112-b089d63eb7f0"
      },
      "outputs": [
        {
          "data": {
            "text/plain": [
              "(57.0, 57.0)"
            ]
          },
          "execution_count": 78,
          "metadata": {},
          "output_type": "execute_result"
        }
      ],
      "source": [
        "X_train.WindSpeed3pm.max(), X_test.WindSpeed3pm.max()"
      ]
    },
    {
      "cell_type": "code",
      "execution_count": null,
      "id": "e68e01f6",
      "metadata": {
        "execution": {
          "iopub.execute_input": "2025-05-14T04:13:52.224146Z",
          "iopub.status.busy": "2025-05-14T04:13:52.223779Z",
          "iopub.status.idle": "2025-05-14T04:13:52.390848Z",
          "shell.execute_reply": "2025-05-14T04:13:52.389767Z"
        },
        "papermill": {
          "duration": 0.209527,
          "end_time": "2025-05-14T04:13:52.392599",
          "exception": false,
          "start_time": "2025-05-14T04:13:52.183072",
          "status": "completed"
        },
        "tags": [],
        "id": "e68e01f6",
        "outputId": "4149d9d2-2b72-4baf-c1c2-05e17f2af45c"
      },
      "outputs": [
        {
          "data": {
            "text/html": [
              "<div>\n",
              "<style scoped>\n",
              "    .dataframe tbody tr th:only-of-type {\n",
              "        vertical-align: middle;\n",
              "    }\n",
              "\n",
              "    .dataframe tbody tr th {\n",
              "        vertical-align: top;\n",
              "    }\n",
              "\n",
              "    .dataframe thead th {\n",
              "        text-align: right;\n",
              "    }\n",
              "</style>\n",
              "<table border=\"1\" class=\"dataframe\">\n",
              "  <thead>\n",
              "    <tr style=\"text-align: right;\">\n",
              "      <th></th>\n",
              "      <th>MinTemp</th>\n",
              "      <th>MaxTemp</th>\n",
              "      <th>Rainfall</th>\n",
              "      <th>Evaporation</th>\n",
              "      <th>Sunshine</th>\n",
              "      <th>WindGustSpeed</th>\n",
              "      <th>WindSpeed9am</th>\n",
              "      <th>WindSpeed3pm</th>\n",
              "      <th>Humidity9am</th>\n",
              "      <th>Humidity3pm</th>\n",
              "      <th>Pressure9am</th>\n",
              "      <th>Pressure3pm</th>\n",
              "      <th>Cloud9am</th>\n",
              "      <th>Cloud3pm</th>\n",
              "      <th>Temp9am</th>\n",
              "      <th>Temp3pm</th>\n",
              "      <th>Year</th>\n",
              "      <th>Month</th>\n",
              "      <th>Day</th>\n",
              "    </tr>\n",
              "  </thead>\n",
              "  <tbody>\n",
              "    <tr>\n",
              "      <th>count</th>\n",
              "      <td>116368.000000</td>\n",
              "      <td>116368.000000</td>\n",
              "      <td>116368.000000</td>\n",
              "      <td>116368.000000</td>\n",
              "      <td>116368.000000</td>\n",
              "      <td>116368.000000</td>\n",
              "      <td>116368.000000</td>\n",
              "      <td>116368.000000</td>\n",
              "      <td>116368.000000</td>\n",
              "      <td>116368.000000</td>\n",
              "      <td>116368.000000</td>\n",
              "      <td>116368.000000</td>\n",
              "      <td>116368.000000</td>\n",
              "      <td>116368.000000</td>\n",
              "      <td>116368.000000</td>\n",
              "      <td>116368.000000</td>\n",
              "      <td>116368.000000</td>\n",
              "      <td>116368.000000</td>\n",
              "      <td>116368.000000</td>\n",
              "    </tr>\n",
              "    <tr>\n",
              "      <th>mean</th>\n",
              "      <td>12.190189</td>\n",
              "      <td>23.203107</td>\n",
              "      <td>0.670800</td>\n",
              "      <td>5.093362</td>\n",
              "      <td>7.982476</td>\n",
              "      <td>39.982091</td>\n",
              "      <td>14.029381</td>\n",
              "      <td>18.687466</td>\n",
              "      <td>68.950691</td>\n",
              "      <td>51.605828</td>\n",
              "      <td>1017.639891</td>\n",
              "      <td>1015.244946</td>\n",
              "      <td>4.664092</td>\n",
              "      <td>4.710728</td>\n",
              "      <td>16.979454</td>\n",
              "      <td>21.657195</td>\n",
              "      <td>2012.767058</td>\n",
              "      <td>6.395091</td>\n",
              "      <td>15.731954</td>\n",
              "    </tr>\n",
              "    <tr>\n",
              "      <th>std</th>\n",
              "      <td>6.366893</td>\n",
              "      <td>7.085408</td>\n",
              "      <td>1.181512</td>\n",
              "      <td>2.800200</td>\n",
              "      <td>2.761639</td>\n",
              "      <td>13.127953</td>\n",
              "      <td>8.835596</td>\n",
              "      <td>8.700618</td>\n",
              "      <td>18.811437</td>\n",
              "      <td>20.439999</td>\n",
              "      <td>6.728234</td>\n",
              "      <td>6.661517</td>\n",
              "      <td>2.280687</td>\n",
              "      <td>2.106040</td>\n",
              "      <td>6.449641</td>\n",
              "      <td>6.848293</td>\n",
              "      <td>2.538401</td>\n",
              "      <td>3.425451</td>\n",
              "      <td>8.796931</td>\n",
              "    </tr>\n",
              "    <tr>\n",
              "      <th>min</th>\n",
              "      <td>-8.500000</td>\n",
              "      <td>-4.800000</td>\n",
              "      <td>0.000000</td>\n",
              "      <td>0.000000</td>\n",
              "      <td>0.000000</td>\n",
              "      <td>6.000000</td>\n",
              "      <td>0.000000</td>\n",
              "      <td>0.000000</td>\n",
              "      <td>0.000000</td>\n",
              "      <td>0.000000</td>\n",
              "      <td>980.500000</td>\n",
              "      <td>977.100000</td>\n",
              "      <td>0.000000</td>\n",
              "      <td>0.000000</td>\n",
              "      <td>-7.200000</td>\n",
              "      <td>-5.400000</td>\n",
              "      <td>2007.000000</td>\n",
              "      <td>1.000000</td>\n",
              "      <td>1.000000</td>\n",
              "    </tr>\n",
              "    <tr>\n",
              "      <th>25%</th>\n",
              "      <td>7.700000</td>\n",
              "      <td>18.000000</td>\n",
              "      <td>0.000000</td>\n",
              "      <td>4.000000</td>\n",
              "      <td>8.200000</td>\n",
              "      <td>31.000000</td>\n",
              "      <td>7.000000</td>\n",
              "      <td>13.000000</td>\n",
              "      <td>57.000000</td>\n",
              "      <td>37.000000</td>\n",
              "      <td>1013.500000</td>\n",
              "      <td>1011.100000</td>\n",
              "      <td>3.000000</td>\n",
              "      <td>4.000000</td>\n",
              "      <td>12.300000</td>\n",
              "      <td>16.700000</td>\n",
              "      <td>2011.000000</td>\n",
              "      <td>3.000000</td>\n",
              "      <td>8.000000</td>\n",
              "    </tr>\n",
              "    <tr>\n",
              "      <th>50%</th>\n",
              "      <td>12.000000</td>\n",
              "      <td>22.600000</td>\n",
              "      <td>0.000000</td>\n",
              "      <td>4.700000</td>\n",
              "      <td>8.400000</td>\n",
              "      <td>39.000000</td>\n",
              "      <td>13.000000</td>\n",
              "      <td>19.000000</td>\n",
              "      <td>70.000000</td>\n",
              "      <td>52.000000</td>\n",
              "      <td>1017.600000</td>\n",
              "      <td>1015.200000</td>\n",
              "      <td>5.000000</td>\n",
              "      <td>5.000000</td>\n",
              "      <td>16.700000</td>\n",
              "      <td>21.100000</td>\n",
              "      <td>2013.000000</td>\n",
              "      <td>6.000000</td>\n",
              "      <td>16.000000</td>\n",
              "    </tr>\n",
              "    <tr>\n",
              "      <th>75%</th>\n",
              "      <td>16.800000</td>\n",
              "      <td>28.200000</td>\n",
              "      <td>0.600000</td>\n",
              "      <td>5.200000</td>\n",
              "      <td>8.600000</td>\n",
              "      <td>46.000000</td>\n",
              "      <td>19.000000</td>\n",
              "      <td>24.000000</td>\n",
              "      <td>83.000000</td>\n",
              "      <td>65.000000</td>\n",
              "      <td>1021.800000</td>\n",
              "      <td>1019.400000</td>\n",
              "      <td>6.000000</td>\n",
              "      <td>6.000000</td>\n",
              "      <td>21.500000</td>\n",
              "      <td>26.200000</td>\n",
              "      <td>2015.000000</td>\n",
              "      <td>9.000000</td>\n",
              "      <td>23.000000</td>\n",
              "    </tr>\n",
              "    <tr>\n",
              "      <th>max</th>\n",
              "      <td>31.900000</td>\n",
              "      <td>48.100000</td>\n",
              "      <td>3.200000</td>\n",
              "      <td>21.800000</td>\n",
              "      <td>14.500000</td>\n",
              "      <td>135.000000</td>\n",
              "      <td>55.000000</td>\n",
              "      <td>57.000000</td>\n",
              "      <td>100.000000</td>\n",
              "      <td>100.000000</td>\n",
              "      <td>1041.000000</td>\n",
              "      <td>1039.600000</td>\n",
              "      <td>9.000000</td>\n",
              "      <td>8.000000</td>\n",
              "      <td>40.200000</td>\n",
              "      <td>46.700000</td>\n",
              "      <td>2017.000000</td>\n",
              "      <td>12.000000</td>\n",
              "      <td>31.000000</td>\n",
              "    </tr>\n",
              "  </tbody>\n",
              "</table>\n",
              "</div>"
            ],
            "text/plain": [
              "             MinTemp        MaxTemp       Rainfall    Evaporation  \\\n",
              "count  116368.000000  116368.000000  116368.000000  116368.000000   \n",
              "mean       12.190189      23.203107       0.670800       5.093362   \n",
              "std         6.366893       7.085408       1.181512       2.800200   \n",
              "min        -8.500000      -4.800000       0.000000       0.000000   \n",
              "25%         7.700000      18.000000       0.000000       4.000000   \n",
              "50%        12.000000      22.600000       0.000000       4.700000   \n",
              "75%        16.800000      28.200000       0.600000       5.200000   \n",
              "max        31.900000      48.100000       3.200000      21.800000   \n",
              "\n",
              "            Sunshine  WindGustSpeed   WindSpeed9am   WindSpeed3pm  \\\n",
              "count  116368.000000  116368.000000  116368.000000  116368.000000   \n",
              "mean        7.982476      39.982091      14.029381      18.687466   \n",
              "std         2.761639      13.127953       8.835596       8.700618   \n",
              "min         0.000000       6.000000       0.000000       0.000000   \n",
              "25%         8.200000      31.000000       7.000000      13.000000   \n",
              "50%         8.400000      39.000000      13.000000      19.000000   \n",
              "75%         8.600000      46.000000      19.000000      24.000000   \n",
              "max        14.500000     135.000000      55.000000      57.000000   \n",
              "\n",
              "         Humidity9am    Humidity3pm    Pressure9am    Pressure3pm  \\\n",
              "count  116368.000000  116368.000000  116368.000000  116368.000000   \n",
              "mean       68.950691      51.605828    1017.639891    1015.244946   \n",
              "std        18.811437      20.439999       6.728234       6.661517   \n",
              "min         0.000000       0.000000     980.500000     977.100000   \n",
              "25%        57.000000      37.000000    1013.500000    1011.100000   \n",
              "50%        70.000000      52.000000    1017.600000    1015.200000   \n",
              "75%        83.000000      65.000000    1021.800000    1019.400000   \n",
              "max       100.000000     100.000000    1041.000000    1039.600000   \n",
              "\n",
              "            Cloud9am       Cloud3pm        Temp9am        Temp3pm  \\\n",
              "count  116368.000000  116368.000000  116368.000000  116368.000000   \n",
              "mean        4.664092       4.710728      16.979454      21.657195   \n",
              "std         2.280687       2.106040       6.449641       6.848293   \n",
              "min         0.000000       0.000000      -7.200000      -5.400000   \n",
              "25%         3.000000       4.000000      12.300000      16.700000   \n",
              "50%         5.000000       5.000000      16.700000      21.100000   \n",
              "75%         6.000000       6.000000      21.500000      26.200000   \n",
              "max         9.000000       8.000000      40.200000      46.700000   \n",
              "\n",
              "                Year          Month            Day  \n",
              "count  116368.000000  116368.000000  116368.000000  \n",
              "mean     2012.767058       6.395091      15.731954  \n",
              "std         2.538401       3.425451       8.796931  \n",
              "min      2007.000000       1.000000       1.000000  \n",
              "25%      2011.000000       3.000000       8.000000  \n",
              "50%      2013.000000       6.000000      16.000000  \n",
              "75%      2015.000000       9.000000      23.000000  \n",
              "max      2017.000000      12.000000      31.000000  "
            ]
          },
          "execution_count": 79,
          "metadata": {},
          "output_type": "execute_result"
        }
      ],
      "source": [
        "X_train[numerical].describe()"
      ]
    },
    {
      "cell_type": "markdown",
      "id": "ff711b26",
      "metadata": {
        "papermill": {
          "duration": 0.041201,
          "end_time": "2025-05-14T04:13:52.475350",
          "exception": false,
          "start_time": "2025-05-14T04:13:52.434149",
          "status": "completed"
        },
        "tags": [],
        "id": "ff711b26"
      },
      "source": [
        "From the X_train set description of Numerical variables above, I can see that the maximum values of Rainfall, Evaporation, WindSpeed9am and WindSpeed3pm variable are capped."
      ]
    },
    {
      "cell_type": "markdown",
      "id": "90d4ace2",
      "metadata": {
        "papermill": {
          "duration": 0.040269,
          "end_time": "2025-05-14T04:13:52.556703",
          "exception": false,
          "start_time": "2025-05-14T04:13:52.516434",
          "status": "completed"
        },
        "tags": [],
        "id": "90d4ace2"
      },
      "source": [
        "After determining and setting the maximum values of Numerical variables with outliers in the X_train set, now I will try to encode Categorical variables of X_train set."
      ]
    },
    {
      "cell_type": "code",
      "execution_count": null,
      "id": "509446e6",
      "metadata": {
        "execution": {
          "iopub.execute_input": "2025-05-14T04:13:52.638772Z",
          "iopub.status.busy": "2025-05-14T04:13:52.638426Z",
          "iopub.status.idle": "2025-05-14T04:13:52.644232Z",
          "shell.execute_reply": "2025-05-14T04:13:52.643120Z"
        },
        "papermill": {
          "duration": 0.04877,
          "end_time": "2025-05-14T04:13:52.645863",
          "exception": false,
          "start_time": "2025-05-14T04:13:52.597093",
          "status": "completed"
        },
        "tags": [],
        "id": "509446e6",
        "outputId": "869735a0-54ce-49b6-b3f0-6d4c95c84e5b"
      },
      "outputs": [
        {
          "data": {
            "text/plain": [
              "['Location', 'WindGustDir', 'WindDir9am', 'WindDir3pm', 'RainToday']"
            ]
          },
          "execution_count": 80,
          "metadata": {},
          "output_type": "execute_result"
        }
      ],
      "source": [
        "# Remind me which ones are Categorical variables\n",
        "categorical"
      ]
    },
    {
      "cell_type": "code",
      "execution_count": null,
      "id": "b438ad05",
      "metadata": {
        "execution": {
          "iopub.execute_input": "2025-05-14T04:13:52.727243Z",
          "iopub.status.busy": "2025-05-14T04:13:52.726779Z",
          "iopub.status.idle": "2025-05-14T04:13:52.741355Z",
          "shell.execute_reply": "2025-05-14T04:13:52.740276Z"
        },
        "papermill": {
          "duration": 0.057104,
          "end_time": "2025-05-14T04:13:52.743080",
          "exception": false,
          "start_time": "2025-05-14T04:13:52.685976",
          "status": "completed"
        },
        "tags": [],
        "id": "b438ad05",
        "outputId": "b7b36069-d047-4ce1-a6f7-9139099d06fb"
      },
      "outputs": [
        {
          "data": {
            "text/html": [
              "<div>\n",
              "<style scoped>\n",
              "    .dataframe tbody tr th:only-of-type {\n",
              "        vertical-align: middle;\n",
              "    }\n",
              "\n",
              "    .dataframe tbody tr th {\n",
              "        vertical-align: top;\n",
              "    }\n",
              "\n",
              "    .dataframe thead th {\n",
              "        text-align: right;\n",
              "    }\n",
              "</style>\n",
              "<table border=\"1\" class=\"dataframe\">\n",
              "  <thead>\n",
              "    <tr style=\"text-align: right;\">\n",
              "      <th></th>\n",
              "      <th>Location</th>\n",
              "      <th>WindGustDir</th>\n",
              "      <th>WindDir9am</th>\n",
              "      <th>WindDir3pm</th>\n",
              "      <th>RainToday</th>\n",
              "    </tr>\n",
              "  </thead>\n",
              "  <tbody>\n",
              "    <tr>\n",
              "      <th>22926</th>\n",
              "      <td>NorfolkIsland</td>\n",
              "      <td>ESE</td>\n",
              "      <td>ESE</td>\n",
              "      <td>ESE</td>\n",
              "      <td>No</td>\n",
              "    </tr>\n",
              "    <tr>\n",
              "      <th>80735</th>\n",
              "      <td>Watsonia</td>\n",
              "      <td>NE</td>\n",
              "      <td>NNW</td>\n",
              "      <td>NNE</td>\n",
              "      <td>No</td>\n",
              "    </tr>\n",
              "    <tr>\n",
              "      <th>121764</th>\n",
              "      <td>Perth</td>\n",
              "      <td>SW</td>\n",
              "      <td>N</td>\n",
              "      <td>SW</td>\n",
              "      <td>Yes</td>\n",
              "    </tr>\n",
              "    <tr>\n",
              "      <th>139821</th>\n",
              "      <td>Darwin</td>\n",
              "      <td>ESE</td>\n",
              "      <td>ESE</td>\n",
              "      <td>E</td>\n",
              "      <td>No</td>\n",
              "    </tr>\n",
              "    <tr>\n",
              "      <th>1867</th>\n",
              "      <td>Albury</td>\n",
              "      <td>E</td>\n",
              "      <td>ESE</td>\n",
              "      <td>E</td>\n",
              "      <td>Yes</td>\n",
              "    </tr>\n",
              "  </tbody>\n",
              "</table>\n",
              "</div>"
            ],
            "text/plain": [
              "             Location WindGustDir WindDir9am WindDir3pm RainToday\n",
              "22926   NorfolkIsland         ESE        ESE        ESE        No\n",
              "80735        Watsonia          NE        NNW        NNE        No\n",
              "121764          Perth          SW          N         SW       Yes\n",
              "139821         Darwin         ESE        ESE          E        No\n",
              "1867           Albury           E        ESE          E       Yes"
            ]
          },
          "execution_count": 81,
          "metadata": {},
          "output_type": "execute_result"
        }
      ],
      "source": [
        "X_train[categorical].head()"
      ]
    },
    {
      "cell_type": "code",
      "execution_count": null,
      "id": "f506a7fe",
      "metadata": {
        "execution": {
          "iopub.execute_input": "2025-05-14T04:13:52.830304Z",
          "iopub.status.busy": "2025-05-14T04:13:52.829901Z",
          "iopub.status.idle": "2025-05-14T04:13:58.318402Z",
          "shell.execute_reply": "2025-05-14T04:13:58.317078Z"
        },
        "papermill": {
          "duration": 5.535285,
          "end_time": "2025-05-14T04:13:58.320998",
          "exception": false,
          "start_time": "2025-05-14T04:13:52.785713",
          "status": "completed"
        },
        "tags": [],
        "id": "f506a7fe",
        "outputId": "0a4c7bb3-610a-4c3a-9bfa-c5881ef545f6"
      },
      "outputs": [
        {
          "name": "stdout",
          "output_type": "stream",
          "text": [
            "Requirement already satisfied: category_encoders in /usr/local/lib/python3.10/dist-packages (2.7.0)\r\n",
            "Requirement already satisfied: numpy>=1.14.0 in /usr/local/lib/python3.10/dist-packages (from category_encoders) (1.26.4)\r\n",
            "Requirement already satisfied: pandas>=1.0.5 in /usr/local/lib/python3.10/dist-packages (from category_encoders) (2.2.3)\r\n",
            "Requirement already satisfied: patsy>=0.5.1 in /usr/local/lib/python3.10/dist-packages (from category_encoders) (1.0.1)\r\n",
            "Requirement already satisfied: scikit-learn<1.6.0,>=1.0.0 in /usr/local/lib/python3.10/dist-packages (from category_encoders) (1.2.2)\r\n",
            "Requirement already satisfied: scipy>=1.0.0 in /usr/local/lib/python3.10/dist-packages (from category_encoders) (1.13.1)\r\n",
            "Requirement already satisfied: statsmodels>=0.9.0 in /usr/local/lib/python3.10/dist-packages (from category_encoders) (0.14.4)\r\n",
            "Requirement already satisfied: mkl_fft in /usr/local/lib/python3.10/dist-packages (from numpy>=1.14.0->category_encoders) (1.3.8)\r\n",
            "Requirement already satisfied: mkl_random in /usr/local/lib/python3.10/dist-packages (from numpy>=1.14.0->category_encoders) (1.2.4)\r\n",
            "Requirement already satisfied: mkl_umath in /usr/local/lib/python3.10/dist-packages (from numpy>=1.14.0->category_encoders) (0.1.1)\r\n",
            "Requirement already satisfied: mkl in /usr/local/lib/python3.10/dist-packages (from numpy>=1.14.0->category_encoders) (2025.0.1)\r\n",
            "Requirement already satisfied: tbb4py in /usr/local/lib/python3.10/dist-packages (from numpy>=1.14.0->category_encoders) (2022.0.0)\r\n",
            "Requirement already satisfied: mkl-service in /usr/local/lib/python3.10/dist-packages (from numpy>=1.14.0->category_encoders) (2.4.1)\r\n",
            "Requirement already satisfied: python-dateutil>=2.8.2 in /usr/local/lib/python3.10/dist-packages (from pandas>=1.0.5->category_encoders) (2.9.0.post0)\r\n",
            "Requirement already satisfied: pytz>=2020.1 in /usr/local/lib/python3.10/dist-packages (from pandas>=1.0.5->category_encoders) (2025.1)\r\n",
            "Requirement already satisfied: tzdata>=2022.7 in /usr/local/lib/python3.10/dist-packages (from pandas>=1.0.5->category_encoders) (2025.1)\r\n",
            "Requirement already satisfied: joblib>=1.1.1 in /usr/local/lib/python3.10/dist-packages (from scikit-learn<1.6.0,>=1.0.0->category_encoders) (1.4.2)\r\n",
            "Requirement already satisfied: threadpoolctl>=2.0.0 in /usr/local/lib/python3.10/dist-packages (from scikit-learn<1.6.0,>=1.0.0->category_encoders) (3.5.0)\r\n",
            "Requirement already satisfied: packaging>=21.3 in /usr/local/lib/python3.10/dist-packages (from statsmodels>=0.9.0->category_encoders) (24.2)\r\n",
            "Requirement already satisfied: six>=1.5 in /usr/local/lib/python3.10/dist-packages (from python-dateutil>=2.8.2->pandas>=1.0.5->category_encoders) (1.17.0)\r\n",
            "Requirement already satisfied: intel-openmp>=2024 in /usr/local/lib/python3.10/dist-packages (from mkl->numpy>=1.14.0->category_encoders) (2024.2.0)\r\n",
            "Requirement already satisfied: tbb==2022.* in /usr/local/lib/python3.10/dist-packages (from mkl->numpy>=1.14.0->category_encoders) (2022.0.0)\r\n",
            "Requirement already satisfied: tcmlib==1.* in /usr/local/lib/python3.10/dist-packages (from tbb==2022.*->mkl->numpy>=1.14.0->category_encoders) (1.2.0)\r\n",
            "Requirement already satisfied: intel-cmplr-lib-rt in /usr/local/lib/python3.10/dist-packages (from mkl_umath->numpy>=1.14.0->category_encoders) (2024.2.0)\r\n",
            "Requirement already satisfied: intel-cmplr-lib-ur==2024.2.0 in /usr/local/lib/python3.10/dist-packages (from intel-openmp>=2024->mkl->numpy>=1.14.0->category_encoders) (2024.2.0)\r\n"
          ]
        }
      ],
      "source": [
        "# NOTE: Uncomment this line if 'category_encoders' is not yet installed in your environment\n",
        "!pip install category_encoders\n",
        "\n",
        "# The line above installs the 'category_encoders' library\n",
        "# It helps convert categorical data into numeric format, making it usable by ML models."
      ]
    },
    {
      "cell_type": "code",
      "execution_count": null,
      "id": "db845157",
      "metadata": {
        "execution": {
          "iopub.execute_input": "2025-05-14T04:13:58.404593Z",
          "iopub.status.busy": "2025-05-14T04:13:58.404141Z",
          "iopub.status.idle": "2025-05-14T04:13:58.767433Z",
          "shell.execute_reply": "2025-05-14T04:13:58.766492Z"
        },
        "papermill": {
          "duration": 0.407267,
          "end_time": "2025-05-14T04:13:58.769298",
          "exception": false,
          "start_time": "2025-05-14T04:13:58.362031",
          "status": "completed"
        },
        "tags": [],
        "id": "db845157"
      },
      "outputs": [],
      "source": [
        "# Encoding the values in RainToday variable into numerical values\n",
        "# No == 0 while Yes == 1\n",
        "\n",
        "import category_encoders as ce\n",
        "encoder = ce.BinaryEncoder(cols=[\"RainToday\"])\n",
        "X_train = encoder.fit_transform(X_train)\n",
        "X_test = encoder.transform(X_test)"
      ]
    },
    {
      "cell_type": "code",
      "execution_count": null,
      "id": "2a8f9b3a",
      "metadata": {
        "execution": {
          "iopub.execute_input": "2025-05-14T04:13:58.854818Z",
          "iopub.status.busy": "2025-05-14T04:13:58.854466Z",
          "iopub.status.idle": "2025-05-14T04:13:58.878690Z",
          "shell.execute_reply": "2025-05-14T04:13:58.877576Z"
        },
        "papermill": {
          "duration": 0.069568,
          "end_time": "2025-05-14T04:13:58.880265",
          "exception": false,
          "start_time": "2025-05-14T04:13:58.810697",
          "status": "completed"
        },
        "tags": [],
        "id": "2a8f9b3a",
        "outputId": "611bec80-cfc2-4485-9bb9-769b55064bce"
      },
      "outputs": [
        {
          "data": {
            "text/html": [
              "<div>\n",
              "<style scoped>\n",
              "    .dataframe tbody tr th:only-of-type {\n",
              "        vertical-align: middle;\n",
              "    }\n",
              "\n",
              "    .dataframe tbody tr th {\n",
              "        vertical-align: top;\n",
              "    }\n",
              "\n",
              "    .dataframe thead th {\n",
              "        text-align: right;\n",
              "    }\n",
              "</style>\n",
              "<table border=\"1\" class=\"dataframe\">\n",
              "  <thead>\n",
              "    <tr style=\"text-align: right;\">\n",
              "      <th></th>\n",
              "      <th>Location</th>\n",
              "      <th>MinTemp</th>\n",
              "      <th>MaxTemp</th>\n",
              "      <th>Rainfall</th>\n",
              "      <th>Evaporation</th>\n",
              "      <th>Sunshine</th>\n",
              "      <th>WindGustDir</th>\n",
              "      <th>WindGustSpeed</th>\n",
              "      <th>WindDir9am</th>\n",
              "      <th>WindDir3pm</th>\n",
              "      <th>...</th>\n",
              "      <th>Pressure3pm</th>\n",
              "      <th>Cloud9am</th>\n",
              "      <th>Cloud3pm</th>\n",
              "      <th>Temp9am</th>\n",
              "      <th>Temp3pm</th>\n",
              "      <th>RainToday_0</th>\n",
              "      <th>RainToday_1</th>\n",
              "      <th>Year</th>\n",
              "      <th>Month</th>\n",
              "      <th>Day</th>\n",
              "    </tr>\n",
              "  </thead>\n",
              "  <tbody>\n",
              "    <tr>\n",
              "      <th>22926</th>\n",
              "      <td>NorfolkIsland</td>\n",
              "      <td>18.8</td>\n",
              "      <td>23.7</td>\n",
              "      <td>0.2</td>\n",
              "      <td>5.0</td>\n",
              "      <td>7.3</td>\n",
              "      <td>ESE</td>\n",
              "      <td>52.0</td>\n",
              "      <td>ESE</td>\n",
              "      <td>ESE</td>\n",
              "      <td>...</td>\n",
              "      <td>1013.9</td>\n",
              "      <td>5.0</td>\n",
              "      <td>7.0</td>\n",
              "      <td>21.4</td>\n",
              "      <td>22.2</td>\n",
              "      <td>0</td>\n",
              "      <td>1</td>\n",
              "      <td>2014</td>\n",
              "      <td>3</td>\n",
              "      <td>12</td>\n",
              "    </tr>\n",
              "    <tr>\n",
              "      <th>80735</th>\n",
              "      <td>Watsonia</td>\n",
              "      <td>9.3</td>\n",
              "      <td>24.0</td>\n",
              "      <td>0.2</td>\n",
              "      <td>1.6</td>\n",
              "      <td>10.9</td>\n",
              "      <td>NE</td>\n",
              "      <td>48.0</td>\n",
              "      <td>NNW</td>\n",
              "      <td>NNE</td>\n",
              "      <td>...</td>\n",
              "      <td>1014.6</td>\n",
              "      <td>3.0</td>\n",
              "      <td>5.0</td>\n",
              "      <td>14.3</td>\n",
              "      <td>23.2</td>\n",
              "      <td>0</td>\n",
              "      <td>1</td>\n",
              "      <td>2016</td>\n",
              "      <td>10</td>\n",
              "      <td>6</td>\n",
              "    </tr>\n",
              "    <tr>\n",
              "      <th>121764</th>\n",
              "      <td>Perth</td>\n",
              "      <td>10.9</td>\n",
              "      <td>22.2</td>\n",
              "      <td>1.4</td>\n",
              "      <td>1.2</td>\n",
              "      <td>9.6</td>\n",
              "      <td>SW</td>\n",
              "      <td>26.0</td>\n",
              "      <td>N</td>\n",
              "      <td>SW</td>\n",
              "      <td>...</td>\n",
              "      <td>1014.9</td>\n",
              "      <td>1.0</td>\n",
              "      <td>2.0</td>\n",
              "      <td>16.6</td>\n",
              "      <td>21.5</td>\n",
              "      <td>1</td>\n",
              "      <td>0</td>\n",
              "      <td>2011</td>\n",
              "      <td>8</td>\n",
              "      <td>31</td>\n",
              "    </tr>\n",
              "    <tr>\n",
              "      <th>139821</th>\n",
              "      <td>Darwin</td>\n",
              "      <td>19.3</td>\n",
              "      <td>29.9</td>\n",
              "      <td>0.0</td>\n",
              "      <td>9.2</td>\n",
              "      <td>11.0</td>\n",
              "      <td>ESE</td>\n",
              "      <td>43.0</td>\n",
              "      <td>ESE</td>\n",
              "      <td>E</td>\n",
              "      <td>...</td>\n",
              "      <td>1012.1</td>\n",
              "      <td>1.0</td>\n",
              "      <td>1.0</td>\n",
              "      <td>23.2</td>\n",
              "      <td>29.1</td>\n",
              "      <td>0</td>\n",
              "      <td>1</td>\n",
              "      <td>2010</td>\n",
              "      <td>6</td>\n",
              "      <td>11</td>\n",
              "    </tr>\n",
              "    <tr>\n",
              "      <th>1867</th>\n",
              "      <td>Albury</td>\n",
              "      <td>15.7</td>\n",
              "      <td>17.6</td>\n",
              "      <td>3.2</td>\n",
              "      <td>4.7</td>\n",
              "      <td>8.4</td>\n",
              "      <td>E</td>\n",
              "      <td>20.0</td>\n",
              "      <td>ESE</td>\n",
              "      <td>E</td>\n",
              "      <td>...</td>\n",
              "      <td>1010.5</td>\n",
              "      <td>8.0</td>\n",
              "      <td>8.0</td>\n",
              "      <td>16.5</td>\n",
              "      <td>17.3</td>\n",
              "      <td>1</td>\n",
              "      <td>0</td>\n",
              "      <td>2014</td>\n",
              "      <td>4</td>\n",
              "      <td>10</td>\n",
              "    </tr>\n",
              "  </tbody>\n",
              "</table>\n",
              "<p>5 rows × 25 columns</p>\n",
              "</div>"
            ],
            "text/plain": [
              "             Location  MinTemp  MaxTemp  Rainfall  Evaporation  Sunshine  \\\n",
              "22926   NorfolkIsland     18.8     23.7       0.2          5.0       7.3   \n",
              "80735        Watsonia      9.3     24.0       0.2          1.6      10.9   \n",
              "121764          Perth     10.9     22.2       1.4          1.2       9.6   \n",
              "139821         Darwin     19.3     29.9       0.0          9.2      11.0   \n",
              "1867           Albury     15.7     17.6       3.2          4.7       8.4   \n",
              "\n",
              "       WindGustDir  WindGustSpeed WindDir9am WindDir3pm  ...  Pressure3pm  \\\n",
              "22926          ESE           52.0        ESE        ESE  ...       1013.9   \n",
              "80735           NE           48.0        NNW        NNE  ...       1014.6   \n",
              "121764          SW           26.0          N         SW  ...       1014.9   \n",
              "139821         ESE           43.0        ESE          E  ...       1012.1   \n",
              "1867             E           20.0        ESE          E  ...       1010.5   \n",
              "\n",
              "        Cloud9am  Cloud3pm  Temp9am  Temp3pm  RainToday_0  RainToday_1  Year  \\\n",
              "22926        5.0       7.0     21.4     22.2            0            1  2014   \n",
              "80735        3.0       5.0     14.3     23.2            0            1  2016   \n",
              "121764       1.0       2.0     16.6     21.5            1            0  2011   \n",
              "139821       1.0       1.0     23.2     29.1            0            1  2010   \n",
              "1867         8.0       8.0     16.5     17.3            1            0  2014   \n",
              "\n",
              "        Month  Day  \n",
              "22926       3   12  \n",
              "80735      10    6  \n",
              "121764      8   31  \n",
              "139821      6   11  \n",
              "1867        4   10  \n",
              "\n",
              "[5 rows x 25 columns]"
            ]
          },
          "execution_count": 84,
          "metadata": {},
          "output_type": "execute_result"
        }
      ],
      "source": [
        "X_train.head()"
      ]
    },
    {
      "cell_type": "markdown",
      "id": "148eb21e",
      "metadata": {
        "papermill": {
          "duration": 0.040286,
          "end_time": "2025-05-14T04:13:58.961657",
          "exception": false,
          "start_time": "2025-05-14T04:13:58.921371",
          "status": "completed"
        },
        "tags": [],
        "id": "148eb21e"
      },
      "source": [
        "I can see that there are two additional variables which are RainToday_0 dan RainToday_1 because of the previous Binary Encoding process.\n",
        "\n",
        "There are another simpler methods to do encoding which are,\n",
        "1. Using map() --> simplest way\n",
        "   \n",
        "* X_train[\"RainToday\"] = X_train[\"RainToday\"].map({\"No\": 0, \"Yes\": 1})\n",
        "\n",
        "* X_test[\"RainToday\"] = X_test[\"RainToday\"].map({\"No\": 0, \"Yes\": 1})\n",
        "\n",
        "2. Using LabelEncoder from sklearn\n",
        "encoder = LabelEncoder()\n",
        "\n",
        "* X_train[\"RainToday\"] = encoder.fit_transform(X_train[\"RainToday\"])\n",
        "\n",
        "* X_test[\"RainToday\"] = encoder.transform(X_test[\"RainToday\"])\n",
        "\n",
        "By using those two mentioned menthods, the RainToday variable (column) won't be transformed into 2 separate variables."
      ]
    },
    {
      "cell_type": "markdown",
      "id": "e5661a0d",
      "metadata": {
        "papermill": {
          "duration": 0.04084,
          "end_time": "2025-05-14T04:13:59.043596",
          "exception": false,
          "start_time": "2025-05-14T04:13:59.002756",
          "status": "completed"
        },
        "tags": [],
        "id": "e5661a0d"
      },
      "source": [
        "Fof the next step, I'm going to create X_train training set that includes,\n",
        "1. Numerical variables,\n",
        "2. Categorical variables,\n",
        "3. Target variable (RainToday)."
      ]
    },
    {
      "cell_type": "code",
      "execution_count": null,
      "id": "6e0ca1b1",
      "metadata": {
        "execution": {
          "iopub.execute_input": "2025-05-14T04:13:59.126781Z",
          "iopub.status.busy": "2025-05-14T04:13:59.126432Z",
          "iopub.status.idle": "2025-05-14T04:13:59.184487Z",
          "shell.execute_reply": "2025-05-14T04:13:59.183493Z"
        },
        "papermill": {
          "duration": 0.101836,
          "end_time": "2025-05-14T04:13:59.186245",
          "exception": false,
          "start_time": "2025-05-14T04:13:59.084409",
          "status": "completed"
        },
        "tags": [],
        "id": "6e0ca1b1"
      },
      "outputs": [],
      "source": [
        "X_train = pd.concat([X_train[numerical], X_train[[\"RainToday_0\", \"RainToday_1\"]],\n",
        "                     pd.get_dummies(X_train.Location),\n",
        "                     pd.get_dummies(X_train.WindGustDir),\n",
        "                     pd.get_dummies(X_train.WindDir9am),\n",
        "                     pd.get_dummies(X_train.WindDir3pm)], axis=1)"
      ]
    },
    {
      "cell_type": "code",
      "execution_count": null,
      "id": "9827a902",
      "metadata": {
        "execution": {
          "iopub.execute_input": "2025-05-14T04:13:59.271364Z",
          "iopub.status.busy": "2025-05-14T04:13:59.270958Z",
          "iopub.status.idle": "2025-05-14T04:13:59.295577Z",
          "shell.execute_reply": "2025-05-14T04:13:59.294600Z"
        },
        "papermill": {
          "duration": 0.068828,
          "end_time": "2025-05-14T04:13:59.297279",
          "exception": false,
          "start_time": "2025-05-14T04:13:59.228451",
          "status": "completed"
        },
        "tags": [],
        "id": "9827a902",
        "outputId": "28a9d1f7-5a0c-48af-f0b0-774ccc9eebb5"
      },
      "outputs": [
        {
          "data": {
            "text/html": [
              "<div>\n",
              "<style scoped>\n",
              "    .dataframe tbody tr th:only-of-type {\n",
              "        vertical-align: middle;\n",
              "    }\n",
              "\n",
              "    .dataframe tbody tr th {\n",
              "        vertical-align: top;\n",
              "    }\n",
              "\n",
              "    .dataframe thead th {\n",
              "        text-align: right;\n",
              "    }\n",
              "</style>\n",
              "<table border=\"1\" class=\"dataframe\">\n",
              "  <thead>\n",
              "    <tr style=\"text-align: right;\">\n",
              "      <th></th>\n",
              "      <th>MinTemp</th>\n",
              "      <th>MaxTemp</th>\n",
              "      <th>Rainfall</th>\n",
              "      <th>Evaporation</th>\n",
              "      <th>Sunshine</th>\n",
              "      <th>WindGustSpeed</th>\n",
              "      <th>WindSpeed9am</th>\n",
              "      <th>WindSpeed3pm</th>\n",
              "      <th>Humidity9am</th>\n",
              "      <th>Humidity3pm</th>\n",
              "      <th>...</th>\n",
              "      <th>NNW</th>\n",
              "      <th>NW</th>\n",
              "      <th>S</th>\n",
              "      <th>SE</th>\n",
              "      <th>SSE</th>\n",
              "      <th>SSW</th>\n",
              "      <th>SW</th>\n",
              "      <th>W</th>\n",
              "      <th>WNW</th>\n",
              "      <th>WSW</th>\n",
              "    </tr>\n",
              "  </thead>\n",
              "  <tbody>\n",
              "    <tr>\n",
              "      <th>22926</th>\n",
              "      <td>18.8</td>\n",
              "      <td>23.7</td>\n",
              "      <td>0.2</td>\n",
              "      <td>5.0</td>\n",
              "      <td>7.3</td>\n",
              "      <td>52.0</td>\n",
              "      <td>31.0</td>\n",
              "      <td>28.0</td>\n",
              "      <td>74.0</td>\n",
              "      <td>73.0</td>\n",
              "      <td>...</td>\n",
              "      <td>False</td>\n",
              "      <td>False</td>\n",
              "      <td>False</td>\n",
              "      <td>False</td>\n",
              "      <td>False</td>\n",
              "      <td>False</td>\n",
              "      <td>False</td>\n",
              "      <td>False</td>\n",
              "      <td>False</td>\n",
              "      <td>False</td>\n",
              "    </tr>\n",
              "    <tr>\n",
              "      <th>80735</th>\n",
              "      <td>9.3</td>\n",
              "      <td>24.0</td>\n",
              "      <td>0.2</td>\n",
              "      <td>1.6</td>\n",
              "      <td>10.9</td>\n",
              "      <td>48.0</td>\n",
              "      <td>13.0</td>\n",
              "      <td>24.0</td>\n",
              "      <td>74.0</td>\n",
              "      <td>55.0</td>\n",
              "      <td>...</td>\n",
              "      <td>False</td>\n",
              "      <td>False</td>\n",
              "      <td>False</td>\n",
              "      <td>False</td>\n",
              "      <td>False</td>\n",
              "      <td>False</td>\n",
              "      <td>False</td>\n",
              "      <td>False</td>\n",
              "      <td>False</td>\n",
              "      <td>False</td>\n",
              "    </tr>\n",
              "    <tr>\n",
              "      <th>121764</th>\n",
              "      <td>10.9</td>\n",
              "      <td>22.2</td>\n",
              "      <td>1.4</td>\n",
              "      <td>1.2</td>\n",
              "      <td>9.6</td>\n",
              "      <td>26.0</td>\n",
              "      <td>0.0</td>\n",
              "      <td>11.0</td>\n",
              "      <td>85.0</td>\n",
              "      <td>47.0</td>\n",
              "      <td>...</td>\n",
              "      <td>False</td>\n",
              "      <td>False</td>\n",
              "      <td>False</td>\n",
              "      <td>False</td>\n",
              "      <td>False</td>\n",
              "      <td>False</td>\n",
              "      <td>True</td>\n",
              "      <td>False</td>\n",
              "      <td>False</td>\n",
              "      <td>False</td>\n",
              "    </tr>\n",
              "    <tr>\n",
              "      <th>139821</th>\n",
              "      <td>19.3</td>\n",
              "      <td>29.9</td>\n",
              "      <td>0.0</td>\n",
              "      <td>9.2</td>\n",
              "      <td>11.0</td>\n",
              "      <td>43.0</td>\n",
              "      <td>26.0</td>\n",
              "      <td>17.0</td>\n",
              "      <td>44.0</td>\n",
              "      <td>37.0</td>\n",
              "      <td>...</td>\n",
              "      <td>False</td>\n",
              "      <td>False</td>\n",
              "      <td>False</td>\n",
              "      <td>False</td>\n",
              "      <td>False</td>\n",
              "      <td>False</td>\n",
              "      <td>False</td>\n",
              "      <td>False</td>\n",
              "      <td>False</td>\n",
              "      <td>False</td>\n",
              "    </tr>\n",
              "    <tr>\n",
              "      <th>1867</th>\n",
              "      <td>15.7</td>\n",
              "      <td>17.6</td>\n",
              "      <td>3.2</td>\n",
              "      <td>4.7</td>\n",
              "      <td>8.4</td>\n",
              "      <td>20.0</td>\n",
              "      <td>11.0</td>\n",
              "      <td>13.0</td>\n",
              "      <td>100.0</td>\n",
              "      <td>100.0</td>\n",
              "      <td>...</td>\n",
              "      <td>False</td>\n",
              "      <td>False</td>\n",
              "      <td>False</td>\n",
              "      <td>False</td>\n",
              "      <td>False</td>\n",
              "      <td>False</td>\n",
              "      <td>False</td>\n",
              "      <td>False</td>\n",
              "      <td>False</td>\n",
              "      <td>False</td>\n",
              "    </tr>\n",
              "  </tbody>\n",
              "</table>\n",
              "<p>5 rows × 118 columns</p>\n",
              "</div>"
            ],
            "text/plain": [
              "        MinTemp  MaxTemp  Rainfall  Evaporation  Sunshine  WindGustSpeed  \\\n",
              "22926      18.8     23.7       0.2          5.0       7.3           52.0   \n",
              "80735       9.3     24.0       0.2          1.6      10.9           48.0   \n",
              "121764     10.9     22.2       1.4          1.2       9.6           26.0   \n",
              "139821     19.3     29.9       0.0          9.2      11.0           43.0   \n",
              "1867       15.7     17.6       3.2          4.7       8.4           20.0   \n",
              "\n",
              "        WindSpeed9am  WindSpeed3pm  Humidity9am  Humidity3pm  ...    NNW  \\\n",
              "22926           31.0          28.0         74.0         73.0  ...  False   \n",
              "80735           13.0          24.0         74.0         55.0  ...  False   \n",
              "121764           0.0          11.0         85.0         47.0  ...  False   \n",
              "139821          26.0          17.0         44.0         37.0  ...  False   \n",
              "1867            11.0          13.0        100.0        100.0  ...  False   \n",
              "\n",
              "           NW      S     SE    SSE    SSW     SW      W    WNW    WSW  \n",
              "22926   False  False  False  False  False  False  False  False  False  \n",
              "80735   False  False  False  False  False  False  False  False  False  \n",
              "121764  False  False  False  False  False   True  False  False  False  \n",
              "139821  False  False  False  False  False  False  False  False  False  \n",
              "1867    False  False  False  False  False  False  False  False  False  \n",
              "\n",
              "[5 rows x 118 columns]"
            ]
          },
          "execution_count": 86,
          "metadata": {},
          "output_type": "execute_result"
        }
      ],
      "source": [
        "X_train.head()"
      ]
    },
    {
      "cell_type": "markdown",
      "id": "2d9eb68a",
      "metadata": {
        "papermill": {
          "duration": 0.042249,
          "end_time": "2025-05-14T04:13:59.383507",
          "exception": false,
          "start_time": "2025-05-14T04:13:59.341258",
          "status": "completed"
        },
        "tags": [],
        "id": "2d9eb68a"
      },
      "source": [
        "Similarly, I'm going to create X_test testing set with the same variables."
      ]
    },
    {
      "cell_type": "code",
      "execution_count": null,
      "id": "c6982c62",
      "metadata": {
        "execution": {
          "iopub.execute_input": "2025-05-14T04:13:59.469350Z",
          "iopub.status.busy": "2025-05-14T04:13:59.468932Z",
          "iopub.status.idle": "2025-05-14T04:13:59.490305Z",
          "shell.execute_reply": "2025-05-14T04:13:59.489267Z"
        },
        "papermill": {
          "duration": 0.065876,
          "end_time": "2025-05-14T04:13:59.492216",
          "exception": false,
          "start_time": "2025-05-14T04:13:59.426340",
          "status": "completed"
        },
        "tags": [],
        "id": "c6982c62"
      },
      "outputs": [],
      "source": [
        "X_test = pd.concat([X_test[numerical], X_test[[\"RainToday_0\", \"RainToday_1\"]],\n",
        "                     pd.get_dummies(X_test.Location),\n",
        "                     pd.get_dummies(X_test.WindGustDir),\n",
        "                     pd.get_dummies(X_test.WindDir9am),\n",
        "                     pd.get_dummies(X_test.WindDir3pm)], axis=1)"
      ]
    },
    {
      "cell_type": "code",
      "execution_count": null,
      "id": "9ee4209a",
      "metadata": {
        "execution": {
          "iopub.execute_input": "2025-05-14T04:13:59.634076Z",
          "iopub.status.busy": "2025-05-14T04:13:59.633722Z",
          "iopub.status.idle": "2025-05-14T04:13:59.658122Z",
          "shell.execute_reply": "2025-05-14T04:13:59.657091Z"
        },
        "papermill": {
          "duration": 0.069139,
          "end_time": "2025-05-14T04:13:59.659760",
          "exception": false,
          "start_time": "2025-05-14T04:13:59.590621",
          "status": "completed"
        },
        "tags": [],
        "id": "9ee4209a",
        "outputId": "332cc8bc-82a2-4283-c0e2-1e71ee2a725b"
      },
      "outputs": [
        {
          "data": {
            "text/html": [
              "<div>\n",
              "<style scoped>\n",
              "    .dataframe tbody tr th:only-of-type {\n",
              "        vertical-align: middle;\n",
              "    }\n",
              "\n",
              "    .dataframe tbody tr th {\n",
              "        vertical-align: top;\n",
              "    }\n",
              "\n",
              "    .dataframe thead th {\n",
              "        text-align: right;\n",
              "    }\n",
              "</style>\n",
              "<table border=\"1\" class=\"dataframe\">\n",
              "  <thead>\n",
              "    <tr style=\"text-align: right;\">\n",
              "      <th></th>\n",
              "      <th>MinTemp</th>\n",
              "      <th>MaxTemp</th>\n",
              "      <th>Rainfall</th>\n",
              "      <th>Evaporation</th>\n",
              "      <th>Sunshine</th>\n",
              "      <th>WindGustSpeed</th>\n",
              "      <th>WindSpeed9am</th>\n",
              "      <th>WindSpeed3pm</th>\n",
              "      <th>Humidity9am</th>\n",
              "      <th>Humidity3pm</th>\n",
              "      <th>...</th>\n",
              "      <th>NNW</th>\n",
              "      <th>NW</th>\n",
              "      <th>S</th>\n",
              "      <th>SE</th>\n",
              "      <th>SSE</th>\n",
              "      <th>SSW</th>\n",
              "      <th>SW</th>\n",
              "      <th>W</th>\n",
              "      <th>WNW</th>\n",
              "      <th>WSW</th>\n",
              "    </tr>\n",
              "  </thead>\n",
              "  <tbody>\n",
              "    <tr>\n",
              "      <th>138175</th>\n",
              "      <td>21.9</td>\n",
              "      <td>39.4</td>\n",
              "      <td>1.6</td>\n",
              "      <td>11.2</td>\n",
              "      <td>11.5</td>\n",
              "      <td>57.0</td>\n",
              "      <td>20.0</td>\n",
              "      <td>33.0</td>\n",
              "      <td>50.0</td>\n",
              "      <td>26.0</td>\n",
              "      <td>...</td>\n",
              "      <td>False</td>\n",
              "      <td>False</td>\n",
              "      <td>False</td>\n",
              "      <td>False</td>\n",
              "      <td>False</td>\n",
              "      <td>False</td>\n",
              "      <td>False</td>\n",
              "      <td>False</td>\n",
              "      <td>False</td>\n",
              "      <td>False</td>\n",
              "    </tr>\n",
              "    <tr>\n",
              "      <th>38638</th>\n",
              "      <td>20.5</td>\n",
              "      <td>37.5</td>\n",
              "      <td>0.0</td>\n",
              "      <td>9.2</td>\n",
              "      <td>8.4</td>\n",
              "      <td>59.0</td>\n",
              "      <td>17.0</td>\n",
              "      <td>20.0</td>\n",
              "      <td>47.0</td>\n",
              "      <td>22.0</td>\n",
              "      <td>...</td>\n",
              "      <td>False</td>\n",
              "      <td>False</td>\n",
              "      <td>False</td>\n",
              "      <td>False</td>\n",
              "      <td>False</td>\n",
              "      <td>False</td>\n",
              "      <td>False</td>\n",
              "      <td>False</td>\n",
              "      <td>False</td>\n",
              "      <td>False</td>\n",
              "    </tr>\n",
              "    <tr>\n",
              "      <th>124058</th>\n",
              "      <td>5.1</td>\n",
              "      <td>17.2</td>\n",
              "      <td>0.2</td>\n",
              "      <td>4.7</td>\n",
              "      <td>8.4</td>\n",
              "      <td>50.0</td>\n",
              "      <td>28.0</td>\n",
              "      <td>22.0</td>\n",
              "      <td>68.0</td>\n",
              "      <td>51.0</td>\n",
              "      <td>...</td>\n",
              "      <td>False</td>\n",
              "      <td>False</td>\n",
              "      <td>False</td>\n",
              "      <td>False</td>\n",
              "      <td>False</td>\n",
              "      <td>False</td>\n",
              "      <td>False</td>\n",
              "      <td>True</td>\n",
              "      <td>False</td>\n",
              "      <td>False</td>\n",
              "    </tr>\n",
              "    <tr>\n",
              "      <th>99214</th>\n",
              "      <td>11.9</td>\n",
              "      <td>16.8</td>\n",
              "      <td>1.0</td>\n",
              "      <td>4.7</td>\n",
              "      <td>8.4</td>\n",
              "      <td>28.0</td>\n",
              "      <td>11.0</td>\n",
              "      <td>13.0</td>\n",
              "      <td>80.0</td>\n",
              "      <td>79.0</td>\n",
              "      <td>...</td>\n",
              "      <td>False</td>\n",
              "      <td>False</td>\n",
              "      <td>False</td>\n",
              "      <td>False</td>\n",
              "      <td>False</td>\n",
              "      <td>False</td>\n",
              "      <td>True</td>\n",
              "      <td>False</td>\n",
              "      <td>False</td>\n",
              "      <td>False</td>\n",
              "    </tr>\n",
              "    <tr>\n",
              "      <th>25097</th>\n",
              "      <td>7.5</td>\n",
              "      <td>21.3</td>\n",
              "      <td>0.0</td>\n",
              "      <td>4.7</td>\n",
              "      <td>8.4</td>\n",
              "      <td>15.0</td>\n",
              "      <td>2.0</td>\n",
              "      <td>7.0</td>\n",
              "      <td>88.0</td>\n",
              "      <td>52.0</td>\n",
              "      <td>...</td>\n",
              "      <td>False</td>\n",
              "      <td>False</td>\n",
              "      <td>False</td>\n",
              "      <td>False</td>\n",
              "      <td>False</td>\n",
              "      <td>False</td>\n",
              "      <td>False</td>\n",
              "      <td>False</td>\n",
              "      <td>False</td>\n",
              "      <td>False</td>\n",
              "    </tr>\n",
              "  </tbody>\n",
              "</table>\n",
              "<p>5 rows × 118 columns</p>\n",
              "</div>"
            ],
            "text/plain": [
              "        MinTemp  MaxTemp  Rainfall  Evaporation  Sunshine  WindGustSpeed  \\\n",
              "138175     21.9     39.4       1.6         11.2      11.5           57.0   \n",
              "38638      20.5     37.5       0.0          9.2       8.4           59.0   \n",
              "124058      5.1     17.2       0.2          4.7       8.4           50.0   \n",
              "99214      11.9     16.8       1.0          4.7       8.4           28.0   \n",
              "25097       7.5     21.3       0.0          4.7       8.4           15.0   \n",
              "\n",
              "        WindSpeed9am  WindSpeed3pm  Humidity9am  Humidity3pm  ...    NNW  \\\n",
              "138175          20.0          33.0         50.0         26.0  ...  False   \n",
              "38638           17.0          20.0         47.0         22.0  ...  False   \n",
              "124058          28.0          22.0         68.0         51.0  ...  False   \n",
              "99214           11.0          13.0         80.0         79.0  ...  False   \n",
              "25097            2.0           7.0         88.0         52.0  ...  False   \n",
              "\n",
              "           NW      S     SE    SSE    SSW     SW      W    WNW    WSW  \n",
              "138175  False  False  False  False  False  False  False  False  False  \n",
              "38638   False  False  False  False  False  False  False  False  False  \n",
              "124058  False  False  False  False  False  False   True  False  False  \n",
              "99214   False  False  False  False  False   True  False  False  False  \n",
              "25097   False  False  False  False  False  False  False  False  False  \n",
              "\n",
              "[5 rows x 118 columns]"
            ]
          },
          "execution_count": 88,
          "metadata": {},
          "output_type": "execute_result"
        }
      ],
      "source": [
        "X_test.head()"
      ]
    },
    {
      "cell_type": "markdown",
      "id": "056052a4",
      "metadata": {
        "papermill": {
          "duration": 0.041648,
          "end_time": "2025-05-14T04:13:59.743390",
          "exception": false,
          "start_time": "2025-05-14T04:13:59.701742",
          "status": "completed"
        },
        "tags": [],
        "id": "056052a4"
      },
      "source": [
        "Right now I already have both training and testing sets ready for model building.\n",
        "\n",
        "Before we build the model, I will map all the feature variables onto the same scale, it is called Feature Scaling."
      ]
    },
    {
      "cell_type": "code",
      "execution_count": null,
      "id": "1b083580",
      "metadata": {
        "execution": {
          "iopub.execute_input": "2025-05-14T04:13:59.827944Z",
          "iopub.status.busy": "2025-05-14T04:13:59.827578Z",
          "iopub.status.idle": "2025-05-14T04:13:59.983022Z",
          "shell.execute_reply": "2025-05-14T04:13:59.981703Z"
        },
        "papermill": {
          "duration": 0.200112,
          "end_time": "2025-05-14T04:13:59.984850",
          "exception": false,
          "start_time": "2025-05-14T04:13:59.784738",
          "status": "completed"
        },
        "tags": [],
        "id": "1b083580",
        "outputId": "ff7e1583-b93f-49b3-b121-e91573e92d9a"
      },
      "outputs": [
        {
          "data": {
            "text/html": [
              "<div>\n",
              "<style scoped>\n",
              "    .dataframe tbody tr th:only-of-type {\n",
              "        vertical-align: middle;\n",
              "    }\n",
              "\n",
              "    .dataframe tbody tr th {\n",
              "        vertical-align: top;\n",
              "    }\n",
              "\n",
              "    .dataframe thead th {\n",
              "        text-align: right;\n",
              "    }\n",
              "</style>\n",
              "<table border=\"1\" class=\"dataframe\">\n",
              "  <thead>\n",
              "    <tr style=\"text-align: right;\">\n",
              "      <th></th>\n",
              "      <th>MinTemp</th>\n",
              "      <th>MaxTemp</th>\n",
              "      <th>Rainfall</th>\n",
              "      <th>Evaporation</th>\n",
              "      <th>Sunshine</th>\n",
              "      <th>WindGustSpeed</th>\n",
              "      <th>WindSpeed9am</th>\n",
              "      <th>WindSpeed3pm</th>\n",
              "      <th>Humidity9am</th>\n",
              "      <th>Humidity3pm</th>\n",
              "      <th>...</th>\n",
              "      <th>Pressure3pm</th>\n",
              "      <th>Cloud9am</th>\n",
              "      <th>Cloud3pm</th>\n",
              "      <th>Temp9am</th>\n",
              "      <th>Temp3pm</th>\n",
              "      <th>Year</th>\n",
              "      <th>Month</th>\n",
              "      <th>Day</th>\n",
              "      <th>RainToday_0</th>\n",
              "      <th>RainToday_1</th>\n",
              "    </tr>\n",
              "  </thead>\n",
              "  <tbody>\n",
              "    <tr>\n",
              "      <th>count</th>\n",
              "      <td>116368.000000</td>\n",
              "      <td>116368.000000</td>\n",
              "      <td>116368.000000</td>\n",
              "      <td>116368.000000</td>\n",
              "      <td>116368.000000</td>\n",
              "      <td>116368.000000</td>\n",
              "      <td>116368.000000</td>\n",
              "      <td>116368.000000</td>\n",
              "      <td>116368.000000</td>\n",
              "      <td>116368.000000</td>\n",
              "      <td>...</td>\n",
              "      <td>116368.000000</td>\n",
              "      <td>116368.000000</td>\n",
              "      <td>116368.000000</td>\n",
              "      <td>116368.000000</td>\n",
              "      <td>116368.000000</td>\n",
              "      <td>116368.000000</td>\n",
              "      <td>116368.000000</td>\n",
              "      <td>116368.000000</td>\n",
              "      <td>116368.000000</td>\n",
              "      <td>116368.000000</td>\n",
              "    </tr>\n",
              "    <tr>\n",
              "      <th>mean</th>\n",
              "      <td>12.190189</td>\n",
              "      <td>23.203107</td>\n",
              "      <td>0.670800</td>\n",
              "      <td>5.093362</td>\n",
              "      <td>7.982476</td>\n",
              "      <td>39.982091</td>\n",
              "      <td>14.029381</td>\n",
              "      <td>18.687466</td>\n",
              "      <td>68.950691</td>\n",
              "      <td>51.605828</td>\n",
              "      <td>...</td>\n",
              "      <td>1015.244946</td>\n",
              "      <td>4.664092</td>\n",
              "      <td>4.710728</td>\n",
              "      <td>16.979454</td>\n",
              "      <td>21.657195</td>\n",
              "      <td>2012.767058</td>\n",
              "      <td>6.395091</td>\n",
              "      <td>15.731954</td>\n",
              "      <td>0.219648</td>\n",
              "      <td>0.780352</td>\n",
              "    </tr>\n",
              "    <tr>\n",
              "      <th>std</th>\n",
              "      <td>6.366893</td>\n",
              "      <td>7.085408</td>\n",
              "      <td>1.181512</td>\n",
              "      <td>2.800200</td>\n",
              "      <td>2.761639</td>\n",
              "      <td>13.127953</td>\n",
              "      <td>8.835596</td>\n",
              "      <td>8.700618</td>\n",
              "      <td>18.811437</td>\n",
              "      <td>20.439999</td>\n",
              "      <td>...</td>\n",
              "      <td>6.661517</td>\n",
              "      <td>2.280687</td>\n",
              "      <td>2.106040</td>\n",
              "      <td>6.449641</td>\n",
              "      <td>6.848293</td>\n",
              "      <td>2.538401</td>\n",
              "      <td>3.425451</td>\n",
              "      <td>8.796931</td>\n",
              "      <td>0.414010</td>\n",
              "      <td>0.414010</td>\n",
              "    </tr>\n",
              "    <tr>\n",
              "      <th>min</th>\n",
              "      <td>-8.500000</td>\n",
              "      <td>-4.800000</td>\n",
              "      <td>0.000000</td>\n",
              "      <td>0.000000</td>\n",
              "      <td>0.000000</td>\n",
              "      <td>6.000000</td>\n",
              "      <td>0.000000</td>\n",
              "      <td>0.000000</td>\n",
              "      <td>0.000000</td>\n",
              "      <td>0.000000</td>\n",
              "      <td>...</td>\n",
              "      <td>977.100000</td>\n",
              "      <td>0.000000</td>\n",
              "      <td>0.000000</td>\n",
              "      <td>-7.200000</td>\n",
              "      <td>-5.400000</td>\n",
              "      <td>2007.000000</td>\n",
              "      <td>1.000000</td>\n",
              "      <td>1.000000</td>\n",
              "      <td>0.000000</td>\n",
              "      <td>0.000000</td>\n",
              "    </tr>\n",
              "    <tr>\n",
              "      <th>25%</th>\n",
              "      <td>7.700000</td>\n",
              "      <td>18.000000</td>\n",
              "      <td>0.000000</td>\n",
              "      <td>4.000000</td>\n",
              "      <td>8.200000</td>\n",
              "      <td>31.000000</td>\n",
              "      <td>7.000000</td>\n",
              "      <td>13.000000</td>\n",
              "      <td>57.000000</td>\n",
              "      <td>37.000000</td>\n",
              "      <td>...</td>\n",
              "      <td>1011.100000</td>\n",
              "      <td>3.000000</td>\n",
              "      <td>4.000000</td>\n",
              "      <td>12.300000</td>\n",
              "      <td>16.700000</td>\n",
              "      <td>2011.000000</td>\n",
              "      <td>3.000000</td>\n",
              "      <td>8.000000</td>\n",
              "      <td>0.000000</td>\n",
              "      <td>1.000000</td>\n",
              "    </tr>\n",
              "    <tr>\n",
              "      <th>50%</th>\n",
              "      <td>12.000000</td>\n",
              "      <td>22.600000</td>\n",
              "      <td>0.000000</td>\n",
              "      <td>4.700000</td>\n",
              "      <td>8.400000</td>\n",
              "      <td>39.000000</td>\n",
              "      <td>13.000000</td>\n",
              "      <td>19.000000</td>\n",
              "      <td>70.000000</td>\n",
              "      <td>52.000000</td>\n",
              "      <td>...</td>\n",
              "      <td>1015.200000</td>\n",
              "      <td>5.000000</td>\n",
              "      <td>5.000000</td>\n",
              "      <td>16.700000</td>\n",
              "      <td>21.100000</td>\n",
              "      <td>2013.000000</td>\n",
              "      <td>6.000000</td>\n",
              "      <td>16.000000</td>\n",
              "      <td>0.000000</td>\n",
              "      <td>1.000000</td>\n",
              "    </tr>\n",
              "    <tr>\n",
              "      <th>75%</th>\n",
              "      <td>16.800000</td>\n",
              "      <td>28.200000</td>\n",
              "      <td>0.600000</td>\n",
              "      <td>5.200000</td>\n",
              "      <td>8.600000</td>\n",
              "      <td>46.000000</td>\n",
              "      <td>19.000000</td>\n",
              "      <td>24.000000</td>\n",
              "      <td>83.000000</td>\n",
              "      <td>65.000000</td>\n",
              "      <td>...</td>\n",
              "      <td>1019.400000</td>\n",
              "      <td>6.000000</td>\n",
              "      <td>6.000000</td>\n",
              "      <td>21.500000</td>\n",
              "      <td>26.200000</td>\n",
              "      <td>2015.000000</td>\n",
              "      <td>9.000000</td>\n",
              "      <td>23.000000</td>\n",
              "      <td>0.000000</td>\n",
              "      <td>1.000000</td>\n",
              "    </tr>\n",
              "    <tr>\n",
              "      <th>max</th>\n",
              "      <td>31.900000</td>\n",
              "      <td>48.100000</td>\n",
              "      <td>3.200000</td>\n",
              "      <td>21.800000</td>\n",
              "      <td>14.500000</td>\n",
              "      <td>135.000000</td>\n",
              "      <td>55.000000</td>\n",
              "      <td>57.000000</td>\n",
              "      <td>100.000000</td>\n",
              "      <td>100.000000</td>\n",
              "      <td>...</td>\n",
              "      <td>1039.600000</td>\n",
              "      <td>9.000000</td>\n",
              "      <td>8.000000</td>\n",
              "      <td>40.200000</td>\n",
              "      <td>46.700000</td>\n",
              "      <td>2017.000000</td>\n",
              "      <td>12.000000</td>\n",
              "      <td>31.000000</td>\n",
              "      <td>1.000000</td>\n",
              "      <td>1.000000</td>\n",
              "    </tr>\n",
              "  </tbody>\n",
              "</table>\n",
              "<p>8 rows × 21 columns</p>\n",
              "</div>"
            ],
            "text/plain": [
              "             MinTemp        MaxTemp       Rainfall    Evaporation  \\\n",
              "count  116368.000000  116368.000000  116368.000000  116368.000000   \n",
              "mean       12.190189      23.203107       0.670800       5.093362   \n",
              "std         6.366893       7.085408       1.181512       2.800200   \n",
              "min        -8.500000      -4.800000       0.000000       0.000000   \n",
              "25%         7.700000      18.000000       0.000000       4.000000   \n",
              "50%        12.000000      22.600000       0.000000       4.700000   \n",
              "75%        16.800000      28.200000       0.600000       5.200000   \n",
              "max        31.900000      48.100000       3.200000      21.800000   \n",
              "\n",
              "            Sunshine  WindGustSpeed   WindSpeed9am   WindSpeed3pm  \\\n",
              "count  116368.000000  116368.000000  116368.000000  116368.000000   \n",
              "mean        7.982476      39.982091      14.029381      18.687466   \n",
              "std         2.761639      13.127953       8.835596       8.700618   \n",
              "min         0.000000       6.000000       0.000000       0.000000   \n",
              "25%         8.200000      31.000000       7.000000      13.000000   \n",
              "50%         8.400000      39.000000      13.000000      19.000000   \n",
              "75%         8.600000      46.000000      19.000000      24.000000   \n",
              "max        14.500000     135.000000      55.000000      57.000000   \n",
              "\n",
              "         Humidity9am    Humidity3pm  ...    Pressure3pm       Cloud9am  \\\n",
              "count  116368.000000  116368.000000  ...  116368.000000  116368.000000   \n",
              "mean       68.950691      51.605828  ...    1015.244946       4.664092   \n",
              "std        18.811437      20.439999  ...       6.661517       2.280687   \n",
              "min         0.000000       0.000000  ...     977.100000       0.000000   \n",
              "25%        57.000000      37.000000  ...    1011.100000       3.000000   \n",
              "50%        70.000000      52.000000  ...    1015.200000       5.000000   \n",
              "75%        83.000000      65.000000  ...    1019.400000       6.000000   \n",
              "max       100.000000     100.000000  ...    1039.600000       9.000000   \n",
              "\n",
              "            Cloud3pm        Temp9am        Temp3pm           Year  \\\n",
              "count  116368.000000  116368.000000  116368.000000  116368.000000   \n",
              "mean        4.710728      16.979454      21.657195    2012.767058   \n",
              "std         2.106040       6.449641       6.848293       2.538401   \n",
              "min         0.000000      -7.200000      -5.400000    2007.000000   \n",
              "25%         4.000000      12.300000      16.700000    2011.000000   \n",
              "50%         5.000000      16.700000      21.100000    2013.000000   \n",
              "75%         6.000000      21.500000      26.200000    2015.000000   \n",
              "max         8.000000      40.200000      46.700000    2017.000000   \n",
              "\n",
              "               Month            Day    RainToday_0    RainToday_1  \n",
              "count  116368.000000  116368.000000  116368.000000  116368.000000  \n",
              "mean        6.395091      15.731954       0.219648       0.780352  \n",
              "std         3.425451       8.796931       0.414010       0.414010  \n",
              "min         1.000000       1.000000       0.000000       0.000000  \n",
              "25%         3.000000       8.000000       0.000000       1.000000  \n",
              "50%         6.000000      16.000000       0.000000       1.000000  \n",
              "75%         9.000000      23.000000       0.000000       1.000000  \n",
              "max        12.000000      31.000000       1.000000       1.000000  \n",
              "\n",
              "[8 rows x 21 columns]"
            ]
          },
          "execution_count": 89,
          "metadata": {},
          "output_type": "execute_result"
        }
      ],
      "source": [
        "X_train.describe()"
      ]
    },
    {
      "cell_type": "code",
      "execution_count": null,
      "id": "ca0ca34b",
      "metadata": {
        "execution": {
          "iopub.execute_input": "2025-05-14T04:14:00.074414Z",
          "iopub.status.busy": "2025-05-14T04:14:00.074025Z",
          "iopub.status.idle": "2025-05-14T04:14:00.078402Z",
          "shell.execute_reply": "2025-05-14T04:14:00.077295Z"
        },
        "papermill": {
          "duration": 0.050792,
          "end_time": "2025-05-14T04:14:00.080357",
          "exception": false,
          "start_time": "2025-05-14T04:14:00.029565",
          "status": "completed"
        },
        "tags": [],
        "id": "ca0ca34b"
      },
      "outputs": [],
      "source": [
        "cols = X_train.columns"
      ]
    },
    {
      "cell_type": "code",
      "execution_count": null,
      "id": "9ee77ed3",
      "metadata": {
        "execution": {
          "iopub.execute_input": "2025-05-14T04:14:00.165775Z",
          "iopub.status.busy": "2025-05-14T04:14:00.165431Z",
          "iopub.status.idle": "2025-05-14T04:14:00.888645Z",
          "shell.execute_reply": "2025-05-14T04:14:00.887638Z"
        },
        "papermill": {
          "duration": 0.767908,
          "end_time": "2025-05-14T04:14:00.890600",
          "exception": false,
          "start_time": "2025-05-14T04:14:00.122692",
          "status": "completed"
        },
        "tags": [],
        "id": "9ee77ed3"
      },
      "outputs": [],
      "source": [
        "from sklearn.preprocessing import MinMaxScaler\n",
        "scaler = MinMaxScaler()\n",
        "X_train = scaler.fit_transform(X_train)\n",
        "X_test = scaler.transform(X_test)"
      ]
    },
    {
      "cell_type": "code",
      "execution_count": null,
      "id": "6aa91c53",
      "metadata": {
        "execution": {
          "iopub.execute_input": "2025-05-14T04:14:00.977895Z",
          "iopub.status.busy": "2025-05-14T04:14:00.977542Z",
          "iopub.status.idle": "2025-05-14T04:14:00.982979Z",
          "shell.execute_reply": "2025-05-14T04:14:00.982074Z"
        },
        "papermill": {
          "duration": 0.051293,
          "end_time": "2025-05-14T04:14:00.984900",
          "exception": false,
          "start_time": "2025-05-14T04:14:00.933607",
          "status": "completed"
        },
        "tags": [],
        "id": "6aa91c53"
      },
      "outputs": [],
      "source": [
        "X_train = pd.DataFrame(X_train, columns=[cols])"
      ]
    },
    {
      "cell_type": "code",
      "execution_count": null,
      "id": "85925937",
      "metadata": {
        "execution": {
          "iopub.execute_input": "2025-05-14T04:14:01.070955Z",
          "iopub.status.busy": "2025-05-14T04:14:01.070617Z",
          "iopub.status.idle": "2025-05-14T04:14:01.075566Z",
          "shell.execute_reply": "2025-05-14T04:14:01.074624Z"
        },
        "papermill": {
          "duration": 0.050134,
          "end_time": "2025-05-14T04:14:01.077088",
          "exception": false,
          "start_time": "2025-05-14T04:14:01.026954",
          "status": "completed"
        },
        "tags": [],
        "id": "85925937"
      },
      "outputs": [],
      "source": [
        "X_test = pd.DataFrame(X_test, columns=[cols])"
      ]
    },
    {
      "cell_type": "code",
      "execution_count": null,
      "id": "cae76e6c",
      "metadata": {
        "execution": {
          "iopub.execute_input": "2025-05-14T04:14:01.162406Z",
          "iopub.status.busy": "2025-05-14T04:14:01.161900Z",
          "iopub.status.idle": "2025-05-14T04:14:01.190106Z",
          "shell.execute_reply": "2025-05-14T04:14:01.188871Z"
        },
        "papermill": {
          "duration": 0.073021,
          "end_time": "2025-05-14T04:14:01.192289",
          "exception": false,
          "start_time": "2025-05-14T04:14:01.119268",
          "status": "completed"
        },
        "tags": [],
        "id": "cae76e6c",
        "outputId": "88412ec3-d18d-495c-9a09-7649b5be0463"
      },
      "outputs": [
        {
          "data": {
            "text/html": [
              "<div>\n",
              "<style scoped>\n",
              "    .dataframe tbody tr th:only-of-type {\n",
              "        vertical-align: middle;\n",
              "    }\n",
              "\n",
              "    .dataframe tbody tr th {\n",
              "        vertical-align: top;\n",
              "    }\n",
              "\n",
              "    .dataframe thead tr th {\n",
              "        text-align: left;\n",
              "    }\n",
              "</style>\n",
              "<table border=\"1\" class=\"dataframe\">\n",
              "  <thead>\n",
              "    <tr>\n",
              "      <th></th>\n",
              "      <th>MinTemp</th>\n",
              "      <th>MaxTemp</th>\n",
              "      <th>Rainfall</th>\n",
              "      <th>Evaporation</th>\n",
              "      <th>Sunshine</th>\n",
              "      <th>WindGustSpeed</th>\n",
              "      <th>WindSpeed9am</th>\n",
              "      <th>WindSpeed3pm</th>\n",
              "      <th>Humidity9am</th>\n",
              "      <th>Humidity3pm</th>\n",
              "      <th>...</th>\n",
              "      <th>NNW</th>\n",
              "      <th>NW</th>\n",
              "      <th>S</th>\n",
              "      <th>SE</th>\n",
              "      <th>SSE</th>\n",
              "      <th>SSW</th>\n",
              "      <th>SW</th>\n",
              "      <th>W</th>\n",
              "      <th>WNW</th>\n",
              "      <th>WSW</th>\n",
              "    </tr>\n",
              "  </thead>\n",
              "  <tbody>\n",
              "    <tr>\n",
              "      <th>0</th>\n",
              "      <td>0.752475</td>\n",
              "      <td>0.835539</td>\n",
              "      <td>0.5000</td>\n",
              "      <td>0.513761</td>\n",
              "      <td>0.793103</td>\n",
              "      <td>0.395349</td>\n",
              "      <td>0.363636</td>\n",
              "      <td>0.578947</td>\n",
              "      <td>0.50</td>\n",
              "      <td>0.26</td>\n",
              "      <td>...</td>\n",
              "      <td>0.0</td>\n",
              "      <td>0.0</td>\n",
              "      <td>0.0</td>\n",
              "      <td>0.0</td>\n",
              "      <td>0.0</td>\n",
              "      <td>0.0</td>\n",
              "      <td>0.0</td>\n",
              "      <td>0.0</td>\n",
              "      <td>0.0</td>\n",
              "      <td>0.0</td>\n",
              "    </tr>\n",
              "    <tr>\n",
              "      <th>1</th>\n",
              "      <td>0.717822</td>\n",
              "      <td>0.799622</td>\n",
              "      <td>0.0000</td>\n",
              "      <td>0.422018</td>\n",
              "      <td>0.579310</td>\n",
              "      <td>0.410853</td>\n",
              "      <td>0.309091</td>\n",
              "      <td>0.350877</td>\n",
              "      <td>0.47</td>\n",
              "      <td>0.22</td>\n",
              "      <td>...</td>\n",
              "      <td>0.0</td>\n",
              "      <td>0.0</td>\n",
              "      <td>0.0</td>\n",
              "      <td>0.0</td>\n",
              "      <td>0.0</td>\n",
              "      <td>0.0</td>\n",
              "      <td>0.0</td>\n",
              "      <td>0.0</td>\n",
              "      <td>0.0</td>\n",
              "      <td>0.0</td>\n",
              "    </tr>\n",
              "    <tr>\n",
              "      <th>2</th>\n",
              "      <td>0.336634</td>\n",
              "      <td>0.415879</td>\n",
              "      <td>0.0625</td>\n",
              "      <td>0.215596</td>\n",
              "      <td>0.579310</td>\n",
              "      <td>0.341085</td>\n",
              "      <td>0.509091</td>\n",
              "      <td>0.385965</td>\n",
              "      <td>0.68</td>\n",
              "      <td>0.51</td>\n",
              "      <td>...</td>\n",
              "      <td>0.0</td>\n",
              "      <td>0.0</td>\n",
              "      <td>0.0</td>\n",
              "      <td>0.0</td>\n",
              "      <td>0.0</td>\n",
              "      <td>0.0</td>\n",
              "      <td>0.0</td>\n",
              "      <td>1.0</td>\n",
              "      <td>0.0</td>\n",
              "      <td>0.0</td>\n",
              "    </tr>\n",
              "    <tr>\n",
              "      <th>3</th>\n",
              "      <td>0.504950</td>\n",
              "      <td>0.408318</td>\n",
              "      <td>0.3125</td>\n",
              "      <td>0.215596</td>\n",
              "      <td>0.579310</td>\n",
              "      <td>0.170543</td>\n",
              "      <td>0.200000</td>\n",
              "      <td>0.228070</td>\n",
              "      <td>0.80</td>\n",
              "      <td>0.79</td>\n",
              "      <td>...</td>\n",
              "      <td>0.0</td>\n",
              "      <td>0.0</td>\n",
              "      <td>0.0</td>\n",
              "      <td>0.0</td>\n",
              "      <td>0.0</td>\n",
              "      <td>0.0</td>\n",
              "      <td>1.0</td>\n",
              "      <td>0.0</td>\n",
              "      <td>0.0</td>\n",
              "      <td>0.0</td>\n",
              "    </tr>\n",
              "    <tr>\n",
              "      <th>4</th>\n",
              "      <td>0.396040</td>\n",
              "      <td>0.493384</td>\n",
              "      <td>0.0000</td>\n",
              "      <td>0.215596</td>\n",
              "      <td>0.579310</td>\n",
              "      <td>0.069767</td>\n",
              "      <td>0.036364</td>\n",
              "      <td>0.122807</td>\n",
              "      <td>0.88</td>\n",
              "      <td>0.52</td>\n",
              "      <td>...</td>\n",
              "      <td>0.0</td>\n",
              "      <td>0.0</td>\n",
              "      <td>0.0</td>\n",
              "      <td>0.0</td>\n",
              "      <td>0.0</td>\n",
              "      <td>0.0</td>\n",
              "      <td>0.0</td>\n",
              "      <td>0.0</td>\n",
              "      <td>0.0</td>\n",
              "      <td>0.0</td>\n",
              "    </tr>\n",
              "  </tbody>\n",
              "</table>\n",
              "<p>5 rows × 118 columns</p>\n",
              "</div>"
            ],
            "text/plain": [
              "    MinTemp   MaxTemp Rainfall Evaporation  Sunshine WindGustSpeed  \\\n",
              "0  0.752475  0.835539   0.5000    0.513761  0.793103      0.395349   \n",
              "1  0.717822  0.799622   0.0000    0.422018  0.579310      0.410853   \n",
              "2  0.336634  0.415879   0.0625    0.215596  0.579310      0.341085   \n",
              "3  0.504950  0.408318   0.3125    0.215596  0.579310      0.170543   \n",
              "4  0.396040  0.493384   0.0000    0.215596  0.579310      0.069767   \n",
              "\n",
              "  WindSpeed9am WindSpeed3pm Humidity9am Humidity3pm  ...  NNW   NW    S   SE  \\\n",
              "0     0.363636     0.578947        0.50        0.26  ...  0.0  0.0  0.0  0.0   \n",
              "1     0.309091     0.350877        0.47        0.22  ...  0.0  0.0  0.0  0.0   \n",
              "2     0.509091     0.385965        0.68        0.51  ...  0.0  0.0  0.0  0.0   \n",
              "3     0.200000     0.228070        0.80        0.79  ...  0.0  0.0  0.0  0.0   \n",
              "4     0.036364     0.122807        0.88        0.52  ...  0.0  0.0  0.0  0.0   \n",
              "\n",
              "   SSE  SSW   SW    W  WNW  WSW  \n",
              "0  0.0  0.0  0.0  0.0  0.0  0.0  \n",
              "1  0.0  0.0  0.0  0.0  0.0  0.0  \n",
              "2  0.0  0.0  0.0  1.0  0.0  0.0  \n",
              "3  0.0  0.0  1.0  0.0  0.0  0.0  \n",
              "4  0.0  0.0  0.0  0.0  0.0  0.0  \n",
              "\n",
              "[5 rows x 118 columns]"
            ]
          },
          "execution_count": 94,
          "metadata": {},
          "output_type": "execute_result"
        }
      ],
      "source": [
        "X_test.head()"
      ]
    },
    {
      "cell_type": "code",
      "execution_count": null,
      "id": "adc66be4",
      "metadata": {
        "execution": {
          "iopub.execute_input": "2025-05-14T04:14:01.283905Z",
          "iopub.status.busy": "2025-05-14T04:14:01.283579Z",
          "iopub.status.idle": "2025-05-14T04:14:02.035222Z",
          "shell.execute_reply": "2025-05-14T04:14:02.034260Z"
        },
        "papermill": {
          "duration": 0.798372,
          "end_time": "2025-05-14T04:14:02.037259",
          "exception": false,
          "start_time": "2025-05-14T04:14:01.238887",
          "status": "completed"
        },
        "tags": [],
        "id": "adc66be4",
        "outputId": "3f07084f-a7a5-4205-ca83-23b54e611840"
      },
      "outputs": [
        {
          "data": {
            "text/html": [
              "<div>\n",
              "<style scoped>\n",
              "    .dataframe tbody tr th:only-of-type {\n",
              "        vertical-align: middle;\n",
              "    }\n",
              "\n",
              "    .dataframe tbody tr th {\n",
              "        vertical-align: top;\n",
              "    }\n",
              "\n",
              "    .dataframe thead tr th {\n",
              "        text-align: left;\n",
              "    }\n",
              "</style>\n",
              "<table border=\"1\" class=\"dataframe\">\n",
              "  <thead>\n",
              "    <tr>\n",
              "      <th></th>\n",
              "      <th>MinTemp</th>\n",
              "      <th>MaxTemp</th>\n",
              "      <th>Rainfall</th>\n",
              "      <th>Evaporation</th>\n",
              "      <th>Sunshine</th>\n",
              "      <th>WindGustSpeed</th>\n",
              "      <th>WindSpeed9am</th>\n",
              "      <th>WindSpeed3pm</th>\n",
              "      <th>Humidity9am</th>\n",
              "      <th>Humidity3pm</th>\n",
              "      <th>...</th>\n",
              "      <th>NNW</th>\n",
              "      <th>NW</th>\n",
              "      <th>S</th>\n",
              "      <th>SE</th>\n",
              "      <th>SSE</th>\n",
              "      <th>SSW</th>\n",
              "      <th>SW</th>\n",
              "      <th>W</th>\n",
              "      <th>WNW</th>\n",
              "      <th>WSW</th>\n",
              "    </tr>\n",
              "  </thead>\n",
              "  <tbody>\n",
              "    <tr>\n",
              "      <th>count</th>\n",
              "      <td>116368.000000</td>\n",
              "      <td>116368.000000</td>\n",
              "      <td>116368.000000</td>\n",
              "      <td>116368.000000</td>\n",
              "      <td>116368.000000</td>\n",
              "      <td>116368.000000</td>\n",
              "      <td>116368.000000</td>\n",
              "      <td>116368.000000</td>\n",
              "      <td>116368.000000</td>\n",
              "      <td>116368.000000</td>\n",
              "      <td>...</td>\n",
              "      <td>116368.000000</td>\n",
              "      <td>116368.000000</td>\n",
              "      <td>116368.000000</td>\n",
              "      <td>116368.000000</td>\n",
              "      <td>116368.000000</td>\n",
              "      <td>116368.000000</td>\n",
              "      <td>116368.000000</td>\n",
              "      <td>116368.000000</td>\n",
              "      <td>116368.000000</td>\n",
              "      <td>116368.000000</td>\n",
              "    </tr>\n",
              "    <tr>\n",
              "      <th>mean</th>\n",
              "      <td>0.512133</td>\n",
              "      <td>0.529359</td>\n",
              "      <td>0.209625</td>\n",
              "      <td>0.233640</td>\n",
              "      <td>0.550516</td>\n",
              "      <td>0.263427</td>\n",
              "      <td>0.255080</td>\n",
              "      <td>0.327850</td>\n",
              "      <td>0.689507</td>\n",
              "      <td>0.516058</td>\n",
              "      <td>...</td>\n",
              "      <td>0.054078</td>\n",
              "      <td>0.059123</td>\n",
              "      <td>0.068447</td>\n",
              "      <td>0.103723</td>\n",
              "      <td>0.065224</td>\n",
              "      <td>0.056055</td>\n",
              "      <td>0.064786</td>\n",
              "      <td>0.069323</td>\n",
              "      <td>0.060309</td>\n",
              "      <td>0.064958</td>\n",
              "    </tr>\n",
              "    <tr>\n",
              "      <th>std</th>\n",
              "      <td>0.157596</td>\n",
              "      <td>0.133940</td>\n",
              "      <td>0.369223</td>\n",
              "      <td>0.128450</td>\n",
              "      <td>0.190458</td>\n",
              "      <td>0.101767</td>\n",
              "      <td>0.160647</td>\n",
              "      <td>0.152642</td>\n",
              "      <td>0.188114</td>\n",
              "      <td>0.204400</td>\n",
              "      <td>...</td>\n",
              "      <td>0.226173</td>\n",
              "      <td>0.235855</td>\n",
              "      <td>0.252512</td>\n",
              "      <td>0.304902</td>\n",
              "      <td>0.246922</td>\n",
              "      <td>0.230029</td>\n",
              "      <td>0.246149</td>\n",
              "      <td>0.254004</td>\n",
              "      <td>0.238059</td>\n",
              "      <td>0.246452</td>\n",
              "    </tr>\n",
              "    <tr>\n",
              "      <th>min</th>\n",
              "      <td>0.000000</td>\n",
              "      <td>0.000000</td>\n",
              "      <td>0.000000</td>\n",
              "      <td>0.000000</td>\n",
              "      <td>0.000000</td>\n",
              "      <td>0.000000</td>\n",
              "      <td>0.000000</td>\n",
              "      <td>0.000000</td>\n",
              "      <td>0.000000</td>\n",
              "      <td>0.000000</td>\n",
              "      <td>...</td>\n",
              "      <td>0.000000</td>\n",
              "      <td>0.000000</td>\n",
              "      <td>0.000000</td>\n",
              "      <td>0.000000</td>\n",
              "      <td>0.000000</td>\n",
              "      <td>0.000000</td>\n",
              "      <td>0.000000</td>\n",
              "      <td>0.000000</td>\n",
              "      <td>0.000000</td>\n",
              "      <td>0.000000</td>\n",
              "    </tr>\n",
              "    <tr>\n",
              "      <th>25%</th>\n",
              "      <td>0.400990</td>\n",
              "      <td>0.431002</td>\n",
              "      <td>0.000000</td>\n",
              "      <td>0.183486</td>\n",
              "      <td>0.565517</td>\n",
              "      <td>0.193798</td>\n",
              "      <td>0.127273</td>\n",
              "      <td>0.228070</td>\n",
              "      <td>0.570000</td>\n",
              "      <td>0.370000</td>\n",
              "      <td>...</td>\n",
              "      <td>0.000000</td>\n",
              "      <td>0.000000</td>\n",
              "      <td>0.000000</td>\n",
              "      <td>0.000000</td>\n",
              "      <td>0.000000</td>\n",
              "      <td>0.000000</td>\n",
              "      <td>0.000000</td>\n",
              "      <td>0.000000</td>\n",
              "      <td>0.000000</td>\n",
              "      <td>0.000000</td>\n",
              "    </tr>\n",
              "    <tr>\n",
              "      <th>50%</th>\n",
              "      <td>0.507426</td>\n",
              "      <td>0.517958</td>\n",
              "      <td>0.000000</td>\n",
              "      <td>0.215596</td>\n",
              "      <td>0.579310</td>\n",
              "      <td>0.255814</td>\n",
              "      <td>0.236364</td>\n",
              "      <td>0.333333</td>\n",
              "      <td>0.700000</td>\n",
              "      <td>0.520000</td>\n",
              "      <td>...</td>\n",
              "      <td>0.000000</td>\n",
              "      <td>0.000000</td>\n",
              "      <td>0.000000</td>\n",
              "      <td>0.000000</td>\n",
              "      <td>0.000000</td>\n",
              "      <td>0.000000</td>\n",
              "      <td>0.000000</td>\n",
              "      <td>0.000000</td>\n",
              "      <td>0.000000</td>\n",
              "      <td>0.000000</td>\n",
              "    </tr>\n",
              "    <tr>\n",
              "      <th>75%</th>\n",
              "      <td>0.626238</td>\n",
              "      <td>0.623819</td>\n",
              "      <td>0.187500</td>\n",
              "      <td>0.238532</td>\n",
              "      <td>0.593103</td>\n",
              "      <td>0.310078</td>\n",
              "      <td>0.345455</td>\n",
              "      <td>0.421053</td>\n",
              "      <td>0.830000</td>\n",
              "      <td>0.650000</td>\n",
              "      <td>...</td>\n",
              "      <td>0.000000</td>\n",
              "      <td>0.000000</td>\n",
              "      <td>0.000000</td>\n",
              "      <td>0.000000</td>\n",
              "      <td>0.000000</td>\n",
              "      <td>0.000000</td>\n",
              "      <td>0.000000</td>\n",
              "      <td>0.000000</td>\n",
              "      <td>0.000000</td>\n",
              "      <td>0.000000</td>\n",
              "    </tr>\n",
              "    <tr>\n",
              "      <th>max</th>\n",
              "      <td>1.000000</td>\n",
              "      <td>1.000000</td>\n",
              "      <td>1.000000</td>\n",
              "      <td>1.000000</td>\n",
              "      <td>1.000000</td>\n",
              "      <td>1.000000</td>\n",
              "      <td>1.000000</td>\n",
              "      <td>1.000000</td>\n",
              "      <td>1.000000</td>\n",
              "      <td>1.000000</td>\n",
              "      <td>...</td>\n",
              "      <td>1.000000</td>\n",
              "      <td>1.000000</td>\n",
              "      <td>1.000000</td>\n",
              "      <td>1.000000</td>\n",
              "      <td>1.000000</td>\n",
              "      <td>1.000000</td>\n",
              "      <td>1.000000</td>\n",
              "      <td>1.000000</td>\n",
              "      <td>1.000000</td>\n",
              "      <td>1.000000</td>\n",
              "    </tr>\n",
              "  </tbody>\n",
              "</table>\n",
              "<p>8 rows × 118 columns</p>\n",
              "</div>"
            ],
            "text/plain": [
              "             MinTemp        MaxTemp       Rainfall    Evaporation  \\\n",
              "count  116368.000000  116368.000000  116368.000000  116368.000000   \n",
              "mean        0.512133       0.529359       0.209625       0.233640   \n",
              "std         0.157596       0.133940       0.369223       0.128450   \n",
              "min         0.000000       0.000000       0.000000       0.000000   \n",
              "25%         0.400990       0.431002       0.000000       0.183486   \n",
              "50%         0.507426       0.517958       0.000000       0.215596   \n",
              "75%         0.626238       0.623819       0.187500       0.238532   \n",
              "max         1.000000       1.000000       1.000000       1.000000   \n",
              "\n",
              "            Sunshine  WindGustSpeed   WindSpeed9am   WindSpeed3pm  \\\n",
              "count  116368.000000  116368.000000  116368.000000  116368.000000   \n",
              "mean        0.550516       0.263427       0.255080       0.327850   \n",
              "std         0.190458       0.101767       0.160647       0.152642   \n",
              "min         0.000000       0.000000       0.000000       0.000000   \n",
              "25%         0.565517       0.193798       0.127273       0.228070   \n",
              "50%         0.579310       0.255814       0.236364       0.333333   \n",
              "75%         0.593103       0.310078       0.345455       0.421053   \n",
              "max         1.000000       1.000000       1.000000       1.000000   \n",
              "\n",
              "         Humidity9am    Humidity3pm  ...            NNW             NW  \\\n",
              "count  116368.000000  116368.000000  ...  116368.000000  116368.000000   \n",
              "mean        0.689507       0.516058  ...       0.054078       0.059123   \n",
              "std         0.188114       0.204400  ...       0.226173       0.235855   \n",
              "min         0.000000       0.000000  ...       0.000000       0.000000   \n",
              "25%         0.570000       0.370000  ...       0.000000       0.000000   \n",
              "50%         0.700000       0.520000  ...       0.000000       0.000000   \n",
              "75%         0.830000       0.650000  ...       0.000000       0.000000   \n",
              "max         1.000000       1.000000  ...       1.000000       1.000000   \n",
              "\n",
              "                   S             SE            SSE            SSW  \\\n",
              "count  116368.000000  116368.000000  116368.000000  116368.000000   \n",
              "mean        0.068447       0.103723       0.065224       0.056055   \n",
              "std         0.252512       0.304902       0.246922       0.230029   \n",
              "min         0.000000       0.000000       0.000000       0.000000   \n",
              "25%         0.000000       0.000000       0.000000       0.000000   \n",
              "50%         0.000000       0.000000       0.000000       0.000000   \n",
              "75%         0.000000       0.000000       0.000000       0.000000   \n",
              "max         1.000000       1.000000       1.000000       1.000000   \n",
              "\n",
              "                  SW              W            WNW            WSW  \n",
              "count  116368.000000  116368.000000  116368.000000  116368.000000  \n",
              "mean        0.064786       0.069323       0.060309       0.064958  \n",
              "std         0.246149       0.254004       0.238059       0.246452  \n",
              "min         0.000000       0.000000       0.000000       0.000000  \n",
              "25%         0.000000       0.000000       0.000000       0.000000  \n",
              "50%         0.000000       0.000000       0.000000       0.000000  \n",
              "75%         0.000000       0.000000       0.000000       0.000000  \n",
              "max         1.000000       1.000000       1.000000       1.000000  \n",
              "\n",
              "[8 rows x 118 columns]"
            ]
          },
          "execution_count": 95,
          "metadata": {},
          "output_type": "execute_result"
        }
      ],
      "source": [
        "X_train.describe()"
      ]
    },
    {
      "cell_type": "markdown",
      "id": "6d1a6ca7",
      "metadata": {
        "papermill": {
          "duration": 0.042163,
          "end_time": "2025-05-14T04:14:02.122983",
          "exception": false,
          "start_time": "2025-05-14T04:14:02.080820",
          "status": "completed"
        },
        "tags": [],
        "id": "6d1a6ca7"
      },
      "source": [
        "Since I have both X_train and X_test sets ready to be used to create machine learning model, I'm going to try using Logistic Regression classifier for this model."
      ]
    },
    {
      "cell_type": "markdown",
      "id": "97dddb6c",
      "metadata": {
        "papermill": {
          "duration": 0.04289,
          "end_time": "2025-05-14T04:14:02.209623",
          "exception": false,
          "start_time": "2025-05-14T04:14:02.166733",
          "status": "completed"
        },
        "tags": [],
        "id": "97dddb6c"
      },
      "source": [
        "**MACHINE LEARNING MODEL TRAINING & DEVELOPING PHASE**"
      ]
    },
    {
      "cell_type": "code",
      "execution_count": null,
      "id": "0a1d5db7",
      "metadata": {
        "execution": {
          "iopub.execute_input": "2025-05-14T04:14:02.298619Z",
          "iopub.status.busy": "2025-05-14T04:14:02.298253Z",
          "iopub.status.idle": "2025-05-14T04:14:02.330232Z",
          "shell.execute_reply": "2025-05-14T04:14:02.329072Z"
        },
        "papermill": {
          "duration": 0.079032,
          "end_time": "2025-05-14T04:14:02.332222",
          "exception": false,
          "start_time": "2025-05-14T04:14:02.253190",
          "status": "completed"
        },
        "tags": [],
        "id": "0a1d5db7"
      },
      "outputs": [],
      "source": [
        "y_train.fillna(y_train.mode()[0], inplace=True)\n",
        "y_test.fillna(y_train.mode()[0], inplace=True)"
      ]
    },
    {
      "cell_type": "code",
      "execution_count": null,
      "id": "21dd159b",
      "metadata": {
        "execution": {
          "iopub.execute_input": "2025-05-14T04:14:02.418653Z",
          "iopub.status.busy": "2025-05-14T04:14:02.418306Z",
          "iopub.status.idle": "2025-05-14T04:14:05.115355Z",
          "shell.execute_reply": "2025-05-14T04:14:05.114319Z"
        },
        "papermill": {
          "duration": 2.742277,
          "end_time": "2025-05-14T04:14:05.117099",
          "exception": false,
          "start_time": "2025-05-14T04:14:02.374822",
          "status": "completed"
        },
        "tags": [],
        "id": "21dd159b",
        "outputId": "26793df8-a6ef-43e6-dbfe-4bb17d4e7021"
      },
      "outputs": [
        {
          "data": {
            "text/html": [
              "<style>#sk-container-id-1 {color: black;background-color: white;}#sk-container-id-1 pre{padding: 0;}#sk-container-id-1 div.sk-toggleable {background-color: white;}#sk-container-id-1 label.sk-toggleable__label {cursor: pointer;display: block;width: 100%;margin-bottom: 0;padding: 0.3em;box-sizing: border-box;text-align: center;}#sk-container-id-1 label.sk-toggleable__label-arrow:before {content: \"▸\";float: left;margin-right: 0.25em;color: #696969;}#sk-container-id-1 label.sk-toggleable__label-arrow:hover:before {color: black;}#sk-container-id-1 div.sk-estimator:hover label.sk-toggleable__label-arrow:before {color: black;}#sk-container-id-1 div.sk-toggleable__content {max-height: 0;max-width: 0;overflow: hidden;text-align: left;background-color: #f0f8ff;}#sk-container-id-1 div.sk-toggleable__content pre {margin: 0.2em;color: black;border-radius: 0.25em;background-color: #f0f8ff;}#sk-container-id-1 input.sk-toggleable__control:checked~div.sk-toggleable__content {max-height: 200px;max-width: 100%;overflow: auto;}#sk-container-id-1 input.sk-toggleable__control:checked~label.sk-toggleable__label-arrow:before {content: \"▾\";}#sk-container-id-1 div.sk-estimator input.sk-toggleable__control:checked~label.sk-toggleable__label {background-color: #d4ebff;}#sk-container-id-1 div.sk-label input.sk-toggleable__control:checked~label.sk-toggleable__label {background-color: #d4ebff;}#sk-container-id-1 input.sk-hidden--visually {border: 0;clip: rect(1px 1px 1px 1px);clip: rect(1px, 1px, 1px, 1px);height: 1px;margin: -1px;overflow: hidden;padding: 0;position: absolute;width: 1px;}#sk-container-id-1 div.sk-estimator {font-family: monospace;background-color: #f0f8ff;border: 1px dotted black;border-radius: 0.25em;box-sizing: border-box;margin-bottom: 0.5em;}#sk-container-id-1 div.sk-estimator:hover {background-color: #d4ebff;}#sk-container-id-1 div.sk-parallel-item::after {content: \"\";width: 100%;border-bottom: 1px solid gray;flex-grow: 1;}#sk-container-id-1 div.sk-label:hover label.sk-toggleable__label {background-color: #d4ebff;}#sk-container-id-1 div.sk-serial::before {content: \"\";position: absolute;border-left: 1px solid gray;box-sizing: border-box;top: 0;bottom: 0;left: 50%;z-index: 0;}#sk-container-id-1 div.sk-serial {display: flex;flex-direction: column;align-items: center;background-color: white;padding-right: 0.2em;padding-left: 0.2em;position: relative;}#sk-container-id-1 div.sk-item {position: relative;z-index: 1;}#sk-container-id-1 div.sk-parallel {display: flex;align-items: stretch;justify-content: center;background-color: white;position: relative;}#sk-container-id-1 div.sk-item::before, #sk-container-id-1 div.sk-parallel-item::before {content: \"\";position: absolute;border-left: 1px solid gray;box-sizing: border-box;top: 0;bottom: 0;left: 50%;z-index: -1;}#sk-container-id-1 div.sk-parallel-item {display: flex;flex-direction: column;z-index: 1;position: relative;background-color: white;}#sk-container-id-1 div.sk-parallel-item:first-child::after {align-self: flex-end;width: 50%;}#sk-container-id-1 div.sk-parallel-item:last-child::after {align-self: flex-start;width: 50%;}#sk-container-id-1 div.sk-parallel-item:only-child::after {width: 0;}#sk-container-id-1 div.sk-dashed-wrapped {border: 1px dashed gray;margin: 0 0.4em 0.5em 0.4em;box-sizing: border-box;padding-bottom: 0.4em;background-color: white;}#sk-container-id-1 div.sk-label label {font-family: monospace;font-weight: bold;display: inline-block;line-height: 1.2em;}#sk-container-id-1 div.sk-label-container {text-align: center;}#sk-container-id-1 div.sk-container {/* jupyter's `normalize.less` sets `[hidden] { display: none; }` but bootstrap.min.css set `[hidden] { display: none !important; }` so we also need the `!important` here to be able to override the default hidden behavior on the sphinx rendered scikit-learn.org. See: https://github.com/scikit-learn/scikit-learn/issues/21755 */display: inline-block !important;position: relative;}#sk-container-id-1 div.sk-text-repr-fallback {display: none;}</style><div id=\"sk-container-id-1\" class=\"sk-top-container\"><div class=\"sk-text-repr-fallback\"><pre>LogisticRegression(random_state=0, solver=&#x27;liblinear&#x27;)</pre><b>In a Jupyter environment, please rerun this cell to show the HTML representation or trust the notebook. <br />On GitHub, the HTML representation is unable to render, please try loading this page with nbviewer.org.</b></div><div class=\"sk-container\" hidden><div class=\"sk-item\"><div class=\"sk-estimator sk-toggleable\"><input class=\"sk-toggleable__control sk-hidden--visually\" id=\"sk-estimator-id-1\" type=\"checkbox\" checked><label for=\"sk-estimator-id-1\" class=\"sk-toggleable__label sk-toggleable__label-arrow\">LogisticRegression</label><div class=\"sk-toggleable__content\"><pre>LogisticRegression(random_state=0, solver=&#x27;liblinear&#x27;)</pre></div></div></div></div></div>"
            ],
            "text/plain": [
              "LogisticRegression(random_state=0, solver='liblinear')"
            ]
          },
          "execution_count": 97,
          "metadata": {},
          "output_type": "execute_result"
        }
      ],
      "source": [
        "# Let's train a logistic regression machine learning model on the training set\n",
        "from sklearn.linear_model import LogisticRegression\n",
        "\n",
        "# Instantiate/create/develop the machine learning model\n",
        "logreg = LogisticRegression(solver=\"liblinear\", random_state=0)\n",
        "\n",
        "# Fit the machine learning model\n",
        "logreg.fit(X_train, y_train)"
      ]
    },
    {
      "cell_type": "markdown",
      "id": "b3ac1625",
      "metadata": {
        "papermill": {
          "duration": 0.043122,
          "end_time": "2025-05-14T04:14:05.204491",
          "exception": false,
          "start_time": "2025-05-14T04:14:05.161369",
          "status": "completed"
        },
        "tags": [],
        "id": "b3ac1625"
      },
      "source": [
        "**PREDICTING RESULTS OF THE MODEL**"
      ]
    },
    {
      "cell_type": "code",
      "execution_count": null,
      "id": "f61ffffb",
      "metadata": {
        "execution": {
          "iopub.execute_input": "2025-05-14T04:14:05.292348Z",
          "iopub.status.busy": "2025-05-14T04:14:05.291935Z",
          "iopub.status.idle": "2025-05-14T04:14:05.307955Z",
          "shell.execute_reply": "2025-05-14T04:14:05.306871Z"
        },
        "papermill": {
          "duration": 0.062439,
          "end_time": "2025-05-14T04:14:05.309704",
          "exception": false,
          "start_time": "2025-05-14T04:14:05.247265",
          "status": "completed"
        },
        "tags": [],
        "id": "f61ffffb",
        "outputId": "686ab30c-ec0e-468a-f534-437926ef5e84"
      },
      "outputs": [
        {
          "data": {
            "text/plain": [
              "array(['No', 'No', 'No', ..., 'Yes', 'No', 'No'], dtype=object)"
            ]
          },
          "execution_count": 98,
          "metadata": {},
          "output_type": "execute_result"
        }
      ],
      "source": [
        "y_pred_test = logreg.predict(X_test)\n",
        "y_pred_test"
      ]
    },
    {
      "cell_type": "markdown",
      "id": "27c61648",
      "metadata": {
        "papermill": {
          "duration": 0.043086,
          "end_time": "2025-05-14T04:14:05.396419",
          "exception": false,
          "start_time": "2025-05-14T04:14:05.353333",
          "status": "completed"
        },
        "tags": [],
        "id": "27c61648"
      },
      "source": [
        "Now I'm going to use **predict_proba** method which will give probabilities for the target variable (RainTomorrow) between 0 and 1.\n",
        "\n",
        "**0** is for **no probability** of rain while **1** is for **probability of rain**."
      ]
    },
    {
      "cell_type": "code",
      "execution_count": null,
      "id": "e358d7c1",
      "metadata": {
        "execution": {
          "iopub.execute_input": "2025-05-14T04:14:05.485120Z",
          "iopub.status.busy": "2025-05-14T04:14:05.484774Z",
          "iopub.status.idle": "2025-05-14T04:14:05.499238Z",
          "shell.execute_reply": "2025-05-14T04:14:05.498198Z"
        },
        "papermill": {
          "duration": 0.061179,
          "end_time": "2025-05-14T04:14:05.500855",
          "exception": false,
          "start_time": "2025-05-14T04:14:05.439676",
          "status": "completed"
        },
        "tags": [],
        "id": "e358d7c1",
        "outputId": "1d252f40-4897-44e7-d23a-f967b367c411"
      },
      "outputs": [
        {
          "data": {
            "text/plain": [
              "array([0.83216813, 0.7455017 , 0.79860399, ..., 0.42026165, 0.6575357 ,\n",
              "       0.96955019])"
            ]
          },
          "execution_count": 99,
          "metadata": {},
          "output_type": "execute_result"
        }
      ],
      "source": [
        "# Probability of getting output as 0 --> No Rain\n",
        "logreg.predict_proba(X_test)[:,0]"
      ]
    },
    {
      "cell_type": "code",
      "execution_count": null,
      "id": "625d2bda",
      "metadata": {
        "execution": {
          "iopub.execute_input": "2025-05-14T04:14:05.589569Z",
          "iopub.status.busy": "2025-05-14T04:14:05.589113Z",
          "iopub.status.idle": "2025-05-14T04:14:05.602659Z",
          "shell.execute_reply": "2025-05-14T04:14:05.601654Z"
        },
        "papermill": {
          "duration": 0.059776,
          "end_time": "2025-05-14T04:14:05.604467",
          "exception": false,
          "start_time": "2025-05-14T04:14:05.544691",
          "status": "completed"
        },
        "tags": [],
        "id": "625d2bda",
        "outputId": "7bec8095-01be-4afd-8b1c-e68c689a4cfc"
      },
      "outputs": [
        {
          "data": {
            "text/plain": [
              "array([0.16783187, 0.2544983 , 0.20139601, ..., 0.57973835, 0.3424643 ,\n",
              "       0.03044981])"
            ]
          },
          "execution_count": 100,
          "metadata": {},
          "output_type": "execute_result"
        }
      ],
      "source": [
        "# Probability of getting output as 1 --> Rain\n",
        "logreg.predict_proba(X_test)[:,1]"
      ]
    },
    {
      "cell_type": "markdown",
      "id": "828a7e27",
      "metadata": {
        "papermill": {
          "duration": 0.04404,
          "end_time": "2025-05-14T04:14:05.692784",
          "exception": false,
          "start_time": "2025-05-14T04:14:05.648744",
          "status": "completed"
        },
        "tags": [],
        "id": "828a7e27"
      },
      "source": [
        "Now I'm going to check the accuracy score of the model."
      ]
    },
    {
      "cell_type": "code",
      "execution_count": null,
      "id": "10c66628",
      "metadata": {
        "execution": {
          "iopub.execute_input": "2025-05-14T04:14:05.782196Z",
          "iopub.status.busy": "2025-05-14T04:14:05.781821Z",
          "iopub.status.idle": "2025-05-14T04:14:05.856699Z",
          "shell.execute_reply": "2025-05-14T04:14:05.855230Z"
        },
        "papermill": {
          "duration": 0.121833,
          "end_time": "2025-05-14T04:14:05.859032",
          "exception": false,
          "start_time": "2025-05-14T04:14:05.737199",
          "status": "completed"
        },
        "tags": [],
        "id": "10c66628",
        "outputId": "2d87c542-d5fb-44eb-f02a-415253cb2e49"
      },
      "outputs": [
        {
          "name": "stdout",
          "output_type": "stream",
          "text": [
            "Model Accuracy Score: 0.8484\n"
          ]
        }
      ],
      "source": [
        "from sklearn.metrics import accuracy_score\n",
        "print(\"Model Accuracy Score: {0:0.4f}\". format(accuracy_score(y_test, y_pred_test)))"
      ]
    },
    {
      "cell_type": "markdown",
      "id": "44b7ae04",
      "metadata": {
        "papermill": {
          "duration": 0.04415,
          "end_time": "2025-05-14T04:14:05.948375",
          "exception": false,
          "start_time": "2025-05-14T04:14:05.904225",
          "status": "completed"
        },
        "tags": [],
        "id": "44b7ae04"
      },
      "source": [
        "I have calculated the model accuracy store which is 0.8484.\n",
        "\n",
        "Now, let's check whether the **train set** and **test set** are overfitting/underfitting by comparing their accuracy."
      ]
    },
    {
      "cell_type": "code",
      "execution_count": null,
      "id": "4cdfc3d2",
      "metadata": {
        "execution": {
          "iopub.execute_input": "2025-05-14T04:14:06.039842Z",
          "iopub.status.busy": "2025-05-14T04:14:06.039467Z",
          "iopub.status.idle": "2025-05-14T04:14:06.073926Z",
          "shell.execute_reply": "2025-05-14T04:14:06.072864Z"
        },
        "papermill": {
          "duration": 0.082089,
          "end_time": "2025-05-14T04:14:06.075837",
          "exception": false,
          "start_time": "2025-05-14T04:14:05.993748",
          "status": "completed"
        },
        "tags": [],
        "id": "4cdfc3d2",
        "outputId": "9a2d2895-1b9a-4b0d-d2a0-86037f69d444"
      },
      "outputs": [
        {
          "data": {
            "text/plain": [
              "array(['No', 'No', 'No', ..., 'No', 'No', 'No'], dtype=object)"
            ]
          },
          "execution_count": 102,
          "metadata": {},
          "output_type": "execute_result"
        }
      ],
      "source": [
        "y_pred_train = logreg.predict(X_train)\n",
        "y_pred_train"
      ]
    },
    {
      "cell_type": "code",
      "execution_count": null,
      "id": "1033679d",
      "metadata": {
        "execution": {
          "iopub.execute_input": "2025-05-14T04:14:06.166365Z",
          "iopub.status.busy": "2025-05-14T04:14:06.165968Z",
          "iopub.status.idle": "2025-05-14T04:14:06.477746Z",
          "shell.execute_reply": "2025-05-14T04:14:06.476618Z"
        },
        "papermill": {
          "duration": 0.35875,
          "end_time": "2025-05-14T04:14:06.479724",
          "exception": false,
          "start_time": "2025-05-14T04:14:06.120974",
          "status": "completed"
        },
        "tags": [],
        "id": "1033679d",
        "outputId": "ae32a6fd-92b5-454f-d0f3-54e2d54aed47"
      },
      "outputs": [
        {
          "name": "stdout",
          "output_type": "stream",
          "text": [
            "Training Set Accuracy Score: 0.8488\n"
          ]
        }
      ],
      "source": [
        "# Displaying the Training Set accuracy\n",
        "print(\"Training Set Accuracy Score: {0:0.4f}\". format(accuracy_score(y_train, y_pred_train)))"
      ]
    },
    {
      "cell_type": "code",
      "execution_count": null,
      "id": "df3a65d9",
      "metadata": {
        "execution": {
          "iopub.execute_input": "2025-05-14T04:14:06.570991Z",
          "iopub.status.busy": "2025-05-14T04:14:06.570647Z",
          "iopub.status.idle": "2025-05-14T04:14:06.650479Z",
          "shell.execute_reply": "2025-05-14T04:14:06.649358Z"
        },
        "papermill": {
          "duration": 0.127353,
          "end_time": "2025-05-14T04:14:06.652195",
          "exception": false,
          "start_time": "2025-05-14T04:14:06.524842",
          "status": "completed"
        },
        "tags": [],
        "id": "df3a65d9",
        "outputId": "68647e62-772f-43cc-f563-e3abbc916993"
      },
      "outputs": [
        {
          "name": "stdout",
          "output_type": "stream",
          "text": [
            "Testing Set Accuracy Score: 0.8484\n"
          ]
        }
      ],
      "source": [
        "# Displaying the Testing Set accuracy\n",
        "print(\"Testing Set Accuracy Score: {:.4f}\".format(logreg.score(X_test, y_test)))"
      ]
    },
    {
      "cell_type": "markdown",
      "id": "0efcd29d",
      "metadata": {
        "papermill": {
          "duration": 0.043476,
          "end_time": "2025-05-14T04:14:06.739777",
          "exception": false,
          "start_time": "2025-05-14T04:14:06.696301",
          "status": "completed"
        },
        "tags": [],
        "id": "0efcd29d"
      },
      "source": [
        "Since the accuracy score of both sets are quite comparable, I can conclude that there is no case of overfitting and underfitting.\n",
        "* Training Set Accuracy Score: 0.8488\n",
        "* Testing Set Accuracy Score: 0.8484"
      ]
    },
    {
      "cell_type": "markdown",
      "id": "98d9ee3f",
      "metadata": {
        "papermill": {
          "duration": 0.043405,
          "end_time": "2025-05-14T04:14:06.827338",
          "exception": false,
          "start_time": "2025-05-14T04:14:06.783933",
          "status": "completed"
        },
        "tags": [],
        "id": "98d9ee3f"
      },
      "source": [
        "Next, I want to compare my Logistic Regression model accuracy with Null Accuracy.\n",
        "\n",
        "I'm doing this to make sure that the accuracy score of my ML model based on Logistic Regression is good enough to make weather prediction.\n",
        "\n",
        "Null Accuracy is the accuracy that could be achieved by always predicting the most frequent class."
      ]
    },
    {
      "cell_type": "markdown",
      "id": "b2e847dd",
      "metadata": {
        "papermill": {
          "duration": 0.043512,
          "end_time": "2025-05-14T04:14:06.915765",
          "exception": false,
          "start_time": "2025-05-14T04:14:06.872253",
          "status": "completed"
        },
        "tags": [],
        "id": "b2e847dd"
      },
      "source": [
        "**Comparing Logistic Regression ML model accuracy with Null Accuracy.**"
      ]
    },
    {
      "cell_type": "code",
      "execution_count": null,
      "id": "4014ac42",
      "metadata": {
        "execution": {
          "iopub.execute_input": "2025-05-14T04:14:07.005974Z",
          "iopub.status.busy": "2025-05-14T04:14:07.005590Z",
          "iopub.status.idle": "2025-05-14T04:14:07.015140Z",
          "shell.execute_reply": "2025-05-14T04:14:07.014251Z"
        },
        "papermill": {
          "duration": 0.05723,
          "end_time": "2025-05-14T04:14:07.016781",
          "exception": false,
          "start_time": "2025-05-14T04:14:06.959551",
          "status": "completed"
        },
        "tags": [],
        "id": "4014ac42",
        "outputId": "f6a46220-148f-4f0e-93e0-678a6c13c3af"
      },
      "outputs": [
        {
          "data": {
            "text/plain": [
              "RainTomorrow\n",
              "No     22726\n",
              "Yes     6366\n",
              "Name: count, dtype: int64"
            ]
          },
          "execution_count": 105,
          "metadata": {},
          "output_type": "execute_result"
        }
      ],
      "source": [
        "# Check class distribution in the Test set\n",
        "y_test.value_counts()"
      ]
    },
    {
      "cell_type": "markdown",
      "id": "6c6f9e4f",
      "metadata": {
        "papermill": {
          "duration": 0.045441,
          "end_time": "2025-05-14T04:14:07.107643",
          "exception": false,
          "start_time": "2025-05-14T04:14:07.062202",
          "status": "completed"
        },
        "tags": [],
        "id": "6c6f9e4f"
      },
      "source": [
        "From the class distribution above, the most frequent class is 22,726 NOs. Now I'm going to calculate the Null Accuracy Score by dividing 22,726 by the total number of occurences."
      ]
    },
    {
      "cell_type": "code",
      "execution_count": null,
      "id": "e04b3096",
      "metadata": {
        "execution": {
          "iopub.execute_input": "2025-05-14T04:14:07.197974Z",
          "iopub.status.busy": "2025-05-14T04:14:07.197632Z",
          "iopub.status.idle": "2025-05-14T04:14:07.203441Z",
          "shell.execute_reply": "2025-05-14T04:14:07.201995Z"
        },
        "papermill": {
          "duration": 0.05321,
          "end_time": "2025-05-14T04:14:07.205159",
          "exception": false,
          "start_time": "2025-05-14T04:14:07.151949",
          "status": "completed"
        },
        "tags": [],
        "id": "e04b3096",
        "outputId": "7864b5d8-e5ca-4a9b-e5cd-5c5f49e377fe"
      },
      "outputs": [
        {
          "name": "stdout",
          "output_type": "stream",
          "text": [
            "The Null Accuracy Score is 0.7993\n"
          ]
        }
      ],
      "source": [
        "# Calculating the Null Accuracy Score\n",
        "null_accuracy = (22726/(22067+6366))\n",
        "print(\"The Null Accuracy Score is {0:0.4f}\". format(null_accuracy))"
      ]
    },
    {
      "cell_type": "markdown",
      "id": "d638b3b4",
      "metadata": {
        "papermill": {
          "duration": 0.044002,
          "end_time": "2025-05-14T04:14:07.294501",
          "exception": false,
          "start_time": "2025-05-14T04:14:07.250499",
          "status": "completed"
        },
        "tags": [],
        "id": "d638b3b4"
      },
      "source": [
        "Based on the calculations above, I can conclude that my Logistic Regression machine learning model works well in predicting class labels (weather condition).\n",
        "\n",
        "The Model Accuracy Score is 0.8484 which is high than the Null Accuracy Score (0.7993).\n",
        "\n",
        "But the model is not perfect or 100% accurate, therefore I'm going to use Confusion Matrix as a tool to identify any types of errors that might happen."
      ]
    },
    {
      "cell_type": "markdown",
      "id": "7fd6f74a",
      "metadata": {
        "papermill": {
          "duration": 0.043657,
          "end_time": "2025-05-14T04:14:07.384122",
          "exception": false,
          "start_time": "2025-05-14T04:14:07.340465",
          "status": "completed"
        },
        "tags": [],
        "id": "7fd6f74a"
      },
      "source": [
        "Confusion Matrix is a table too check how well is the model in making predictions, the table will compare any predictions made with reality. It can help me to fix any errors and find ways to increase the model's accuracy.\n",
        "\n",
        "There are four types of possible outcomes in evaluating model performance,\n",
        "1. True Positive (TP) --> predicting rain and it really rains,\n",
        "2. True Negative (TN) --> predicting rain and it doesn't rain,\n",
        "3. False Positive (FP) --> predicting rain but it doesn't rain (false alarm),\n",
        "4. False Negative (FN) --> predicting dry but it d rains (failure)."
      ]
    },
    {
      "cell_type": "code",
      "execution_count": null,
      "id": "346be001",
      "metadata": {
        "execution": {
          "iopub.execute_input": "2025-05-14T04:14:07.474516Z",
          "iopub.status.busy": "2025-05-14T04:14:07.474133Z",
          "iopub.status.idle": "2025-05-14T04:14:07.626618Z",
          "shell.execute_reply": "2025-05-14T04:14:07.625281Z"
        },
        "papermill": {
          "duration": 0.200075,
          "end_time": "2025-05-14T04:14:07.628550",
          "exception": false,
          "start_time": "2025-05-14T04:14:07.428475",
          "status": "completed"
        },
        "tags": [],
        "id": "346be001",
        "outputId": "b9d63e8e-b1d5-4802-8c9e-a797d747a8f5"
      },
      "outputs": [
        {
          "name": "stdout",
          "output_type": "stream",
          "text": [
            "Confusion matrix\n",
            "\n",
            " [[21543  1183]\n",
            " [ 3227  3139]]\n",
            "\n",
            "True Positives(TP) =  21543\n",
            "\n",
            "True Negatives(TN) =  3139\n",
            "\n",
            "False Positives(FP) =  1183\n",
            "\n",
            "False Negatives(FN) =  3227\n"
          ]
        }
      ],
      "source": [
        "# Print the Confusion Matrix and divide it into four parts\n",
        "\n",
        "from sklearn.metrics import confusion_matrix\n",
        "\n",
        "cm = confusion_matrix(y_test, y_pred_test)\n",
        "\n",
        "print(\"Confusion matrix\\n\\n\", cm)\n",
        "print(\"\\nTrue Positives(TP) = \", cm[0,0])\n",
        "print(\"\\nTrue Negatives(TN) = \", cm[1,1])\n",
        "print(\"\\nFalse Positives(FP) = \", cm[0,1])\n",
        "print(\"\\nFalse Negatives(FN) = \", cm[1,0])"
      ]
    },
    {
      "cell_type": "markdown",
      "id": "dd9cbab5",
      "metadata": {
        "papermill": {
          "duration": 0.044049,
          "end_time": "2025-05-14T04:14:07.716966",
          "exception": false,
          "start_time": "2025-05-14T04:14:07.672917",
          "status": "completed"
        },
        "tags": [],
        "id": "dd9cbab5"
      },
      "source": [
        "Based on the Confusion Matrix above, there are 21,543 + 3,139 = 24,862 correct predictions and 1,183 + 3,227 = 4,410 wrong predictions.\n",
        "* True Positives (actual positive 1 and predict positive 1) = 21,543\n",
        "* True Negatives (actual negative 0 and predict negative 0) = 3,139\n",
        "* False Positives (actual negative 0 and predict positive 1) = 1,183 (type I error)\n",
        "* False Negatives (actual positive 1 and predict negative 0) = 3,227 (type II error)\n",
        "\n",
        "To make the results easier to understand, I'm going to make a visualization with seaborn heatmap."
      ]
    },
    {
      "cell_type": "code",
      "execution_count": null,
      "id": "2a40f12b",
      "metadata": {
        "execution": {
          "iopub.execute_input": "2025-05-14T04:14:07.806867Z",
          "iopub.status.busy": "2025-05-14T04:14:07.806496Z",
          "iopub.status.idle": "2025-05-14T04:14:08.058418Z",
          "shell.execute_reply": "2025-05-14T04:14:08.057199Z"
        },
        "papermill": {
          "duration": 0.298835,
          "end_time": "2025-05-14T04:14:08.060101",
          "exception": false,
          "start_time": "2025-05-14T04:14:07.761266",
          "status": "completed"
        },
        "tags": [],
        "id": "2a40f12b",
        "outputId": "7101593a-8ee9-43a7-bae6-163c6d85c3d7"
      },
      "outputs": [
        {
          "data": {
            "text/plain": [
              "<Axes: >"
            ]
          },
          "execution_count": 108,
          "metadata": {},
          "output_type": "execute_result"
        },
        {
          "data": {
            "image/png": "[encoded data removed]",
            "text/plain": [
              "<Figure size 640x480 with 2 Axes>"
            ]
          },
          "metadata": {},
          "output_type": "display_data"
        }
      ],
      "source": [
        "# Confusion Matrix visualization with seaborn heatmap\n",
        "cm_matrix = pd.DataFrame(data=cm, columns=[\"Actual Positive:1\", \"Actual Negative:0\"],\n",
        "                                 index=[\"Predict Positive:1\", \"Predict Negative:0\"])\n",
        "\n",
        "sns.heatmap(cm_matrix, annot=True, fmt=\"d\", cmap=\"YlGnBu\")"
      ]
    },
    {
      "cell_type": "markdown",
      "id": "92c87888",
      "metadata": {
        "papermill": {
          "duration": 0.054385,
          "end_time": "2025-05-14T04:14:08.170374",
          "exception": false,
          "start_time": "2025-05-14T04:14:08.115989",
          "status": "completed"
        },
        "tags": [],
        "id": "92c87888"
      },
      "source": [
        "Now let's test whether the machine learning model can work or not using randomized data below.\n",
        "\n",
        "Before I use the machine learning model, I'm going to safe it on Kaggle Notebook first."
      ]
    },
    {
      "cell_type": "code",
      "execution_count": null,
      "id": "ac5e548f",
      "metadata": {
        "execution": {
          "iopub.execute_input": "2025-05-14T04:14:08.268909Z",
          "iopub.status.busy": "2025-05-14T04:14:08.268376Z",
          "iopub.status.idle": "2025-05-14T04:14:10.722446Z",
          "shell.execute_reply": "2025-05-14T04:14:10.721318Z"
        },
        "papermill": {
          "duration": 2.507827,
          "end_time": "2025-05-14T04:14:10.724350",
          "exception": false,
          "start_time": "2025-05-14T04:14:08.216523",
          "status": "completed"
        },
        "tags": [],
        "id": "ac5e548f",
        "outputId": "a9d14725-baad-4b86-f931-4464c50a3708"
      },
      "outputs": [
        {
          "data": {
            "text/html": [
              "<style>#sk-container-id-2 {color: black;background-color: white;}#sk-container-id-2 pre{padding: 0;}#sk-container-id-2 div.sk-toggleable {background-color: white;}#sk-container-id-2 label.sk-toggleable__label {cursor: pointer;display: block;width: 100%;margin-bottom: 0;padding: 0.3em;box-sizing: border-box;text-align: center;}#sk-container-id-2 label.sk-toggleable__label-arrow:before {content: \"▸\";float: left;margin-right: 0.25em;color: #696969;}#sk-container-id-2 label.sk-toggleable__label-arrow:hover:before {color: black;}#sk-container-id-2 div.sk-estimator:hover label.sk-toggleable__label-arrow:before {color: black;}#sk-container-id-2 div.sk-toggleable__content {max-height: 0;max-width: 0;overflow: hidden;text-align: left;background-color: #f0f8ff;}#sk-container-id-2 div.sk-toggleable__content pre {margin: 0.2em;color: black;border-radius: 0.25em;background-color: #f0f8ff;}#sk-container-id-2 input.sk-toggleable__control:checked~div.sk-toggleable__content {max-height: 200px;max-width: 100%;overflow: auto;}#sk-container-id-2 input.sk-toggleable__control:checked~label.sk-toggleable__label-arrow:before {content: \"▾\";}#sk-container-id-2 div.sk-estimator input.sk-toggleable__control:checked~label.sk-toggleable__label {background-color: #d4ebff;}#sk-container-id-2 div.sk-label input.sk-toggleable__control:checked~label.sk-toggleable__label {background-color: #d4ebff;}#sk-container-id-2 input.sk-hidden--visually {border: 0;clip: rect(1px 1px 1px 1px);clip: rect(1px, 1px, 1px, 1px);height: 1px;margin: -1px;overflow: hidden;padding: 0;position: absolute;width: 1px;}#sk-container-id-2 div.sk-estimator {font-family: monospace;background-color: #f0f8ff;border: 1px dotted black;border-radius: 0.25em;box-sizing: border-box;margin-bottom: 0.5em;}#sk-container-id-2 div.sk-estimator:hover {background-color: #d4ebff;}#sk-container-id-2 div.sk-parallel-item::after {content: \"\";width: 100%;border-bottom: 1px solid gray;flex-grow: 1;}#sk-container-id-2 div.sk-label:hover label.sk-toggleable__label {background-color: #d4ebff;}#sk-container-id-2 div.sk-serial::before {content: \"\";position: absolute;border-left: 1px solid gray;box-sizing: border-box;top: 0;bottom: 0;left: 50%;z-index: 0;}#sk-container-id-2 div.sk-serial {display: flex;flex-direction: column;align-items: center;background-color: white;padding-right: 0.2em;padding-left: 0.2em;position: relative;}#sk-container-id-2 div.sk-item {position: relative;z-index: 1;}#sk-container-id-2 div.sk-parallel {display: flex;align-items: stretch;justify-content: center;background-color: white;position: relative;}#sk-container-id-2 div.sk-item::before, #sk-container-id-2 div.sk-parallel-item::before {content: \"\";position: absolute;border-left: 1px solid gray;box-sizing: border-box;top: 0;bottom: 0;left: 50%;z-index: -1;}#sk-container-id-2 div.sk-parallel-item {display: flex;flex-direction: column;z-index: 1;position: relative;background-color: white;}#sk-container-id-2 div.sk-parallel-item:first-child::after {align-self: flex-end;width: 50%;}#sk-container-id-2 div.sk-parallel-item:last-child::after {align-self: flex-start;width: 50%;}#sk-container-id-2 div.sk-parallel-item:only-child::after {width: 0;}#sk-container-id-2 div.sk-dashed-wrapped {border: 1px dashed gray;margin: 0 0.4em 0.5em 0.4em;box-sizing: border-box;padding-bottom: 0.4em;background-color: white;}#sk-container-id-2 div.sk-label label {font-family: monospace;font-weight: bold;display: inline-block;line-height: 1.2em;}#sk-container-id-2 div.sk-label-container {text-align: center;}#sk-container-id-2 div.sk-container {/* jupyter's `normalize.less` sets `[hidden] { display: none; }` but bootstrap.min.css set `[hidden] { display: none !important; }` so we also need the `!important` here to be able to override the default hidden behavior on the sphinx rendered scikit-learn.org. See: https://github.com/scikit-learn/scikit-learn/issues/21755 */display: inline-block !important;position: relative;}#sk-container-id-2 div.sk-text-repr-fallback {display: none;}</style><div id=\"sk-container-id-2\" class=\"sk-top-container\"><div class=\"sk-text-repr-fallback\"><pre>LogisticRegression()</pre><b>In a Jupyter environment, please rerun this cell to show the HTML representation or trust the notebook. <br />On GitHub, the HTML representation is unable to render, please try loading this page with nbviewer.org.</b></div><div class=\"sk-container\" hidden><div class=\"sk-item\"><div class=\"sk-estimator sk-toggleable\"><input class=\"sk-toggleable__control sk-hidden--visually\" id=\"sk-estimator-id-2\" type=\"checkbox\" checked><label for=\"sk-estimator-id-2\" class=\"sk-toggleable__label sk-toggleable__label-arrow\">LogisticRegression</label><div class=\"sk-toggleable__content\"><pre>LogisticRegression()</pre></div></div></div></div></div>"
            ],
            "text/plain": [
              "LogisticRegression()"
            ]
          },
          "execution_count": 109,
          "metadata": {},
          "output_type": "execute_result"
        }
      ],
      "source": [
        "\n",
        "model = LogisticRegression()\n",
        "model.fit(X_train, y_train)\n"
      ]
    },
    {
      "cell_type": "code",
      "execution_count": null,
      "id": "4ab947b0",
      "metadata": {
        "execution": {
          "iopub.execute_input": "2025-05-14T04:14:10.824917Z",
          "iopub.status.busy": "2025-05-14T04:14:10.824577Z",
          "iopub.status.idle": "2025-05-14T04:14:10.832303Z",
          "shell.execute_reply": "2025-05-14T04:14:10.831199Z"
        },
        "papermill": {
          "duration": 0.061379,
          "end_time": "2025-05-14T04:14:10.833928",
          "exception": false,
          "start_time": "2025-05-14T04:14:10.772549",
          "status": "completed"
        },
        "tags": [],
        "id": "4ab947b0",
        "outputId": "40aa8df2-2d86-48bb-aad1-90d99eefd51e"
      },
      "outputs": [
        {
          "data": {
            "text/plain": [
              "['rain_prediction_model_in_Australia.pkl']"
            ]
          },
          "execution_count": 110,
          "metadata": {},
          "output_type": "execute_result"
        }
      ],
      "source": [
        "# Saving the model inside this Kaggle Notebook\n",
        "import joblib\n",
        "joblib.dump(model, \"rain_prediction_model_in_Australia.pkl\")\n",
        "\n",
        "# If I want to load the model again on similar dataset, here's he codes\n",
        "# model = joblib.load(\"rain_prediction_model.pkl\")"
      ]
    },
    {
      "cell_type": "code",
      "execution_count": null,
      "id": "916daae1",
      "metadata": {
        "execution": {
          "iopub.execute_input": "2025-05-14T04:14:10.927921Z",
          "iopub.status.busy": "2025-05-14T04:14:10.927574Z",
          "iopub.status.idle": "2025-05-14T04:14:10.932847Z",
          "shell.execute_reply": "2025-05-14T04:14:10.931477Z"
        },
        "papermill": {
          "duration": 0.053988,
          "end_time": "2025-05-14T04:14:10.934596",
          "exception": false,
          "start_time": "2025-05-14T04:14:10.880608",
          "status": "completed"
        },
        "tags": [],
        "id": "916daae1",
        "outputId": "fcadde54-9758-45f4-aea8-730e3931d208"
      },
      "outputs": [
        {
          "name": "stdout",
          "output_type": "stream",
          "text": [
            "LogisticRegression()\n"
          ]
        }
      ],
      "source": [
        "print(model)"
      ]
    },
    {
      "cell_type": "code",
      "execution_count": null,
      "id": "66823ab3",
      "metadata": {
        "execution": {
          "iopub.execute_input": "2025-05-14T04:14:11.027367Z",
          "iopub.status.busy": "2025-05-14T04:14:11.026986Z",
          "iopub.status.idle": "2025-05-14T04:14:11.044911Z",
          "shell.execute_reply": "2025-05-14T04:14:11.043815Z"
        },
        "papermill": {
          "duration": 0.066516,
          "end_time": "2025-05-14T04:14:11.046654",
          "exception": false,
          "start_time": "2025-05-14T04:14:10.980138",
          "status": "completed"
        },
        "tags": [],
        "id": "66823ab3",
        "outputId": "8e6818da-17f2-4a54-a439-9095cb5d8fe1"
      },
      "outputs": [
        {
          "name": "stdout",
          "output_type": "stream",
          "text": [
            "                                            Location    MinTemp    MaxTemp  \\\n",
            "0  <built-in method choice of numpy.random.mtrand...  23.120921  28.200201   \n",
            "\n",
            "    Rainfall  Evaporation  Sunshine  \\\n",
            "0  32.126036     7.437169  7.681409   \n",
            "\n",
            "                                         WindGustDir  WindGustSpeed  \\\n",
            "0  <built-in method choice of numpy.random.mtrand...      46.828783   \n",
            "\n",
            "                                          WindDir9am  \\\n",
            "0  <built-in method choice of numpy.random.mtrand...   \n",
            "\n",
            "                                          WindDir3pm  ...  Pressure9am  \\\n",
            "0  <built-in method choice of numpy.random.mtrand...  ...  1005.659998   \n",
            "\n",
            "   Pressure3pm  Cloud9am  Cloud3pm    Temp9am    Temp3pm  RainToday  Year  \\\n",
            "0   1026.13513         8         1  11.180893  37.462261          1  2000   \n",
            "\n",
            "   Month  Day  \n",
            "0      3   10  \n",
            "\n",
            "[1 rows x 24 columns]\n"
          ]
        }
      ],
      "source": [
        "# Make a new row of randomized values for each variable/column\n",
        "newly_randomized_data = pd.DataFrame({\n",
        "    \"Location\": [np.random.choice],\n",
        "    \"MinTemp\": [np.random.uniform(0, 30)],\n",
        "    \"MaxTemp\": [np.random.uniform(10, 45)],\n",
        "    \"Rainfall\": [np.random.uniform(0, 50)],\n",
        "    \"Evaporation\": [np.random.uniform(0, 20)],\n",
        "    \"Sunshine\": [np.random.uniform(0, 12)],\n",
        "    \"WindGustDir\": [np.random.choice],\n",
        "    \"WindGustSpeed\": [np.random.uniform(10, 100)],\n",
        "    \"WindDir9am\": [np.random.choice],\n",
        "    \"WindDir3pm\": [np.random.choice],\n",
        "    \"WindSpeed9am\": [np.random.uniform(0, 50)],\n",
        "    \"WindSpeed3pm\": [np.random.uniform(0, 50)],\n",
        "    \"Humidity9am\": [np.random.uniform(20, 100)],\n",
        "    \"Humidity3pm\": [np.random.uniform(10, 100)],\n",
        "    \"Pressure9am\": [np.random.uniform(980, 1040)],\n",
        "    \"Pressure3pm\": [np.random.uniform(980, 1040)],\n",
        "    \"Cloud9am\": [np.random.randint(0, 9)],\n",
        "    \"Cloud3pm\": [np.random.randint(0, 9)],\n",
        "    \"Temp9am\": [np.random.uniform(5, 35)],\n",
        "    \"Temp3pm\": [np.random.uniform(10, 40)],\n",
        "    \"RainToday\": [np.random.choice([0, 1])],\n",
        "    \"Year\": [np.random.randint(2000, 2025)],\n",
        "    \"Month\": [np.random.randint(1, 13)],\n",
        "    \"Day\": [np.random.randint(1, 29)]  # We assume we want to predict the weather in February (date 1-29 during leap year)\n",
        "})\n",
        "\n",
        "# Show the newly randomized dataset sample\n",
        "print(newly_randomized_data)\n"
      ]
    },
    {
      "cell_type": "code",
      "execution_count": null,
      "id": "9ef195ac",
      "metadata": {
        "execution": {
          "iopub.execute_input": "2025-05-14T04:14:11.139418Z",
          "iopub.status.busy": "2025-05-14T04:14:11.139012Z",
          "iopub.status.idle": "2025-05-14T04:14:11.152504Z",
          "shell.execute_reply": "2025-05-14T04:14:11.151203Z"
        },
        "papermill": {
          "duration": 0.061335,
          "end_time": "2025-05-14T04:14:11.154011",
          "exception": false,
          "start_time": "2025-05-14T04:14:11.092676",
          "status": "completed"
        },
        "tags": [],
        "id": "9ef195ac",
        "outputId": "41255c9b-fd9e-4c7e-97f6-625574b7962b"
      },
      "outputs": [
        {
          "name": "stdout",
          "output_type": "stream",
          "text": [
            "Location          object\n",
            "MinTemp          float64\n",
            "MaxTemp          float64\n",
            "Rainfall         float64\n",
            "Evaporation      float64\n",
            "Sunshine         float64\n",
            "WindGustDir       object\n",
            "WindGustSpeed    float64\n",
            "WindDir9am        object\n",
            "WindDir3pm        object\n",
            "WindSpeed9am     float64\n",
            "WindSpeed3pm     float64\n",
            "Humidity9am      float64\n",
            "Humidity3pm      float64\n",
            "Pressure9am      float64\n",
            "Pressure3pm      float64\n",
            "Cloud9am           int64\n",
            "Cloud3pm           int64\n",
            "Temp9am          float64\n",
            "Temp3pm          float64\n",
            "RainToday          int64\n",
            "Year               int64\n",
            "Month              int64\n",
            "Day                int64\n",
            "dtype: object\n",
            "                                            Location    MinTemp    MaxTemp  \\\n",
            "0  <built-in method choice of numpy.random.mtrand...  23.120921  28.200201   \n",
            "\n",
            "    Rainfall  Evaporation  Sunshine  \\\n",
            "0  32.126036     7.437169  7.681409   \n",
            "\n",
            "                                         WindGustDir  WindGustSpeed  \\\n",
            "0  <built-in method choice of numpy.random.mtrand...      46.828783   \n",
            "\n",
            "                                          WindDir9am  \\\n",
            "0  <built-in method choice of numpy.random.mtrand...   \n",
            "\n",
            "                                          WindDir3pm  ...  Pressure9am  \\\n",
            "0  <built-in method choice of numpy.random.mtrand...  ...  1005.659998   \n",
            "\n",
            "   Pressure3pm  Cloud9am  Cloud3pm    Temp9am    Temp3pm  RainToday  Year  \\\n",
            "0   1026.13513         8         1  11.180893  37.462261          1  2000   \n",
            "\n",
            "   Month  Day  \n",
            "0      3   10  \n",
            "\n",
            "[1 rows x 24 columns]\n"
          ]
        }
      ],
      "source": [
        "print(newly_randomized_data.dtypes)\n",
        "print(newly_randomized_data.head())"
      ]
    },
    {
      "cell_type": "code",
      "execution_count": null,
      "id": "13e377d1",
      "metadata": {
        "execution": {
          "iopub.execute_input": "2025-05-14T04:14:11.248395Z",
          "iopub.status.busy": "2025-05-14T04:14:11.247994Z",
          "iopub.status.idle": "2025-05-14T04:14:11.255231Z",
          "shell.execute_reply": "2025-05-14T04:14:11.253828Z"
        },
        "papermill": {
          "duration": 0.056835,
          "end_time": "2025-05-14T04:14:11.256971",
          "exception": false,
          "start_time": "2025-05-14T04:14:11.200136",
          "status": "completed"
        },
        "tags": [],
        "id": "13e377d1",
        "outputId": "7deadad0-3253-4dba-b21f-9e4e7b64599f"
      },
      "outputs": [
        {
          "name": "stdout",
          "output_type": "stream",
          "text": [
            "Variables/columns in the new data: Index(['Location', 'MinTemp', 'MaxTemp', 'Rainfall', 'Evaporation', 'Sunshine',\n",
            "       'WindGustDir', 'WindGustSpeed', 'WindDir9am', 'WindDir3pm',\n",
            "       'WindSpeed9am', 'WindSpeed3pm', 'Humidity9am', 'Humidity3pm',\n",
            "       'Pressure9am', 'Pressure3pm', 'Cloud9am', 'Cloud3pm', 'Temp9am',\n",
            "       'Temp3pm', 'RainToday', 'Year', 'Month', 'Day'],\n",
            "      dtype='object')\n",
            "Variables/columns in the X_train: MultiIndex([(      'MinTemp',),\n",
            "            (      'MaxTemp',),\n",
            "            (     'Rainfall',),\n",
            "            (  'Evaporation',),\n",
            "            (     'Sunshine',),\n",
            "            ('WindGustSpeed',),\n",
            "            ( 'WindSpeed9am',),\n",
            "            ( 'WindSpeed3pm',),\n",
            "            (  'Humidity9am',),\n",
            "            (  'Humidity3pm',),\n",
            "            ...\n",
            "            (          'NNW',),\n",
            "            (           'NW',),\n",
            "            (            'S',),\n",
            "            (           'SE',),\n",
            "            (          'SSE',),\n",
            "            (          'SSW',),\n",
            "            (           'SW',),\n",
            "            (            'W',),\n",
            "            (          'WNW',),\n",
            "            (          'WSW',)],\n",
            "           length=118)\n"
          ]
        }
      ],
      "source": [
        "print(\"Variables/columns in the new data:\", newly_randomized_data.columns)\n",
        "print(\"Variables/columns in the X_train:\", X_train.columns)"
      ]
    },
    {
      "cell_type": "code",
      "execution_count": null,
      "id": "4892f00a",
      "metadata": {
        "execution": {
          "iopub.execute_input": "2025-05-14T04:14:11.352344Z",
          "iopub.status.busy": "2025-05-14T04:14:11.351943Z",
          "iopub.status.idle": "2025-05-14T04:14:11.356865Z",
          "shell.execute_reply": "2025-05-14T04:14:11.355726Z"
        },
        "papermill": {
          "duration": 0.05451,
          "end_time": "2025-05-14T04:14:11.358652",
          "exception": false,
          "start_time": "2025-05-14T04:14:11.304142",
          "status": "completed"
        },
        "tags": [],
        "id": "4892f00a",
        "outputId": "78ebfe79-7271-49cf-e070-394cd6b85944"
      },
      "outputs": [
        {
          "name": "stdout",
          "output_type": "stream",
          "text": [
            "<class 'pandas.core.frame.DataFrame'>\n",
            "(1, 24)\n"
          ]
        }
      ],
      "source": [
        "print(type(newly_randomized_data))\n",
        "print(newly_randomized_data.shape)"
      ]
    },
    {
      "cell_type": "code",
      "execution_count": null,
      "id": "376ed764",
      "metadata": {
        "execution": {
          "iopub.execute_input": "2025-05-14T04:14:11.452962Z",
          "iopub.status.busy": "2025-05-14T04:14:11.452615Z",
          "iopub.status.idle": "2025-05-14T04:14:11.457708Z",
          "shell.execute_reply": "2025-05-14T04:14:11.456609Z"
        },
        "papermill": {
          "duration": 0.054727,
          "end_time": "2025-05-14T04:14:11.459705",
          "exception": false,
          "start_time": "2025-05-14T04:14:11.404978",
          "status": "completed"
        },
        "tags": [],
        "id": "376ed764"
      },
      "outputs": [],
      "source": [
        "newly_randomized_data = pd.DataFrame(newly_randomized_data, columns=X_train.columns)"
      ]
    },
    {
      "cell_type": "code",
      "execution_count": null,
      "id": "2b7024d6",
      "metadata": {
        "execution": {
          "iopub.execute_input": "2025-05-14T04:14:11.553707Z",
          "iopub.status.busy": "2025-05-14T04:14:11.553338Z",
          "iopub.status.idle": "2025-05-14T04:14:11.560587Z",
          "shell.execute_reply": "2025-05-14T04:14:11.559413Z"
        },
        "papermill": {
          "duration": 0.055922,
          "end_time": "2025-05-14T04:14:11.562271",
          "exception": false,
          "start_time": "2025-05-14T04:14:11.506349",
          "status": "completed"
        },
        "tags": [],
        "id": "2b7024d6",
        "outputId": "88941140-14c5-43f0-9ecb-79a491f5f890"
      },
      "outputs": [
        {
          "name": "stdout",
          "output_type": "stream",
          "text": [
            "MinTemp        1\n",
            "MaxTemp        1\n",
            "Rainfall       1\n",
            "Evaporation    1\n",
            "Sunshine       1\n",
            "              ..\n",
            "SSW            1\n",
            "SW             1\n",
            "W              1\n",
            "WNW            1\n",
            "WSW            1\n",
            "Length: 118, dtype: int64\n"
          ]
        }
      ],
      "source": [
        "print(newly_randomized_data.isnull().sum())"
      ]
    },
    {
      "cell_type": "code",
      "execution_count": null,
      "id": "5825f36f",
      "metadata": {
        "execution": {
          "iopub.execute_input": "2025-05-14T04:14:11.655673Z",
          "iopub.status.busy": "2025-05-14T04:14:11.655334Z",
          "iopub.status.idle": "2025-05-14T04:14:12.579063Z",
          "shell.execute_reply": "2025-05-14T04:14:12.577984Z"
        },
        "papermill": {
          "duration": 0.972753,
          "end_time": "2025-05-14T04:14:12.580936",
          "exception": false,
          "start_time": "2025-05-14T04:14:11.608183",
          "status": "completed"
        },
        "tags": [],
        "id": "5825f36f"
      },
      "outputs": [],
      "source": [
        "# Filling NaN values of Numerical variables in the newly_randomized_data with median value\n",
        "for col in newly_randomized_data.select_dtypes(exclude=[\"object\"]).columns:\n",
        "    newly_randomized_data[col].fillna(X_train[col].median(), inplace=True)\n",
        "\n",
        "# Filling NaN values of Categorical variables in the newly_randomized_data with mode value\n",
        "for col in newly_randomized_data.select_dtypes(include=[\"object\"]).columns:\n",
        "    newly_randomized_data[col].fillna(X_train[col].mode()[0], inplace=True)"
      ]
    },
    {
      "cell_type": "code",
      "execution_count": null,
      "id": "3303d197",
      "metadata": {
        "execution": {
          "iopub.execute_input": "2025-05-14T04:14:12.676602Z",
          "iopub.status.busy": "2025-05-14T04:14:12.676253Z",
          "iopub.status.idle": "2025-05-14T04:14:12.683462Z",
          "shell.execute_reply": "2025-05-14T04:14:12.682116Z"
        },
        "papermill": {
          "duration": 0.057704,
          "end_time": "2025-05-14T04:14:12.685090",
          "exception": false,
          "start_time": "2025-05-14T04:14:12.627386",
          "status": "completed"
        },
        "tags": [],
        "id": "3303d197",
        "outputId": "b07c03f8-07b5-4b3e-a3c0-0cc5f525e350"
      },
      "outputs": [
        {
          "name": "stdout",
          "output_type": "stream",
          "text": [
            "MinTemp        0\n",
            "MaxTemp        0\n",
            "Rainfall       0\n",
            "Evaporation    0\n",
            "Sunshine       0\n",
            "              ..\n",
            "SSW            0\n",
            "SW             0\n",
            "W              0\n",
            "WNW            0\n",
            "WSW            0\n",
            "Length: 118, dtype: int64\n"
          ]
        }
      ],
      "source": [
        "print(newly_randomized_data.isnull().sum())"
      ]
    },
    {
      "cell_type": "code",
      "execution_count": null,
      "id": "ee760674",
      "metadata": {
        "execution": {
          "iopub.execute_input": "2025-05-14T04:14:12.781434Z",
          "iopub.status.busy": "2025-05-14T04:14:12.781040Z",
          "iopub.status.idle": "2025-05-14T04:14:12.789355Z",
          "shell.execute_reply": "2025-05-14T04:14:12.787871Z"
        },
        "papermill": {
          "duration": 0.057741,
          "end_time": "2025-05-14T04:14:12.790834",
          "exception": false,
          "start_time": "2025-05-14T04:14:12.733093",
          "status": "completed"
        },
        "tags": [],
        "id": "ee760674",
        "outputId": "7e129b79-14a1-434e-910d-3c85f09b9334"
      },
      "outputs": [
        {
          "name": "stdout",
          "output_type": "stream",
          "text": [
            "WILL IT RAIN TOMORROW? NO\n"
          ]
        }
      ],
      "source": [
        "prediction = model.predict(newly_randomized_data)\n",
        "print(\"WILL IT RAIN TOMORROW?\", \"YES\" if prediction[0] == 1 else \"NO\")"
      ]
    },
    {
      "cell_type": "markdown",
      "id": "ea106f63",
      "metadata": {
        "papermill": {
          "duration": 0.045557,
          "end_time": "2025-05-14T04:14:12.882607",
          "exception": false,
          "start_time": "2025-05-14T04:14:12.837050",
          "status": "completed"
        },
        "tags": [],
        "id": "ea106f63"
      },
      "source": [
        "It shows that the machine learning model with Logistic Regression can predict the weather.\n",
        "\n",
        "But sadly, I'll need another Australian weather dataset with the exact same X factors or variables/columns and Y factor (RainTomorrow) to identify whether the prediction was correct or not."
      ]
    },
    {
      "cell_type": "markdown",
      "id": "60e6c1bb",
      "metadata": {
        "papermill": {
          "duration": 0.04557,
          "end_time": "2025-05-14T04:14:12.975200",
          "exception": false,
          "start_time": "2025-05-14T04:14:12.929630",
          "status": "completed"
        },
        "tags": [],
        "id": "60e6c1bb"
      },
      "source": [
        "#### **BRIEF SUMMARY**\n",
        "\n",
        "In short, this project demonstrates a beginner-level machine learning workflow for predicting the weather on the next day (target variable, RainTomorrow - Yes or No) using weather dataset in Australia dated November 1st, 2007 until June 25th, 2017, sourced from Kaggle database. By using Logistic Regression model, I am expected to build a model that can predict the weather, the process also includes data preprocessing, training and evaluation.\n",
        "\n",
        "Here is the summary, to sum up all the steps and methods that I've used from the beginning until the end,\n",
        "\n",
        "### 1. Data Loading and Exploration\n",
        "- Loaded the dataset using pandas\n",
        "- Explored its structure using .info(), describe() and visualizations\n",
        "- Identified and addresed any mssing values\n",
        "\n",
        "### 2. Data Preprocessing\n",
        "- Converted the values of categorical variables/columns (e.g. RainToday) to numerical values using label encoding\n",
        "- Dropped irrelevant variables/columns and those with highly missing values\n",
        "- Selected relevant features (variables/columns) for training\n",
        "\n",
        "### 3. Feature Scaling\n",
        "- Applied standardization process using StandardScaler to normalize feature ranges\n",
        "- It is important for improving model performance and convergence\n",
        "\n",
        "### 4. Train-Test Split\n",
        "- Divided the dataset into training and testing sets with 80:20 ratio\n",
        "- Ensure the model generalizes well to unseen data\n",
        "\n",
        "### 5. Model Training\n",
        "- Used Logistic Regression as the classification algorithm\n",
        "- Trained on the stardadized training data\n",
        "\n",
        "### 6. Mode Evaluation\n",
        "- Evaluated performance using Accuracy Score, Confusion Matrix dan Classification Report\n",
        "- Visualized confusion matrix with seaborn\n",
        "\n",
        "I used Python, Pandas-NumPy (data handling), Matplotlib & seaborn (vizualization) and Scikit-learn (ML mode, preprocessing and evaluation).\n",
        "\n",
        "Therefore, what I have learned in this session are as following,\n",
        "- Building an end to end ML pipeline\n",
        "- The importance of data preprocessing (missing values, scaling, encoding)\n",
        "- Using Scikit-learn's model building and evaluation process.\n",
        "- Logistic Regression appliecation on binary/classification problems."
      ]
    },
    {
      "cell_type": "markdown",
      "id": "9903bee7",
      "metadata": {
        "papermill": {
          "duration": 0.045222,
          "end_time": "2025-05-14T04:14:13.066670",
          "exception": false,
          "start_time": "2025-05-14T04:14:13.021448",
          "status": "completed"
        },
        "tags": [],
        "id": "9903bee7"
      },
      "source": [
        "For the next data analysis training and portfolio, I'm going to try other classification models like Decision Tree, Random Forest and XGBoost.\n",
        "\n",
        "I also have to address class imbalance on the dataset and perform hyperparameter tuning using GridSearchCV."
      ]
    }
  ],
  "metadata": {
    "kaggle": {
      "accelerator": "none",
      "dataSources": [
        {
          "datasetId": 6012,
          "sourceId": 1733506,
          "sourceType": "datasetVersion"
        }
      ],
      "dockerImageVersionId": 30918,
      "isGpuEnabled": false,
      "isInternetEnabled": false,
      "language": "python",
      "sourceType": "notebook"
    },
    "kernelspec": {
      "display_name": "Python 3",
      "language": "python",
      "name": "python3"
    },
    "language_info": {
      "codemirror_mode": {
        "name": "ipython",
        "version": 3
      },
      "file_extension": ".py",
      "mimetype": "text/x-python",
      "name": "python",
      "nbconvert_exporter": "python",
      "pygments_lexer": "ipython3",
      "version": "3.10.12"
    },
    "papermill": {
      "default_parameters": {},
      "duration": 44.969104,
      "end_time": "2025-05-14T04:14:14.033767",
      "environment_variables": {},
      "exception": null,
      "input_path": "__notebook__.ipynb",
      "output_path": "__notebook__.ipynb",
      "parameters": {},
      "start_time": "2025-05-14T04:13:29.064663",
      "version": "2.6.0"
    },
    "colab": {
      "provenance": []
    }
  },
  "nbformat": 4,
  "nbformat_minor": 5
}